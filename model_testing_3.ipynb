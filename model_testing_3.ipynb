{
 "cells": [
  {
   "cell_type": "markdown",
   "id": "30cc7af7-5ca2-4964-9014-2001d1f6eca9",
   "metadata": {},
   "source": [
    "# Testing the model"
   ]
  },
  {
   "cell_type": "markdown",
   "id": "61e6f1fa-ae91-44aa-9584-494fc333388c",
   "metadata": {},
   "source": [
    "## Load the data"
   ]
  },
  {
   "cell_type": "code",
   "execution_count": 1,
   "id": "1f717e36-0512-47ef-8ec6-c3d7e477d771",
   "metadata": {},
   "outputs": [],
   "source": [
    "import os\n",
    "\n",
    "import h5py\n",
    "import numpy as np\n",
    "import torch\n",
    "from torch.utils.data import DataLoader, Dataset, random_split"
   ]
  },
  {
   "cell_type": "code",
   "execution_count": 2,
   "id": "7ee48cbb-2054-44cd-9474-0a4b7d54ed3f",
   "metadata": {},
   "outputs": [
    {
     "name": "stdout",
     "output_type": "stream",
     "text": [
      "<KeysViewHDF5 ['channels', 'data', 'info']>\n",
      "<KeysViewHDF5 ['channels', 'data', 'info']>\n"
     ]
    }
   ],
   "source": [
    "data_path = \"./CHB-MIT/processed\"\n",
    "ictal_path = os.path.join(data_path, \"ictal.h5\")\n",
    "interictal_path = os.path.join(data_path, \"interictal.h5\")\n",
    "\n",
    "ictal_file = h5py.File(ictal_path, \"r\")\n",
    "interictal_file = h5py.File(interictal_path, \"r\")\n",
    "\n",
    "print(ictal_file.keys())\n",
    "print(interictal_file.keys())"
   ]
  },
  {
   "cell_type": "markdown",
   "id": "f2a6f5c2-184b-4f0a-8772-a6cd0fa52ed5",
   "metadata": {},
   "source": [
    "## Convert data to tensor"
   ]
  },
  {
   "cell_type": "code",
   "execution_count": 3,
   "id": "62896f2e-72c7-4a80-8d31-2ebe862b8a6e",
   "metadata": {},
   "outputs": [
    {
     "name": "stdout",
     "output_type": "stream",
     "text": [
      "Ictal data shape torch.Size([2509, 22, 2048])\n",
      "Interictal data shape torch.Size([2509, 22, 2048])\n"
     ]
    }
   ],
   "source": [
    "ictal_np = np.array(ictal_file[\"data\"])\n",
    "interictal_np = np.array(interictal_file[\"data\"])\n",
    "\n",
    "ictal_data = torch.tensor(ictal_np, dtype=torch.float32)\n",
    "interictal_data = torch.tensor(interictal_np, dtype=torch.float32)\n",
    "\n",
    "print(f\"Ictal data shape {ictal_data.shape}\")\n",
    "print(f\"Interictal data shape {interictal_data.shape}\")"
   ]
  },
  {
   "cell_type": "markdown",
   "id": "e6ed5a17-2f6e-48ca-8c19-f5648004befb",
   "metadata": {},
   "source": [
    "## Create Dataset"
   ]
  },
  {
   "cell_type": "code",
   "execution_count": 4,
   "id": "fe6d8219-cc64-44c4-b8e5-cf9a7252471d",
   "metadata": {},
   "outputs": [],
   "source": [
    "class EEGDataset(Dataset):\n",
    "    def __init__(self, ictal_data, interictal_data):\n",
    "        # Ensure the data is converted to tensors\n",
    "        self.data = torch.cat([ictal_data, interictal_data])\n",
    "        # Labels for ictal and interictal data\n",
    "        self.labels = torch.cat(\n",
    "            [\n",
    "                torch.ones(len(ictal_data)),  # Ictal = 1\n",
    "                torch.zeros(len(interictal_data)),  # Interictal = 0\n",
    "            ]\n",
    "        )\n",
    "\n",
    "    def __len__(self):\n",
    "        return len(self.data)\n",
    "\n",
    "    def __getitem__(self, idx):\n",
    "        eeg_raw = self.data[idx]  # EEG data of shape (22, 2048)\n",
    "        label = self.labels[idx].long()  # Label: 0 (interictal) or 1 (ictal)\n",
    "        return eeg_raw, label"
   ]
  },
  {
   "cell_type": "code",
   "execution_count": 5,
   "id": "71b4407a-fb4e-4af2-9fb9-01a512f6f060",
   "metadata": {},
   "outputs": [],
   "source": [
    "dataset = EEGDataset(ictal_data, interictal_data)\n",
    "train_dataset, test_dataset, val_dataset = random_split(dataset, [0.7, 0.2, 0.1])\n",
    "\n",
    "train_loader = DataLoader(train_dataset, batch_size=32, shuffle=True)\n",
    "val_loader = DataLoader(val_dataset, batch_size=32, shuffle=False)\n",
    "test_loader = DataLoader(test_dataset, batch_size=32, shuffle=False)"
   ]
  },
  {
   "cell_type": "markdown",
   "id": "345f97c0-6a46-48ab-9d87-dc54faf03b4e",
   "metadata": {},
   "source": [
    "## Implement Encoder\n",
    "The encoder will implemented in a functional way"
   ]
  },
  {
   "cell_type": "code",
   "execution_count": 6,
   "id": "cbd37178-450b-4dc2-81ed-8adf308ad8cf",
   "metadata": {},
   "outputs": [],
   "source": [
    "# Function to encode continuous EEG data into spikes using rate coding\n",
    "def rate_coding(data, num_steps=100, gain=1.0):\n",
    "    \"\"\"\n",
    "    Convert continuous EEG data to spike trains using rate coding\n",
    "\n",
    "    Args:\n",
    "        data: EEG data tensor of shape (batch_size, channels, time_steps)\n",
    "        num_steps: Number of time steps for the spike train\n",
    "        gain: Scaling factor to control firing rate\n",
    "\n",
    "    Returns:\n",
    "        Spike tensor of shape (batch_size, channels, num_steps)\n",
    "    \"\"\"\n",
    "    # Normalize data to [0, 1] range for each channel\n",
    "    data_min = data.min(dim=2, keepdim=True)[0]\n",
    "    data_max = data.max(dim=2, keepdim=True)[0]\n",
    "    data_norm = (data - data_min) / (data_max - data_min + 1e-8)\n",
    "\n",
    "    # Scale by gain factor\n",
    "    data_norm = data_norm * gain\n",
    "\n",
    "    # Create spike tensor\n",
    "    spike_data = torch.zeros(\n",
    "        (data.shape[0], data.shape[1], num_steps), device=data.device\n",
    "    )\n",
    "\n",
    "    # Generate spikes using Bernoulli sampling\n",
    "    for t in range(num_steps):\n",
    "        spike_data[:, :, t] = torch.bernoulli(data_norm.mean(dim=2))\n",
    "\n",
    "    return spike_data"
   ]
  },
  {
   "cell_type": "markdown",
   "id": "b80ecb71-7087-4c20-bd5d-e238c484ae76",
   "metadata": {},
   "source": [
    "## Testing the model\n",
    "From this sample model the data is not time domain but the frequency so it need to do the sfft"
   ]
  },
  {
   "cell_type": "code",
   "execution_count": 7,
   "id": "c370d8ed-1d90-4d9f-aeae-cfb63d865717",
   "metadata": {},
   "outputs": [],
   "source": [
    "import snntorch as snn\n",
    "import torch\n",
    "import torch.nn as nn\n",
    "from snntorch import SConv2dLSTM, spikegen, surrogate\n",
    "from tqdm import tqdm"
   ]
  },
  {
   "cell_type": "code",
   "execution_count": 8,
   "id": "1621d4d7-2202-49ab-8b65-e5dab00315bf",
   "metadata": {},
   "outputs": [],
   "source": [
    "# Main training function with data loaders\n",
    "def train_spiking_eeg_with_loaders(\n",
    "    train_loader, val_loader, test_loader, num_epochs=10, num_steps=100\n",
    "):\n",
    "    \"\"\"\n",
    "    Train the Spiking EEG Network using DataLoaders\n",
    "\n",
    "    Args:\n",
    "        train_loader: DataLoader for training data\n",
    "        val_loader: DataLoader for validation data\n",
    "        test_loader: DataLoader for test data\n",
    "        num_epochs: Number of training epochs\n",
    "        num_steps: Number of time steps for spike encoding\n",
    "    \"\"\"\n",
    "    device = torch.device(\"cuda\" if torch.cuda.is_available() else \"cpu\")\n",
    "    print(f\"Using device: {device}\")"
   ]
  },
  {
   "cell_type": "code",
   "execution_count": 9,
   "id": "7b9b2154-7bb5-4965-895f-9228bb20475c",
   "metadata": {},
   "outputs": [],
   "source": [
    "def vectorized_stft(eeg_data, n_fft=256, hop_length=32, win_length=128):\n",
    "    \"\"\"\n",
    "    Apply STFT to batched EEG data using vectorization\n",
    "\n",
    "    Parameters:\n",
    "    -----------\n",
    "    eeg_data: torch.Tensor\n",
    "        EEG data with shape (batch, channels, time_steps)\n",
    "\n",
    "    Returns:\n",
    "    --------\n",
    "    stft_output: torch.Tensor\n",
    "        STFT output with shape (batch, channels, frequency_bins, time_frames)\n",
    "    \"\"\"\n",
    "    batch_size, n_channels, time_steps = eeg_data.shape\n",
    "    window = torch.hann_window(win_length)\n",
    "\n",
    "    # Reshape to (batch*channels, time_steps)\n",
    "    reshaped_data = eeg_data.reshape(-1, time_steps)\n",
    "\n",
    "    # Apply STFT to all channels at once\n",
    "    stft = torch.stft(\n",
    "        reshaped_data,\n",
    "        n_fft=n_fft,\n",
    "        hop_length=hop_length,\n",
    "        win_length=win_length,\n",
    "        window=window,\n",
    "        return_complex=True,\n",
    "    )\n",
    "\n",
    "    # Reshape back to (batch, channels, freq_bins, time_frames)\n",
    "    freq_bins, time_frames = stft.shape[1], stft.shape[2]\n",
    "    stft_output = stft.reshape(batch_size, n_channels, freq_bins, time_frames)\n",
    "\n",
    "    return stft_output"
   ]
  },
  {
   "cell_type": "code",
   "execution_count": 10,
   "id": "ae383bfa-c4f5-465f-8493-30d21d47eb99",
   "metadata": {},
   "outputs": [],
   "source": [
    "class STFTSpikeClassifier(nn.Module):\n",
    "    def __init__(self, input_channels=22):\n",
    "        super().__init__()\n",
    "\n",
    "        self.thr = 0.05\n",
    "        slope = 13.42287274232855\n",
    "        beta = 0.9181805491303656\n",
    "        p1 = 0.5083664100388336\n",
    "        p2 = 0.26260898840708335\n",
    "        spike_grad = surrogate.straight_through_estimator()\n",
    "        spike_grad2 = surrogate.fast_sigmoid(slope=slope)\n",
    "\n",
    "        # initialize layers - note input_channels=22 for your STFT data\n",
    "        self.lstm1 = SConv2dLSTM(\n",
    "            in_channels=input_channels,\n",
    "            out_channels=16,\n",
    "            kernel_size=3,\n",
    "            max_pool=(2, 1),\n",
    "            threshold=self.thr,\n",
    "            spike_grad=spike_grad,\n",
    "        )\n",
    "        self.lstm2 = SConv2dLSTM(\n",
    "            in_channels=16,\n",
    "            out_channels=32,\n",
    "            kernel_size=3,\n",
    "            max_pool=(2, 1),\n",
    "            threshold=self.thr,\n",
    "            spike_grad=spike_grad,\n",
    "        )\n",
    "        self.lstm3 = snn.SConv2dLSTM(\n",
    "            in_channels=32,\n",
    "            out_channels=64,\n",
    "            kernel_size=3,\n",
    "            max_pool=(2, 1),\n",
    "            threshold=self.thr,\n",
    "            spike_grad=spike_grad,\n",
    "        )\n",
    "\n",
    "        # Calculate the flattened size based on your frequency dimension (129)\n",
    "        # After 3 max-pooling layers (each dividing by 2), size becomes: 129 → 64 → 32 → 16\n",
    "        # For time dimension: 1 (we process one time step at a time)\n",
    "        self.fc1 = nn.Linear(\n",
    "            64 * 16 * 1, 512\n",
    "        )  # Adjust this based on actual output size\n",
    "\n",
    "        self.lif1 = snn.Leaky(beta=beta, spike_grad=spike_grad2, threshold=self.thr)\n",
    "        self.dropout1 = nn.Dropout(p1)\n",
    "        self.fc2 = nn.Linear(512, 2)  # Assuming binary classification\n",
    "        self.lif2 = snn.Leaky(beta=beta, spike_grad=spike_grad2, threshold=self.thr)\n",
    "        self.dropout2 = nn.Dropout(p2)\n",
    "\n",
    "    def forward(self, x):\n",
    "        # x shape: (batch, channels=22, freq=129, time=57)\n",
    "        batch_size = x.size(0)\n",
    "        time_steps = x.size(3)\n",
    "\n",
    "        # Initialize LIF state variables\n",
    "        mem4 = self.lif1.init_leaky()\n",
    "        mem5 = self.lif2.init_leaky()\n",
    "        syn1, mem1 = self.lstm1.init_sconv2dlstm()\n",
    "        syn2, mem2 = self.lstm2.init_sconv2dlstm()\n",
    "        syn3, mem3 = self.lstm3.init_sconv2dlstm()\n",
    "\n",
    "        # Output recording\n",
    "        spk5_rec = []\n",
    "        mem5_rec = []\n",
    "\n",
    "        # Process each time step\n",
    "        for step in range(time_steps):\n",
    "            # Extract the current time step and prepare input\n",
    "            # x_t shape: (batch, channels=22, freq=129, time=1)\n",
    "            x_t = x[:, :, :, step].unsqueeze(-1)\n",
    "\n",
    "            # Pass through SConv2dLSTM layers\n",
    "            spk1, syn1, mem1 = self.lstm1(x_t, syn1, mem1)\n",
    "            spk2, syn2, mem2 = self.lstm2(spk1, syn2, mem2)\n",
    "            spk3, syn3, mem3 = self.lstm3(spk2, syn3, mem3)\n",
    "\n",
    "            # Flatten and feed through fully connected layers\n",
    "            cur4 = self.dropout1(self.fc1(spk3.flatten(1)))\n",
    "            spk4, mem4 = self.lif1(cur4, mem4)\n",
    "\n",
    "            cur5 = self.dropout2(self.fc2(spk4))\n",
    "            spk5, mem5 = self.lif2(cur5, mem5)\n",
    "\n",
    "            # Record output spikes and membrane potentials\n",
    "            spk5_rec.append(spk5)\n",
    "            mem5_rec.append(mem5)\n",
    "\n",
    "        # Stack time steps\n",
    "        return torch.stack(spk5_rec), torch.stack(mem5_rec)"
   ]
  },
  {
   "cell_type": "code",
   "execution_count": 11,
   "id": "de6789f9-fa1e-4f17-8c28-dd1c084f1f50",
   "metadata": {},
   "outputs": [],
   "source": [
    "import snntorch.functional as SF\n",
    "\n",
    "# Initialize the network\n",
    "device = torch.device(\"cuda\")\n",
    "SNN_net = STFTSpikeClassifier().to(device)\n",
    "# Loss and optimizer\n",
    "criterion = SF.mse_count_loss()\n",
    "\n",
    "optimizer = torch.optim.AdamW(\n",
    "    SNN_net.parameters(),\n",
    "    lr=5e-5,  # Slightly higher than your current value but not too high\n",
    "    betas=(0.9, 0.999),\n",
    "    weight_decay=1e-5,  # Light regularization\n",
    ")\n",
    "\n",
    "# Add a learning rate scheduler\n",
    "scheduler = torch.optim.lr_scheduler.ReduceLROnPlateau(\n",
    "    optimizer, mode=\"min\", factor=0.5, patience=5, min_lr=1e-6\n",
    ")"
   ]
  },
  {
   "cell_type": "code",
   "execution_count": 12,
   "id": "a8fe71d9-e8c4-4385-adc1-36edcfaaed80",
   "metadata": {},
   "outputs": [
    {
     "name": "stderr",
     "output_type": "stream",
     "text": [
      "Epoch 1/50 [Train]: 100%|██████████| 110/110 [01:09<00:00,  1.59it/s, acc=64.7, loss=15]  \n",
      "Epoch 1/50 [Val]: 100%|██████████| 16/16 [00:01<00:00, 12.02it/s, acc=68.3, loss=14.9]\n"
     ]
    },
    {
     "name": "stdout",
     "output_type": "stream",
     "text": [
      "Saved best model with validation loss: 14.8673\n",
      "Epoch 1/50:\n",
      "Train Loss: 14.9815, Train Acc: 64.67%\n",
      "Val Loss: 14.8673, Val Acc: 68.26%\n",
      "------------------------------------------------------------\n"
     ]
    },
    {
     "name": "stderr",
     "output_type": "stream",
     "text": [
      "Epoch 2/50 [Train]: 100%|██████████| 110/110 [00:14<00:00,  7.78it/s, acc=68.9, loss=13.9]\n",
      "Epoch 2/50 [Val]: 100%|██████████| 16/16 [00:01<00:00, 12.14it/s, acc=69.7, loss=14.1]\n"
     ]
    },
    {
     "name": "stdout",
     "output_type": "stream",
     "text": [
      "Saved best model with validation loss: 14.1433\n",
      "Epoch 2/50:\n",
      "Train Loss: 13.8507, Train Acc: 68.86%\n",
      "Val Loss: 14.1433, Val Acc: 69.66%\n",
      "------------------------------------------------------------\n"
     ]
    },
    {
     "name": "stderr",
     "output_type": "stream",
     "text": [
      "Epoch 3/50 [Train]: 100%|██████████| 110/110 [00:16<00:00,  6.52it/s, acc=69.7, loss=13.6]\n",
      "Epoch 3/50 [Val]: 100%|██████████| 16/16 [00:01<00:00, 11.39it/s, acc=69.9, loss=14.3]\n"
     ]
    },
    {
     "name": "stdout",
     "output_type": "stream",
     "text": [
      "Epoch 3/50:\n",
      "Train Loss: 13.6011, Train Acc: 69.71%\n",
      "Val Loss: 14.2833, Val Acc: 69.86%\n",
      "------------------------------------------------------------\n"
     ]
    },
    {
     "name": "stderr",
     "output_type": "stream",
     "text": [
      "Epoch 4/50 [Train]: 100%|██████████| 110/110 [00:14<00:00,  7.46it/s, acc=70.3, loss=13.5]\n",
      "Epoch 4/50 [Val]: 100%|██████████| 16/16 [00:01<00:00, 11.29it/s, acc=71.5, loss=14]  \n"
     ]
    },
    {
     "name": "stdout",
     "output_type": "stream",
     "text": [
      "Saved best model with validation loss: 14.0339\n",
      "Epoch 4/50:\n",
      "Train Loss: 13.4758, Train Acc: 70.25%\n",
      "Val Loss: 14.0339, Val Acc: 71.46%\n",
      "------------------------------------------------------------\n"
     ]
    },
    {
     "name": "stderr",
     "output_type": "stream",
     "text": [
      "Epoch 5/50 [Train]: 100%|██████████| 110/110 [00:14<00:00,  7.53it/s, acc=70.9, loss=13.1]\n",
      "Epoch 5/50 [Val]: 100%|██████████| 16/16 [00:01<00:00, 11.08it/s, acc=70.9, loss=12.9]\n"
     ]
    },
    {
     "name": "stdout",
     "output_type": "stream",
     "text": [
      "Saved best model with validation loss: 12.8822\n",
      "Epoch 5/50:\n",
      "Train Loss: 13.0836, Train Acc: 70.88%\n",
      "Val Loss: 12.8822, Val Acc: 70.86%\n",
      "------------------------------------------------------------\n"
     ]
    },
    {
     "name": "stderr",
     "output_type": "stream",
     "text": [
      "Epoch 6/50 [Train]: 100%|██████████| 110/110 [00:14<00:00,  7.52it/s, acc=71.6, loss=13.1]\n",
      "Epoch 6/50 [Val]: 100%|██████████| 16/16 [00:01<00:00, 11.73it/s, acc=71.9, loss=12.7]\n"
     ]
    },
    {
     "name": "stdout",
     "output_type": "stream",
     "text": [
      "Saved best model with validation loss: 12.6677\n",
      "Epoch 6/50:\n",
      "Train Loss: 13.1262, Train Acc: 71.62%\n",
      "Val Loss: 12.6677, Val Acc: 71.86%\n",
      "------------------------------------------------------------\n"
     ]
    },
    {
     "name": "stderr",
     "output_type": "stream",
     "text": [
      "Epoch 7/50 [Train]: 100%|██████████| 110/110 [00:14<00:00,  7.40it/s, acc=72.2, loss=12.6]\n",
      "Epoch 7/50 [Val]: 100%|██████████| 16/16 [00:01<00:00, 11.05it/s, acc=72.1, loss=14]  \n"
     ]
    },
    {
     "name": "stdout",
     "output_type": "stream",
     "text": [
      "Epoch 7/50:\n",
      "Train Loss: 12.6216, Train Acc: 72.22%\n",
      "Val Loss: 13.9867, Val Acc: 72.06%\n",
      "------------------------------------------------------------\n"
     ]
    },
    {
     "name": "stderr",
     "output_type": "stream",
     "text": [
      "Epoch 8/50 [Train]: 100%|██████████| 110/110 [00:15<00:00,  7.26it/s, acc=72.4, loss=12.7]\n",
      "Epoch 8/50 [Val]: 100%|██████████| 16/16 [00:01<00:00, 10.82it/s, acc=72.7, loss=12.9]\n"
     ]
    },
    {
     "name": "stdout",
     "output_type": "stream",
     "text": [
      "Epoch 8/50:\n",
      "Train Loss: 12.7398, Train Acc: 72.45%\n",
      "Val Loss: 12.9470, Val Acc: 72.65%\n",
      "------------------------------------------------------------\n"
     ]
    },
    {
     "name": "stderr",
     "output_type": "stream",
     "text": [
      "Epoch 9/50 [Train]: 100%|██████████| 110/110 [00:15<00:00,  7.28it/s, acc=73, loss=12.4]  \n",
      "Epoch 9/50 [Val]: 100%|██████████| 16/16 [00:01<00:00, 11.42it/s, acc=72.7, loss=13.6]\n"
     ]
    },
    {
     "name": "stdout",
     "output_type": "stream",
     "text": [
      "Epoch 9/50:\n",
      "Train Loss: 12.4177, Train Acc: 72.96%\n",
      "Val Loss: 13.6220, Val Acc: 72.65%\n",
      "------------------------------------------------------------\n"
     ]
    },
    {
     "name": "stderr",
     "output_type": "stream",
     "text": [
      "Epoch 10/50 [Train]: 100%|██████████| 110/110 [00:14<00:00,  7.37it/s, acc=73.9, loss=12.2]\n",
      "Epoch 10/50 [Val]: 100%|██████████| 16/16 [00:01<00:00, 11.92it/s, acc=73.5, loss=12.2]\n"
     ]
    },
    {
     "name": "stdout",
     "output_type": "stream",
     "text": [
      "Saved best model with validation loss: 12.1774\n",
      "Epoch 10/50:\n",
      "Train Loss: 12.2070, Train Acc: 73.90%\n",
      "Val Loss: 12.1774, Val Acc: 73.45%\n",
      "------------------------------------------------------------\n"
     ]
    },
    {
     "name": "stderr",
     "output_type": "stream",
     "text": [
      "Epoch 11/50 [Train]: 100%|██████████| 110/110 [00:15<00:00,  7.10it/s, acc=74.1, loss=12.2]\n",
      "Epoch 11/50 [Val]: 100%|██████████| 16/16 [00:01<00:00, 11.76it/s, acc=72.7, loss=11.8]\n"
     ]
    },
    {
     "name": "stdout",
     "output_type": "stream",
     "text": [
      "Saved best model with validation loss: 11.7786\n",
      "Epoch 11/50:\n",
      "Train Loss: 12.1571, Train Acc: 74.07%\n",
      "Val Loss: 11.7786, Val Acc: 72.65%\n",
      "------------------------------------------------------------\n"
     ]
    },
    {
     "name": "stderr",
     "output_type": "stream",
     "text": [
      "Epoch 12/50 [Train]: 100%|██████████| 110/110 [00:15<00:00,  7.30it/s, acc=73.4, loss=12.3]\n",
      "Epoch 12/50 [Val]: 100%|██████████| 16/16 [00:01<00:00, 11.31it/s, acc=73.3, loss=12.7]\n"
     ]
    },
    {
     "name": "stdout",
     "output_type": "stream",
     "text": [
      "Epoch 12/50:\n",
      "Train Loss: 12.3378, Train Acc: 73.38%\n",
      "Val Loss: 12.7331, Val Acc: 73.25%\n",
      "------------------------------------------------------------\n"
     ]
    },
    {
     "name": "stderr",
     "output_type": "stream",
     "text": [
      "Epoch 13/50 [Train]: 100%|██████████| 110/110 [00:15<00:00,  7.21it/s, acc=73.7, loss=12.2]\n",
      "Epoch 13/50 [Val]: 100%|██████████| 16/16 [00:01<00:00, 10.79it/s, acc=73.9, loss=11.6]\n"
     ]
    },
    {
     "name": "stdout",
     "output_type": "stream",
     "text": [
      "Saved best model with validation loss: 11.5878\n",
      "Epoch 13/50:\n",
      "Train Loss: 12.2176, Train Acc: 73.73%\n",
      "Val Loss: 11.5878, Val Acc: 73.85%\n",
      "------------------------------------------------------------\n"
     ]
    },
    {
     "name": "stderr",
     "output_type": "stream",
     "text": [
      "Epoch 14/50 [Train]: 100%|██████████| 110/110 [00:15<00:00,  7.27it/s, acc=73.4, loss=12.3]\n",
      "Epoch 14/50 [Val]: 100%|██████████| 16/16 [00:01<00:00, 11.74it/s, acc=72.9, loss=11.8]\n"
     ]
    },
    {
     "name": "stdout",
     "output_type": "stream",
     "text": [
      "Epoch 14/50:\n",
      "Train Loss: 12.2628, Train Acc: 73.38%\n",
      "Val Loss: 11.8071, Val Acc: 72.85%\n",
      "------------------------------------------------------------\n"
     ]
    },
    {
     "name": "stderr",
     "output_type": "stream",
     "text": [
      "Epoch 15/50 [Train]: 100%|██████████| 110/110 [00:15<00:00,  7.22it/s, acc=73.7, loss=12.3]\n",
      "Epoch 15/50 [Val]: 100%|██████████| 16/16 [00:01<00:00, 11.57it/s, acc=73.3, loss=13.2]\n"
     ]
    },
    {
     "name": "stdout",
     "output_type": "stream",
     "text": [
      "Epoch 15/50:\n",
      "Train Loss: 12.2842, Train Acc: 73.73%\n",
      "Val Loss: 13.1721, Val Acc: 73.25%\n",
      "------------------------------------------------------------\n"
     ]
    },
    {
     "name": "stderr",
     "output_type": "stream",
     "text": [
      "Epoch 16/50 [Train]: 100%|██████████| 110/110 [00:20<00:00,  5.40it/s, acc=74.8, loss=11.9]\n",
      "Epoch 16/50 [Val]: 100%|██████████| 16/16 [00:01<00:00, 11.86it/s, acc=73.3, loss=12.5]\n"
     ]
    },
    {
     "name": "stdout",
     "output_type": "stream",
     "text": [
      "Epoch 16/50:\n",
      "Train Loss: 11.8804, Train Acc: 74.78%\n",
      "Val Loss: 12.4940, Val Acc: 73.25%\n",
      "------------------------------------------------------------\n"
     ]
    },
    {
     "name": "stderr",
     "output_type": "stream",
     "text": [
      "Epoch 17/50 [Train]: 100%|██████████| 110/110 [00:14<00:00,  7.73it/s, acc=74.5, loss=11.9]\n",
      "Epoch 17/50 [Val]: 100%|██████████| 16/16 [00:01<00:00, 12.12it/s, acc=74.7, loss=12]  \n"
     ]
    },
    {
     "name": "stdout",
     "output_type": "stream",
     "text": [
      "Epoch 17/50:\n",
      "Train Loss: 11.9344, Train Acc: 74.47%\n",
      "Val Loss: 11.9832, Val Acc: 74.65%\n",
      "------------------------------------------------------------\n"
     ]
    },
    {
     "name": "stderr",
     "output_type": "stream",
     "text": [
      "Epoch 18/50 [Train]: 100%|██████████| 110/110 [00:14<00:00,  7.73it/s, acc=73.4, loss=12.1]\n",
      "Epoch 18/50 [Val]: 100%|██████████| 16/16 [00:01<00:00, 12.03it/s, acc=74.3, loss=12.4]\n"
     ]
    },
    {
     "name": "stdout",
     "output_type": "stream",
     "text": [
      "Epoch 18/50:\n",
      "Train Loss: 12.1259, Train Acc: 73.41%\n",
      "Val Loss: 12.3835, Val Acc: 74.25%\n",
      "------------------------------------------------------------\n"
     ]
    },
    {
     "name": "stderr",
     "output_type": "stream",
     "text": [
      "Epoch 19/50 [Train]: 100%|██████████| 110/110 [00:14<00:00,  7.71it/s, acc=74.3, loss=11.8]\n",
      "Epoch 19/50 [Val]: 100%|██████████| 16/16 [00:01<00:00, 12.04it/s, acc=73.7, loss=11.8]\n"
     ]
    },
    {
     "name": "stdout",
     "output_type": "stream",
     "text": [
      "Epoch 19/50:\n",
      "Train Loss: 11.8427, Train Acc: 74.30%\n",
      "Val Loss: 11.8344, Val Acc: 73.65%\n",
      "------------------------------------------------------------\n"
     ]
    },
    {
     "name": "stderr",
     "output_type": "stream",
     "text": [
      "Epoch 20/50 [Train]: 100%|██████████| 110/110 [00:18<00:00,  5.92it/s, acc=74.5, loss=12]  \n",
      "Epoch 20/50 [Val]: 100%|██████████| 16/16 [00:44<00:00,  2.80s/it, acc=73.9, loss=12.8]\n"
     ]
    },
    {
     "name": "stdout",
     "output_type": "stream",
     "text": [
      "Epoch 20/50:\n",
      "Train Loss: 11.9969, Train Acc: 74.49%\n",
      "Val Loss: 12.7548, Val Acc: 73.85%\n",
      "------------------------------------------------------------\n"
     ]
    },
    {
     "name": "stderr",
     "output_type": "stream",
     "text": [
      "Epoch 21/50 [Train]: 100%|██████████| 110/110 [00:14<00:00,  7.84it/s, acc=74.2, loss=11.9]\n",
      "Epoch 21/50 [Val]: 100%|██████████| 16/16 [00:01<00:00, 11.57it/s, acc=73.9, loss=11.9]\n"
     ]
    },
    {
     "name": "stdout",
     "output_type": "stream",
     "text": [
      "Epoch 21/50:\n",
      "Train Loss: 11.8816, Train Acc: 74.15%\n",
      "Val Loss: 11.9119, Val Acc: 73.85%\n",
      "------------------------------------------------------------\n"
     ]
    },
    {
     "name": "stderr",
     "output_type": "stream",
     "text": [
      "Epoch 22/50 [Train]: 100%|██████████| 110/110 [00:14<00:00,  7.69it/s, acc=75.4, loss=11.9]\n",
      "Epoch 22/50 [Val]: 100%|██████████| 16/16 [00:01<00:00, 11.45it/s, acc=74.1, loss=12]  \n"
     ]
    },
    {
     "name": "stdout",
     "output_type": "stream",
     "text": [
      "Epoch 22/50:\n",
      "Train Loss: 11.8525, Train Acc: 75.38%\n",
      "Val Loss: 12.0236, Val Acc: 74.05%\n",
      "------------------------------------------------------------\n"
     ]
    },
    {
     "name": "stderr",
     "output_type": "stream",
     "text": [
      "Epoch 23/50 [Train]: 100%|██████████| 110/110 [00:14<00:00,  7.78it/s, acc=75, loss=11.7]  \n",
      "Epoch 23/50 [Val]: 100%|██████████| 16/16 [00:01<00:00, 12.27it/s, acc=75.6, loss=11.5]\n"
     ]
    },
    {
     "name": "stdout",
     "output_type": "stream",
     "text": [
      "Saved best model with validation loss: 11.4580\n",
      "Epoch 23/50:\n",
      "Train Loss: 11.6656, Train Acc: 74.95%\n",
      "Val Loss: 11.4580, Val Acc: 75.65%\n",
      "------------------------------------------------------------\n"
     ]
    },
    {
     "name": "stderr",
     "output_type": "stream",
     "text": [
      "Epoch 24/50 [Train]: 100%|██████████| 110/110 [00:14<00:00,  7.77it/s, acc=73.7, loss=11.8]\n",
      "Epoch 24/50 [Val]: 100%|██████████| 16/16 [00:01<00:00, 12.09it/s, acc=75, loss=11.8]  \n"
     ]
    },
    {
     "name": "stdout",
     "output_type": "stream",
     "text": [
      "Epoch 24/50:\n",
      "Train Loss: 11.8055, Train Acc: 73.67%\n",
      "Val Loss: 11.7886, Val Acc: 75.05%\n",
      "------------------------------------------------------------\n"
     ]
    },
    {
     "name": "stderr",
     "output_type": "stream",
     "text": [
      "Epoch 25/50 [Train]: 100%|██████████| 110/110 [00:14<00:00,  7.78it/s, acc=74.9, loss=11.7]\n",
      "Epoch 25/50 [Val]: 100%|██████████| 16/16 [00:01<00:00, 12.38it/s, acc=75.2, loss=11.8]\n"
     ]
    },
    {
     "name": "stdout",
     "output_type": "stream",
     "text": [
      "Epoch 25/50:\n",
      "Train Loss: 11.7129, Train Acc: 74.86%\n",
      "Val Loss: 11.8039, Val Acc: 75.25%\n",
      "------------------------------------------------------------\n"
     ]
    },
    {
     "name": "stderr",
     "output_type": "stream",
     "text": [
      "Epoch 26/50 [Train]: 100%|██████████| 110/110 [00:14<00:00,  7.60it/s, acc=74.3, loss=11.9]\n",
      "Epoch 26/50 [Val]: 100%|██████████| 16/16 [00:01<00:00, 12.57it/s, acc=74.5, loss=12]  \n"
     ]
    },
    {
     "name": "stdout",
     "output_type": "stream",
     "text": [
      "Epoch 26/50:\n",
      "Train Loss: 11.8639, Train Acc: 74.27%\n",
      "Val Loss: 12.0264, Val Acc: 74.45%\n",
      "------------------------------------------------------------\n"
     ]
    },
    {
     "name": "stderr",
     "output_type": "stream",
     "text": [
      "Epoch 27/50 [Train]: 100%|██████████| 110/110 [00:14<00:00,  7.72it/s, acc=73.7, loss=11.8]\n",
      "Epoch 27/50 [Val]: 100%|██████████| 16/16 [00:01<00:00, 11.36it/s, acc=74.1, loss=12.4]\n"
     ]
    },
    {
     "name": "stdout",
     "output_type": "stream",
     "text": [
      "Epoch 27/50:\n",
      "Train Loss: 11.7953, Train Acc: 73.67%\n",
      "Val Loss: 12.3827, Val Acc: 74.05%\n",
      "------------------------------------------------------------\n"
     ]
    },
    {
     "name": "stderr",
     "output_type": "stream",
     "text": [
      "Epoch 28/50 [Train]: 100%|██████████| 110/110 [00:16<00:00,  6.50it/s, acc=74.9, loss=11.5]\n",
      "Epoch 28/50 [Val]: 100%|██████████| 16/16 [00:01<00:00,  9.82it/s, acc=75, loss=11.3]  \n"
     ]
    },
    {
     "name": "stdout",
     "output_type": "stream",
     "text": [
      "Saved best model with validation loss: 11.2944\n",
      "Epoch 28/50:\n",
      "Train Loss: 11.5457, Train Acc: 74.89%\n",
      "Val Loss: 11.2944, Val Acc: 75.05%\n",
      "------------------------------------------------------------\n"
     ]
    },
    {
     "name": "stderr",
     "output_type": "stream",
     "text": [
      "Epoch 29/50 [Train]: 100%|██████████| 110/110 [00:16<00:00,  6.63it/s, acc=75.3, loss=11.3]\n",
      "Epoch 29/50 [Val]: 100%|██████████| 16/16 [00:01<00:00, 11.64it/s, acc=74.9, loss=12]  \n"
     ]
    },
    {
     "name": "stdout",
     "output_type": "stream",
     "text": [
      "Epoch 29/50:\n",
      "Train Loss: 11.2995, Train Acc: 75.35%\n",
      "Val Loss: 12.0312, Val Acc: 74.85%\n",
      "------------------------------------------------------------\n"
     ]
    },
    {
     "name": "stderr",
     "output_type": "stream",
     "text": [
      "Epoch 30/50 [Train]: 100%|██████████| 110/110 [00:14<00:00,  7.44it/s, acc=74.6, loss=11.8]\n",
      "Epoch 30/50 [Val]: 100%|██████████| 16/16 [00:01<00:00, 12.16it/s, acc=74.7, loss=12.1]\n"
     ]
    },
    {
     "name": "stdout",
     "output_type": "stream",
     "text": [
      "Epoch 30/50:\n",
      "Train Loss: 11.8284, Train Acc: 74.61%\n",
      "Val Loss: 12.0997, Val Acc: 74.65%\n",
      "------------------------------------------------------------\n"
     ]
    },
    {
     "name": "stderr",
     "output_type": "stream",
     "text": [
      "Epoch 31/50 [Train]: 100%|██████████| 110/110 [00:14<00:00,  7.52it/s, acc=74.9, loss=11.4]\n",
      "Epoch 31/50 [Val]: 100%|██████████| 16/16 [00:01<00:00, 11.93it/s, acc=74.5, loss=11.5]\n"
     ]
    },
    {
     "name": "stdout",
     "output_type": "stream",
     "text": [
      "Epoch 31/50:\n",
      "Train Loss: 11.4434, Train Acc: 74.86%\n",
      "Val Loss: 11.5307, Val Acc: 74.45%\n",
      "------------------------------------------------------------\n"
     ]
    },
    {
     "name": "stderr",
     "output_type": "stream",
     "text": [
      "Epoch 32/50 [Train]: 100%|██████████| 110/110 [00:14<00:00,  7.50it/s, acc=74, loss=11.6]  \n",
      "Epoch 32/50 [Val]: 100%|██████████| 16/16 [00:01<00:00, 11.33it/s, acc=74.1, loss=11.8]\n"
     ]
    },
    {
     "name": "stdout",
     "output_type": "stream",
     "text": [
      "Epoch 32/50:\n",
      "Train Loss: 11.6300, Train Acc: 73.98%\n",
      "Val Loss: 11.7915, Val Acc: 74.05%\n",
      "------------------------------------------------------------\n"
     ]
    },
    {
     "name": "stderr",
     "output_type": "stream",
     "text": [
      "Epoch 33/50 [Train]: 100%|██████████| 110/110 [00:14<00:00,  7.81it/s, acc=75.4, loss=11.4]\n",
      "Epoch 33/50 [Val]: 100%|██████████| 16/16 [00:01<00:00, 11.39it/s, acc=73.9, loss=11.8]\n"
     ]
    },
    {
     "name": "stdout",
     "output_type": "stream",
     "text": [
      "Epoch 33/50:\n",
      "Train Loss: 11.3851, Train Acc: 75.41%\n",
      "Val Loss: 11.8426, Val Acc: 73.85%\n",
      "------------------------------------------------------------\n"
     ]
    },
    {
     "name": "stderr",
     "output_type": "stream",
     "text": [
      "Epoch 34/50 [Train]: 100%|██████████| 110/110 [00:14<00:00,  7.70it/s, acc=75.4, loss=11.5]\n",
      "Epoch 34/50 [Val]: 100%|██████████| 16/16 [00:01<00:00, 11.84it/s, acc=74.9, loss=11.9]\n"
     ]
    },
    {
     "name": "stdout",
     "output_type": "stream",
     "text": [
      "Epoch 34/50:\n",
      "Train Loss: 11.5419, Train Acc: 75.38%\n",
      "Val Loss: 11.9076, Val Acc: 74.85%\n",
      "------------------------------------------------------------\n"
     ]
    },
    {
     "name": "stderr",
     "output_type": "stream",
     "text": [
      "Epoch 35/50 [Train]: 100%|██████████| 110/110 [00:14<00:00,  7.74it/s, acc=75.8, loss=11.4]\n",
      "Epoch 35/50 [Val]: 100%|██████████| 16/16 [00:01<00:00, 11.76it/s, acc=74.5, loss=11.6]\n"
     ]
    },
    {
     "name": "stdout",
     "output_type": "stream",
     "text": [
      "Epoch 35/50:\n",
      "Train Loss: 11.3965, Train Acc: 75.78%\n",
      "Val Loss: 11.6353, Val Acc: 74.45%\n",
      "------------------------------------------------------------\n"
     ]
    },
    {
     "name": "stderr",
     "output_type": "stream",
     "text": [
      "Epoch 36/50 [Train]: 100%|██████████| 110/110 [00:14<00:00,  7.75it/s, acc=75.2, loss=11.5]\n",
      "Epoch 36/50 [Val]: 100%|██████████| 16/16 [00:01<00:00, 11.49it/s, acc=74.5, loss=11.7]\n"
     ]
    },
    {
     "name": "stdout",
     "output_type": "stream",
     "text": [
      "Epoch 36/50:\n",
      "Train Loss: 11.5359, Train Acc: 75.21%\n",
      "Val Loss: 11.6687, Val Acc: 74.45%\n",
      "------------------------------------------------------------\n"
     ]
    },
    {
     "name": "stderr",
     "output_type": "stream",
     "text": [
      "Epoch 37/50 [Train]: 100%|██████████| 110/110 [00:14<00:00,  7.59it/s, acc=75, loss=11.2]  \n",
      "Epoch 37/50 [Val]: 100%|██████████| 16/16 [00:01<00:00, 11.82it/s, acc=74.7, loss=11.8]\n"
     ]
    },
    {
     "name": "stdout",
     "output_type": "stream",
     "text": [
      "Epoch 37/50:\n",
      "Train Loss: 11.2179, Train Acc: 74.95%\n",
      "Val Loss: 11.8181, Val Acc: 74.65%\n",
      "------------------------------------------------------------\n"
     ]
    },
    {
     "name": "stderr",
     "output_type": "stream",
     "text": [
      "Epoch 38/50 [Train]: 100%|██████████| 110/110 [00:14<00:00,  7.60it/s, acc=76.3, loss=11.3]\n",
      "Epoch 38/50 [Val]: 100%|██████████| 16/16 [00:01<00:00, 11.76it/s, acc=74.5, loss=12]  \n"
     ]
    },
    {
     "name": "stdout",
     "output_type": "stream",
     "text": [
      "Epoch 38/50:\n",
      "Train Loss: 11.2679, Train Acc: 76.29%\n",
      "Val Loss: 12.0106, Val Acc: 74.45%\n",
      "------------------------------------------------------------\n"
     ]
    },
    {
     "name": "stderr",
     "output_type": "stream",
     "text": [
      "Epoch 39/50 [Train]: 100%|██████████| 110/110 [00:14<00:00,  7.39it/s, acc=76.1, loss=11.2]\n",
      "Epoch 39/50 [Val]: 100%|██████████| 16/16 [00:02<00:00,  7.88it/s, acc=75.2, loss=11.4]\n"
     ]
    },
    {
     "name": "stdout",
     "output_type": "stream",
     "text": [
      "Epoch 39/50:\n",
      "Train Loss: 11.2395, Train Acc: 76.06%\n",
      "Val Loss: 11.3543, Val Acc: 75.25%\n",
      "------------------------------------------------------------\n"
     ]
    },
    {
     "name": "stderr",
     "output_type": "stream",
     "text": [
      "Epoch 40/50 [Train]: 100%|██████████| 110/110 [00:14<00:00,  7.80it/s, acc=75.2, loss=11.4]\n",
      "Epoch 40/50 [Val]: 100%|██████████| 16/16 [00:01<00:00, 11.56it/s, acc=73.1, loss=12.2]\n"
     ]
    },
    {
     "name": "stdout",
     "output_type": "stream",
     "text": [
      "Epoch 40/50:\n",
      "Train Loss: 11.3709, Train Acc: 75.18%\n",
      "Val Loss: 12.1897, Val Acc: 73.05%\n",
      "------------------------------------------------------------\n"
     ]
    },
    {
     "name": "stderr",
     "output_type": "stream",
     "text": [
      "Epoch 41/50 [Train]: 100%|██████████| 110/110 [00:16<00:00,  6.48it/s, acc=75.5, loss=11.4]\n",
      "Epoch 41/50 [Val]: 100%|██████████| 16/16 [00:01<00:00, 12.17it/s, acc=74.7, loss=11.7]\n"
     ]
    },
    {
     "name": "stdout",
     "output_type": "stream",
     "text": [
      "Epoch 41/50:\n",
      "Train Loss: 11.4070, Train Acc: 75.46%\n",
      "Val Loss: 11.6798, Val Acc: 74.65%\n",
      "------------------------------------------------------------\n"
     ]
    },
    {
     "name": "stderr",
     "output_type": "stream",
     "text": [
      "Epoch 42/50 [Train]: 100%|██████████| 110/110 [00:28<00:00,  3.83it/s, acc=75.6, loss=11.3]\n",
      "Epoch 42/50 [Val]: 100%|██████████| 16/16 [00:04<00:00,  3.57it/s, acc=74.3, loss=11.9]\n"
     ]
    },
    {
     "name": "stdout",
     "output_type": "stream",
     "text": [
      "Epoch 42/50:\n",
      "Train Loss: 11.3256, Train Acc: 75.58%\n",
      "Val Loss: 11.8962, Val Acc: 74.25%\n",
      "------------------------------------------------------------\n"
     ]
    },
    {
     "name": "stderr",
     "output_type": "stream",
     "text": [
      "Epoch 43/50 [Train]: 100%|██████████| 110/110 [00:39<00:00,  2.79it/s, acc=75.5, loss=11.5]\n",
      "Epoch 43/50 [Val]: 100%|██████████| 16/16 [00:04<00:00,  3.25it/s, acc=74.5, loss=11.9]\n"
     ]
    },
    {
     "name": "stdout",
     "output_type": "stream",
     "text": [
      "Epoch 43/50:\n",
      "Train Loss: 11.4581, Train Acc: 75.49%\n",
      "Val Loss: 11.9453, Val Acc: 74.45%\n",
      "------------------------------------------------------------\n"
     ]
    },
    {
     "name": "stderr",
     "output_type": "stream",
     "text": [
      "Epoch 44/50 [Train]: 100%|██████████| 110/110 [00:39<00:00,  2.75it/s, acc=75.1, loss=11.4]\n",
      "Epoch 44/50 [Val]: 100%|██████████| 16/16 [00:04<00:00,  3.34it/s, acc=75.8, loss=11.3]\n"
     ]
    },
    {
     "name": "stdout",
     "output_type": "stream",
     "text": [
      "Epoch 44/50:\n",
      "Train Loss: 11.4271, Train Acc: 75.06%\n",
      "Val Loss: 11.3495, Val Acc: 75.85%\n",
      "------------------------------------------------------------\n"
     ]
    },
    {
     "name": "stderr",
     "output_type": "stream",
     "text": [
      "Epoch 45/50 [Train]: 100%|██████████| 110/110 [00:37<00:00,  2.93it/s, acc=75.8, loss=11.3]\n",
      "Epoch 45/50 [Val]: 100%|██████████| 16/16 [00:05<00:00,  3.19it/s, acc=74.9, loss=12]  \n"
     ]
    },
    {
     "name": "stdout",
     "output_type": "stream",
     "text": [
      "Epoch 45/50:\n",
      "Train Loss: 11.3490, Train Acc: 75.78%\n",
      "Val Loss: 11.9806, Val Acc: 74.85%\n",
      "------------------------------------------------------------\n"
     ]
    },
    {
     "name": "stderr",
     "output_type": "stream",
     "text": [
      "Epoch 46/50 [Train]: 100%|██████████| 110/110 [00:39<00:00,  2.76it/s, acc=75.4, loss=11.4]\n",
      "Epoch 46/50 [Val]: 100%|██████████| 16/16 [00:09<00:00,  1.62it/s, acc=74.9, loss=11.4]\n"
     ]
    },
    {
     "name": "stdout",
     "output_type": "stream",
     "text": [
      "Epoch 46/50:\n",
      "Train Loss: 11.4372, Train Acc: 75.43%\n",
      "Val Loss: 11.4173, Val Acc: 74.85%\n",
      "------------------------------------------------------------\n"
     ]
    },
    {
     "name": "stderr",
     "output_type": "stream",
     "text": [
      "Epoch 47/50 [Train]: 100%|██████████| 110/110 [00:40<00:00,  2.72it/s, acc=75.5, loss=11.2]\n",
      "Epoch 47/50 [Val]: 100%|██████████| 16/16 [00:07<00:00,  2.19it/s, acc=75, loss=11.7]  \n"
     ]
    },
    {
     "name": "stdout",
     "output_type": "stream",
     "text": [
      "Epoch 47/50:\n",
      "Train Loss: 11.2335, Train Acc: 75.49%\n",
      "Val Loss: 11.7030, Val Acc: 75.05%\n",
      "------------------------------------------------------------\n"
     ]
    },
    {
     "name": "stderr",
     "output_type": "stream",
     "text": [
      "Epoch 48/50 [Train]: 100%|██████████| 110/110 [00:40<00:00,  2.74it/s, acc=74.7, loss=11.6]\n",
      "Epoch 48/50 [Val]: 100%|██████████| 16/16 [00:05<00:00,  2.80it/s, acc=75.2, loss=11.6]\n"
     ]
    },
    {
     "name": "stdout",
     "output_type": "stream",
     "text": [
      "Epoch 48/50:\n",
      "Train Loss: 11.6326, Train Acc: 74.72%\n",
      "Val Loss: 11.5595, Val Acc: 75.25%\n",
      "------------------------------------------------------------\n"
     ]
    },
    {
     "name": "stderr",
     "output_type": "stream",
     "text": [
      "Epoch 49/50 [Train]: 100%|██████████| 110/110 [00:37<00:00,  2.91it/s, acc=75.9, loss=11.2]\n",
      "Epoch 49/50 [Val]: 100%|██████████| 16/16 [00:04<00:00,  3.49it/s, acc=75.4, loss=11.5]\n"
     ]
    },
    {
     "name": "stdout",
     "output_type": "stream",
     "text": [
      "Epoch 49/50:\n",
      "Train Loss: 11.1632, Train Acc: 75.89%\n",
      "Val Loss: 11.5052, Val Acc: 75.45%\n",
      "------------------------------------------------------------\n"
     ]
    },
    {
     "name": "stderr",
     "output_type": "stream",
     "text": [
      "Epoch 50/50 [Train]: 100%|██████████| 110/110 [00:37<00:00,  2.90it/s, acc=75.7, loss=11.3]\n",
      "Epoch 50/50 [Val]: 100%|██████████| 16/16 [00:05<00:00,  2.97it/s, acc=75.4, loss=11.5]"
     ]
    },
    {
     "name": "stdout",
     "output_type": "stream",
     "text": [
      "Epoch 50/50:\n",
      "Train Loss: 11.2939, Train Acc: 75.66%\n",
      "Val Loss: 11.5286, Val Acc: 75.45%\n",
      "------------------------------------------------------------\n"
     ]
    },
    {
     "name": "stderr",
     "output_type": "stream",
     "text": [
      "\n"
     ]
    }
   ],
   "source": [
    "# Training loop\n",
    "loss_hist = []\n",
    "val_loss_hist = []\n",
    "best_val_loss = float(\"inf\")\n",
    "num_epochs = 50\n",
    "\n",
    "for epoch in range(num_epochs):\n",
    "    # Training phase\n",
    "    SNN_net.train()\n",
    "    train_loss = 0.0\n",
    "    correct_train = 0\n",
    "    total_train = 0\n",
    "\n",
    "    train_loop = tqdm(train_loader, desc=f\"Epoch {epoch+1}/{num_epochs} [Train]\")\n",
    "    for batch_idx, (data, targets) in enumerate(train_loop):\n",
    "        # Preprocess data on CPU first\n",
    "        # STFT output: (batch, channels=22, freq=129, time=57)\n",
    "        scaled_data = vectorized_stft(data)\n",
    "        scaled_data = torch.abs(scaled_data)\n",
    "\n",
    "        # Normalize data to between 0 and 1\n",
    "        if scaled_data.max() > 0:  # Avoid division by zero\n",
    "            scaled_data = scaled_data / scaled_data.max()\n",
    "\n",
    "        # Apply delta encoding - this will encode when values cross threshold\n",
    "        threshold = 0.1  # Adjust based on your data distribution\n",
    "        data_spike = spikegen.delta(\n",
    "            scaled_data, threshold=threshold, padding=False, off_spike=False\n",
    "        )\n",
    "\n",
    "        # Move data to device after preprocessing\n",
    "        data_spike, targets = data_spike.to(device), targets.to(device)\n",
    "\n",
    "        # Forward pass\n",
    "        spk_rec, mem_rec = SNN_net(data_spike)\n",
    "\n",
    "        # Calculate loss using spikes (not just final membrane potential)\n",
    "        loss_val = criterion(spk_rec, targets)\n",
    "\n",
    "        # Backward pass and optimization\n",
    "        optimizer.zero_grad()\n",
    "        loss_val.backward()\n",
    "        optimizer.step()\n",
    "\n",
    "        # Update metrics - use spike count for prediction\n",
    "        train_loss += loss_val.item()\n",
    "\n",
    "        # Sum spikes across time steps for prediction\n",
    "        spike_sum = torch.sum(spk_rec, dim=0)\n",
    "        _, predicted = torch.max(spike_sum, 1)\n",
    "\n",
    "        total_train += targets.size(0)\n",
    "        correct_train += (predicted == targets).sum().item()\n",
    "\n",
    "        # Update progress bar\n",
    "        train_loop.set_postfix(\n",
    "            loss=train_loss / (batch_idx + 1), acc=100.0 * correct_train / total_train\n",
    "        )\n",
    "\n",
    "        # Store loss\n",
    "        loss_hist.append(loss_val.item())\n",
    "\n",
    "    # Validation phase\n",
    "    SNN_net.eval()\n",
    "    val_loss = 0.0\n",
    "    correct_val = 0\n",
    "    total_val = 0\n",
    "\n",
    "    with torch.no_grad():  # No gradient calculation during validation\n",
    "        val_loop = tqdm(val_loader, desc=f\"Epoch {epoch+1}/{num_epochs} [Val]\")\n",
    "        for batch_idx, (data, targets) in enumerate(val_loop):\n",
    "            # Preprocess data on CPU first\n",
    "            scaled_data = vectorized_stft(data)\n",
    "            scaled_data = torch.abs(scaled_data)\n",
    "\n",
    "            # Normalize if needed\n",
    "            if scaled_data.max() > 0:  # Avoid division by zero\n",
    "                scaled_data = scaled_data / scaled_data.max()\n",
    "\n",
    "            # Apply delta encoding\n",
    "            data_spike = spikegen.delta(\n",
    "                scaled_data, threshold=threshold, padding=False, off_spike=False\n",
    "            )\n",
    "\n",
    "            # Move to device\n",
    "            data_spike, targets = data_spike.to(device), targets.to(device)\n",
    "\n",
    "            # Forward pass\n",
    "            spk_rec, mem_rec = SNN_net(data_spike)\n",
    "\n",
    "            # Calculate loss on spikes\n",
    "            loss_val = criterion(spk_rec, targets)\n",
    "\n",
    "            # Update metrics - use spike count for prediction\n",
    "            val_loss += loss_val.item()\n",
    "\n",
    "            # Sum spikes across time steps for prediction\n",
    "            spike_sum = torch.sum(spk_rec, dim=0)\n",
    "            _, predicted = torch.max(spike_sum, 1)\n",
    "\n",
    "            total_val += targets.size(0)\n",
    "            correct_val += (predicted == targets).sum().item()\n",
    "\n",
    "            # Update progress bar\n",
    "            val_loop.set_postfix(\n",
    "                loss=val_loss / (batch_idx + 1), acc=100.0 * correct_val / total_val\n",
    "            )\n",
    "\n",
    "        # Calculate average validation loss\n",
    "        avg_val_loss = val_loss / len(val_loader)\n",
    "        val_loss_hist.append(avg_val_loss)\n",
    "\n",
    "        # Update learning rate based on validation loss\n",
    "        scheduler.step(avg_val_loss)\n",
    "\n",
    "        # Save best model\n",
    "        if avg_val_loss < best_val_loss:\n",
    "            best_val_loss = avg_val_loss\n",
    "            torch.save(SNN_net.state_dict(), \"best_spiking_eeg_model_2.pth\")\n",
    "            print(f\"Saved best model with validation loss: {best_val_loss:.4f}\")\n",
    "\n",
    "    # Print epoch summary\n",
    "    print(f\"Epoch {epoch+1}/{num_epochs}:\")\n",
    "    print(\n",
    "        f\"Train Loss: {train_loss/len(train_loader):.4f}, Train Acc: {100.*correct_train/total_train:.2f}%\"\n",
    "    )\n",
    "    print(\n",
    "        f\"Val Loss: {val_loss/len(val_loader):.4f}, Val Acc: {100.*correct_val/total_val:.2f}%\"\n",
    "    )\n",
    "    print(\"-\" * 60)"
   ]
  },
  {
   "cell_type": "code",
   "execution_count": null,
   "id": "6a088a1a-fc97-4819-9340-4a22f7b116fd",
   "metadata": {},
   "outputs": [],
   "source": []
  }
 ],
 "metadata": {
  "kernelspec": {
   "display_name": "Python 3 (ipykernel)",
   "language": "python",
   "name": "python3"
  },
  "language_info": {
   "codemirror_mode": {
    "name": "ipython",
    "version": 3
   },
   "file_extension": ".py",
   "mimetype": "text/x-python",
   "name": "python",
   "nbconvert_exporter": "python",
   "pygments_lexer": "ipython3",
   "version": "3.12.6"
  }
 },
 "nbformat": 4,
 "nbformat_minor": 5
}
