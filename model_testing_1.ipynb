{
 "cells": [
  {
   "cell_type": "markdown",
   "id": "30cc7af7-5ca2-4964-9014-2001d1f6eca9",
   "metadata": {},
   "source": [
    "# Testing the model"
   ]
  },
  {
   "cell_type": "markdown",
   "id": "61e6f1fa-ae91-44aa-9584-494fc333388c",
   "metadata": {},
   "source": [
    "## Load the data"
   ]
  },
  {
   "cell_type": "code",
   "execution_count": 1,
   "id": "1f717e36-0512-47ef-8ec6-c3d7e477d771",
   "metadata": {},
   "outputs": [],
   "source": [
    "import h5py\n",
    "import numpy as np\n",
    "import os\n",
    "import torch\n",
    "from torch.utils.data import Dataset, DataLoader, random_split"
   ]
  },
  {
   "cell_type": "code",
   "execution_count": 2,
   "id": "7ee48cbb-2054-44cd-9474-0a4b7d54ed3f",
   "metadata": {
    "editable": true,
    "slideshow": {
     "slide_type": ""
    },
    "tags": []
   },
   "outputs": [
    {
     "name": "stdout",
     "output_type": "stream",
     "text": [
      "<KeysViewHDF5 ['channels', 'data', 'info']>\n",
      "<KeysViewHDF5 ['channels', 'data', 'info']>\n"
     ]
    }
   ],
   "source": [
    "data_path = \"./CHB-MIT/processed\"\n",
    "ictal_path = os.path.join(data_path, \"ictal.h5\")\n",
    "interictal_path = os.path.join(data_path, \"interictal.h5\")\n",
    "\n",
    "ictal_file = h5py.File(ictal_path, 'r')\n",
    "interictal_file = h5py.File(interictal_path, 'r')\n",
    "\n",
    "print(ictal_file.keys())\n",
    "print(interictal_file.keys())"
   ]
  },
  {
   "cell_type": "markdown",
   "id": "f2a6f5c2-184b-4f0a-8772-a6cd0fa52ed5",
   "metadata": {},
   "source": [
    "## Convert data to tensor"
   ]
  },
  {
   "cell_type": "code",
   "execution_count": 3,
   "id": "62896f2e-72c7-4a80-8d31-2ebe862b8a6e",
   "metadata": {},
   "outputs": [
    {
     "name": "stdout",
     "output_type": "stream",
     "text": [
      "Ictal data shape torch.Size([2509, 22, 2048])\n",
      "Interictal data shape torch.Size([2509, 22, 2048])\n"
     ]
    }
   ],
   "source": [
    "ictal_np = np.array(ictal_file['data'])\n",
    "interictal_np = np.array(interictal_file['data'])\n",
    "\n",
    "ictal_data = torch.tensor(ictal_np, dtype=torch.float32)\n",
    "interictal_data = torch.tensor(interictal_np, dtype=torch.float32)\n",
    "\n",
    "print(f\"Ictal data shape {ictal_data.shape}\")\n",
    "print(f\"Interictal data shape {interictal_data.shape}\")"
   ]
  },
  {
   "cell_type": "markdown",
   "id": "e6ed5a17-2f6e-48ca-8c19-f5648004befb",
   "metadata": {},
   "source": [
    "## Create Dataset"
   ]
  },
  {
   "cell_type": "code",
   "execution_count": 4,
   "id": "fe6d8219-cc64-44c4-b8e5-cf9a7252471d",
   "metadata": {},
   "outputs": [],
   "source": [
    "class EEGDataset(Dataset):\n",
    "    def __init__(self, ictal_data, interictal_data):\n",
    "        # Ensure the data is converted to tensors\n",
    "        self.data = torch.cat([ictal_data, interictal_data])\n",
    "        # Labels for ictal and interictal data\n",
    "        self.labels = torch.cat(\n",
    "            [\n",
    "                torch.ones(len(ictal_data)),  # Ictal = 1\n",
    "                torch.zeros(len(interictal_data)),  # Interictal = 0\n",
    "            ]\n",
    "        )\n",
    "\n",
    "    def __len__(self):\n",
    "        return len(self.data)\n",
    "\n",
    "    def __getitem__(self, idx):\n",
    "        eeg_raw = self.data[idx]  # EEG data of shape (22, 2048)\n",
    "        label = self.labels[idx].long()  # Label: 0 (interictal) or 1 (ictal)\n",
    "        return eeg_raw, label"
   ]
  },
  {
   "cell_type": "code",
   "execution_count": 5,
   "id": "71b4407a-fb4e-4af2-9fb9-01a512f6f060",
   "metadata": {},
   "outputs": [],
   "source": [
    "dataset = EEGDataset(ictal_data, interictal_data)\n",
    "train_dataset, test_dataset, val_dataset = random_split(dataset, [0.7, 0.2, 0.1])\n",
    "\n",
    "train_loader = DataLoader(train_dataset, batch_size=32, shuffle=True)\n",
    "val_loader = DataLoader(val_dataset, batch_size=32, shuffle=False)\n",
    "test_loader = DataLoader(test_dataset, batch_size=32, shuffle=False)"
   ]
  },
  {
   "cell_type": "markdown",
   "id": "345f97c0-6a46-48ab-9d87-dc54faf03b4e",
   "metadata": {},
   "source": [
    "## Implement Encoder\n",
    "The encoder will implemented in a functional way"
   ]
  },
  {
   "cell_type": "code",
   "execution_count": 6,
   "id": "cbd37178-450b-4dc2-81ed-8adf308ad8cf",
   "metadata": {},
   "outputs": [],
   "source": [
    "# Function to encode continuous EEG data into spikes using rate coding\n",
    "def rate_coding(data, num_steps=100, gain=1.0):\n",
    "    \"\"\"\n",
    "    Convert continuous EEG data to spike trains using rate coding\n",
    "\n",
    "    Args:\n",
    "        data: EEG data tensor of shape (batch_size, channels, time_steps)\n",
    "        num_steps: Number of time steps for the spike train\n",
    "        gain: Scaling factor to control firing rate\n",
    "\n",
    "    Returns:\n",
    "        Spike tensor of shape (batch_size, channels, num_steps)\n",
    "    \"\"\"\n",
    "    # Normalize data to [0, 1] range for each channel\n",
    "    data_min = data.min(dim=2, keepdim=True)[0]\n",
    "    data_max = data.max(dim=2, keepdim=True)[0]\n",
    "    data_norm = (data - data_min) / (data_max - data_min + 1e-8)\n",
    "\n",
    "    # Scale by gain factor\n",
    "    data_norm = data_norm * gain\n",
    "\n",
    "    # Create spike tensor\n",
    "    spike_data = torch.zeros(\n",
    "        (data.shape[0], data.shape[1], num_steps), device=data.device\n",
    "    )\n",
    "\n",
    "    # Generate spikes using Bernoulli sampling\n",
    "    for t in range(num_steps):\n",
    "        spike_data[:, :, t] = torch.bernoulli(data_norm.mean(dim=2))\n",
    "\n",
    "    return spike_data"
   ]
  },
  {
   "cell_type": "markdown",
   "id": "b80ecb71-7087-4c20-bd5d-e238c484ae76",
   "metadata": {},
   "source": [
    "## Testing the model\n",
    "From this sample model the data is not time domain but the frequency so it need to do the sfft"
   ]
  },
  {
   "cell_type": "code",
   "execution_count": 7,
   "id": "c370d8ed-1d90-4d9f-aeae-cfb63d865717",
   "metadata": {
    "editable": true,
    "slideshow": {
     "slide_type": ""
    },
    "tags": []
   },
   "outputs": [],
   "source": [
    "import torch\n",
    "import torch.nn as nn\n",
    "import snntorch as snn\n",
    "from snntorch import surrogate, SConv2dLSTM\n",
    "from tqdm import tqdm"
   ]
  },
  {
   "cell_type": "code",
   "execution_count": 8,
   "id": "1621d4d7-2202-49ab-8b65-e5dab00315bf",
   "metadata": {},
   "outputs": [],
   "source": [
    "# Main training function with data loaders\n",
    "def train_spiking_eeg_with_loaders(\n",
    "    train_loader, val_loader, test_loader, num_epochs=10, num_steps=100\n",
    "):\n",
    "    \"\"\"\n",
    "    Train the Spiking EEG Network using DataLoaders\n",
    "\n",
    "    Args:\n",
    "        train_loader: DataLoader for training data\n",
    "        val_loader: DataLoader for validation data\n",
    "        test_loader: DataLoader for test data\n",
    "        num_epochs: Number of training epochs\n",
    "        num_steps: Number of time steps for spike encoding\n",
    "    \"\"\"\n",
    "    device = torch.device(\"cuda\" if torch.cuda.is_available() else \"cpu\")\n",
    "    print(f\"Using device: {device}\")"
   ]
  },
  {
   "cell_type": "code",
   "execution_count": 9,
   "id": "7b9b2154-7bb5-4965-895f-9228bb20475c",
   "metadata": {},
   "outputs": [],
   "source": [
    "def vectorized_stft(eeg_data, n_fft=256, hop_length=32, win_length=128):\n",
    "    \"\"\"\n",
    "    Apply STFT to batched EEG data using vectorization\n",
    "\n",
    "    Parameters:\n",
    "    -----------\n",
    "    eeg_data: torch.Tensor\n",
    "        EEG data with shape (batch, channels, time_steps)\n",
    "\n",
    "    Returns:\n",
    "    --------\n",
    "    stft_output: torch.Tensor\n",
    "        STFT output with shape (batch, channels, frequency_bins, time_frames)\n",
    "    \"\"\"\n",
    "    batch_size, n_channels, time_steps = eeg_data.shape\n",
    "    window = torch.hann_window(win_length)\n",
    "\n",
    "    # Reshape to (batch*channels, time_steps)\n",
    "    reshaped_data = eeg_data.reshape(-1, time_steps)\n",
    "\n",
    "    # Apply STFT to all channels at once\n",
    "    stft = torch.stft(\n",
    "        reshaped_data,\n",
    "        n_fft=n_fft,\n",
    "        hop_length=hop_length,\n",
    "        win_length=win_length,\n",
    "        window=window,\n",
    "        return_complex=True,\n",
    "    )\n",
    "\n",
    "    # Reshape back to (batch, channels, freq_bins, time_frames)\n",
    "    freq_bins, time_frames = stft.shape[1], stft.shape[2]\n",
    "    stft_output = stft.reshape(batch_size, n_channels, freq_bins, time_frames)\n",
    "\n",
    "    return stft_output"
   ]
  },
  {
   "cell_type": "code",
   "execution_count": 10,
   "id": "ae383bfa-c4f5-465f-8493-30d21d47eb99",
   "metadata": {},
   "outputs": [],
   "source": [
    "class STFTSpikeClassifier(nn.Module):\n",
    "    def __init__(self, input_channels=22):\n",
    "        super().__init__()\n",
    "\n",
    "        self.thr = 0.05\n",
    "        slope = 13.42287274232855\n",
    "        beta = 0.9181805491303656\n",
    "        p1 = 0.5083664100388336\n",
    "        p2 = 0.26260898840708335\n",
    "        spike_grad = surrogate.straight_through_estimator()\n",
    "        spike_grad2 = surrogate.fast_sigmoid(slope=slope)\n",
    "\n",
    "        # initialize layers - note input_channels=22 for your STFT data\n",
    "        self.lstm1 = SConv2dLSTM(\n",
    "            in_channels=input_channels,\n",
    "            out_channels=16,\n",
    "            kernel_size=3,\n",
    "            max_pool=(2, 1),\n",
    "            threshold=self.thr,\n",
    "            spike_grad=spike_grad,\n",
    "        )\n",
    "        self.lstm2 = SConv2dLSTM(\n",
    "            in_channels=16,\n",
    "            out_channels=32,\n",
    "            kernel_size=3,\n",
    "            max_pool=(2, 1),\n",
    "            threshold=self.thr,\n",
    "            spike_grad=spike_grad,\n",
    "        )\n",
    "        self.lstm3 = snn.SConv2dLSTM(\n",
    "            in_channels=32,\n",
    "            out_channels=64,\n",
    "            kernel_size=3,\n",
    "            max_pool=(2, 1),\n",
    "            threshold=self.thr,\n",
    "            spike_grad=spike_grad,\n",
    "        )\n",
    "\n",
    "        # Calculate the flattened size based on your frequency dimension (129)\n",
    "        # After 3 max-pooling layers (each dividing by 2), size becomes: 129 → 64 → 32 → 16\n",
    "        # For time dimension: 1 (we process one time step at a time)\n",
    "        self.fc1 = nn.Linear(\n",
    "            64 * 16 * 1, 512\n",
    "        )  # Adjust this based on actual output size\n",
    "\n",
    "        self.lif1 = snn.Leaky(beta=beta, spike_grad=spike_grad2, threshold=self.thr)\n",
    "        self.dropout1 = nn.Dropout(p1)\n",
    "        self.fc2 = nn.Linear(512, 2)  # Assuming binary classification\n",
    "        self.lif2 = snn.Leaky(beta=beta, spike_grad=spike_grad2, threshold=self.thr)\n",
    "        self.dropout2 = nn.Dropout(p2)\n",
    "\n",
    "    def forward(self, x):\n",
    "        # x shape: (batch, channels=22, freq=129, time=57)\n",
    "        batch_size = x.size(0)\n",
    "        time_steps = x.size(3)\n",
    "\n",
    "        # Initialize LIF state variables\n",
    "        mem4 = self.lif1.init_leaky()\n",
    "        mem5 = self.lif2.init_leaky()\n",
    "        syn1, mem1 = self.lstm1.init_sconv2dlstm()\n",
    "        syn2, mem2 = self.lstm2.init_sconv2dlstm()\n",
    "        syn3, mem3 = self.lstm3.init_sconv2dlstm()\n",
    "\n",
    "        # Output recording\n",
    "        spk5_rec = []\n",
    "        mem5_rec = []\n",
    "\n",
    "        # Process each time step\n",
    "        for step in range(time_steps):\n",
    "            # Extract the current time step and prepare input\n",
    "            # x_t shape: (batch, channels=22, freq=129, time=1)\n",
    "            x_t = x[:, :, :, step].unsqueeze(-1)\n",
    "\n",
    "            # Pass through SConv2dLSTM layers\n",
    "            spk1, syn1, mem1 = self.lstm1(x_t, syn1, mem1)\n",
    "            spk2, syn2, mem2 = self.lstm2(spk1, syn2, mem2)\n",
    "            spk3, syn3, mem3 = self.lstm3(spk2, syn3, mem3)\n",
    "\n",
    "            # Flatten and feed through fully connected layers\n",
    "            cur4 = self.dropout1(self.fc1(spk3.flatten(1)))\n",
    "            spk4, mem4 = self.lif1(cur4, mem4)\n",
    "\n",
    "            cur5 = self.dropout2(self.fc2(spk4))\n",
    "            spk5, mem5 = self.lif2(cur5, mem5)\n",
    "\n",
    "            # Record output spikes and membrane potentials\n",
    "            spk5_rec.append(spk5)\n",
    "            mem5_rec.append(mem5)\n",
    "\n",
    "        # Stack time steps\n",
    "        return torch.stack(spk5_rec), torch.stack(mem5_rec)"
   ]
  },
  {
   "cell_type": "code",
   "execution_count": 11,
   "id": "de6789f9-fa1e-4f17-8c28-dd1c084f1f50",
   "metadata": {},
   "outputs": [
    {
     "ename": "RuntimeError",
     "evalue": "CUDA error: out of memory\nCUDA kernel errors might be asynchronously reported at some other API call, so the stacktrace below might be incorrect.\nFor debugging consider passing CUDA_LAUNCH_BLOCKING=1\nCompile with `TORCH_USE_CUDA_DSA` to enable device-side assertions.\n",
     "output_type": "error",
     "traceback": [
      "\u001b[31m---------------------------------------------------------------------------\u001b[39m",
      "\u001b[31mRuntimeError\u001b[39m                              Traceback (most recent call last)",
      "\u001b[36mCell\u001b[39m\u001b[36m \u001b[39m\u001b[32mIn[11]\u001b[39m\u001b[32m, line 5\u001b[39m\n\u001b[32m      3\u001b[39m \u001b[38;5;66;03m# Initialize the network\u001b[39;00m\n\u001b[32m      4\u001b[39m device = torch.device(\u001b[33m\"\u001b[39m\u001b[33mcuda\u001b[39m\u001b[33m\"\u001b[39m)\n\u001b[32m----> \u001b[39m\u001b[32m5\u001b[39m SNN_net = \u001b[43mSTFTSpikeClassifier\u001b[49m\u001b[43m(\u001b[49m\u001b[43m)\u001b[49m\u001b[43m.\u001b[49m\u001b[43mto\u001b[49m\u001b[43m(\u001b[49m\u001b[43mdevice\u001b[49m\u001b[43m)\u001b[49m\n\u001b[32m      6\u001b[39m \u001b[38;5;66;03m# Loss and optimizer\u001b[39;00m\n\u001b[32m      7\u001b[39m criterion = SF.mse_count_loss()\n",
      "\u001b[36mFile \u001b[39m\u001b[32m~/.local/lib/python3.12/site-packages/torch/nn/modules/module.py:1343\u001b[39m, in \u001b[36mModule.to\u001b[39m\u001b[34m(self, *args, **kwargs)\u001b[39m\n\u001b[32m   1340\u001b[39m         \u001b[38;5;28;01melse\u001b[39;00m:\n\u001b[32m   1341\u001b[39m             \u001b[38;5;28;01mraise\u001b[39;00m\n\u001b[32m-> \u001b[39m\u001b[32m1343\u001b[39m \u001b[38;5;28;01mreturn\u001b[39;00m \u001b[38;5;28;43mself\u001b[39;49m\u001b[43m.\u001b[49m\u001b[43m_apply\u001b[49m\u001b[43m(\u001b[49m\u001b[43mconvert\u001b[49m\u001b[43m)\u001b[49m\n",
      "\u001b[36mFile \u001b[39m\u001b[32m~/.local/lib/python3.12/site-packages/torch/nn/modules/module.py:903\u001b[39m, in \u001b[36mModule._apply\u001b[39m\u001b[34m(self, fn, recurse)\u001b[39m\n\u001b[32m    901\u001b[39m \u001b[38;5;28;01mif\u001b[39;00m recurse:\n\u001b[32m    902\u001b[39m     \u001b[38;5;28;01mfor\u001b[39;00m module \u001b[38;5;129;01min\u001b[39;00m \u001b[38;5;28mself\u001b[39m.children():\n\u001b[32m--> \u001b[39m\u001b[32m903\u001b[39m         \u001b[43mmodule\u001b[49m\u001b[43m.\u001b[49m\u001b[43m_apply\u001b[49m\u001b[43m(\u001b[49m\u001b[43mfn\u001b[49m\u001b[43m)\u001b[49m\n\u001b[32m    905\u001b[39m \u001b[38;5;28;01mdef\u001b[39;00m\u001b[38;5;250m \u001b[39m\u001b[34mcompute_should_use_set_data\u001b[39m(tensor, tensor_applied):\n\u001b[32m    906\u001b[39m     \u001b[38;5;28;01mif\u001b[39;00m torch._has_compatible_shallow_copy_type(tensor, tensor_applied):\n\u001b[32m    907\u001b[39m         \u001b[38;5;66;03m# If the new tensor has compatible tensor type as the existing tensor,\u001b[39;00m\n\u001b[32m    908\u001b[39m         \u001b[38;5;66;03m# the current behavior is to change the tensor in-place using `.data =`,\u001b[39;00m\n\u001b[32m   (...)\u001b[39m\u001b[32m    913\u001b[39m         \u001b[38;5;66;03m# global flag to let the user control whether they want the future\u001b[39;00m\n\u001b[32m    914\u001b[39m         \u001b[38;5;66;03m# behavior of overwriting the existing tensor or not.\u001b[39;00m\n",
      "\u001b[36mFile \u001b[39m\u001b[32m~/.local/lib/python3.12/site-packages/torch/nn/modules/module.py:903\u001b[39m, in \u001b[36mModule._apply\u001b[39m\u001b[34m(self, fn, recurse)\u001b[39m\n\u001b[32m    901\u001b[39m \u001b[38;5;28;01mif\u001b[39;00m recurse:\n\u001b[32m    902\u001b[39m     \u001b[38;5;28;01mfor\u001b[39;00m module \u001b[38;5;129;01min\u001b[39;00m \u001b[38;5;28mself\u001b[39m.children():\n\u001b[32m--> \u001b[39m\u001b[32m903\u001b[39m         \u001b[43mmodule\u001b[49m\u001b[43m.\u001b[49m\u001b[43m_apply\u001b[49m\u001b[43m(\u001b[49m\u001b[43mfn\u001b[49m\u001b[43m)\u001b[49m\n\u001b[32m    905\u001b[39m \u001b[38;5;28;01mdef\u001b[39;00m\u001b[38;5;250m \u001b[39m\u001b[34mcompute_should_use_set_data\u001b[39m(tensor, tensor_applied):\n\u001b[32m    906\u001b[39m     \u001b[38;5;28;01mif\u001b[39;00m torch._has_compatible_shallow_copy_type(tensor, tensor_applied):\n\u001b[32m    907\u001b[39m         \u001b[38;5;66;03m# If the new tensor has compatible tensor type as the existing tensor,\u001b[39;00m\n\u001b[32m    908\u001b[39m         \u001b[38;5;66;03m# the current behavior is to change the tensor in-place using `.data =`,\u001b[39;00m\n\u001b[32m   (...)\u001b[39m\u001b[32m    913\u001b[39m         \u001b[38;5;66;03m# global flag to let the user control whether they want the future\u001b[39;00m\n\u001b[32m    914\u001b[39m         \u001b[38;5;66;03m# behavior of overwriting the existing tensor or not.\u001b[39;00m\n",
      "\u001b[36mFile \u001b[39m\u001b[32m~/.local/lib/python3.12/site-packages/torch/nn/modules/module.py:930\u001b[39m, in \u001b[36mModule._apply\u001b[39m\u001b[34m(self, fn, recurse)\u001b[39m\n\u001b[32m    926\u001b[39m \u001b[38;5;66;03m# Tensors stored in modules are graph leaves, and we don't want to\u001b[39;00m\n\u001b[32m    927\u001b[39m \u001b[38;5;66;03m# track autograd history of `param_applied`, so we have to use\u001b[39;00m\n\u001b[32m    928\u001b[39m \u001b[38;5;66;03m# `with torch.no_grad():`\u001b[39;00m\n\u001b[32m    929\u001b[39m \u001b[38;5;28;01mwith\u001b[39;00m torch.no_grad():\n\u001b[32m--> \u001b[39m\u001b[32m930\u001b[39m     param_applied = \u001b[43mfn\u001b[49m\u001b[43m(\u001b[49m\u001b[43mparam\u001b[49m\u001b[43m)\u001b[49m\n\u001b[32m    931\u001b[39m p_should_use_set_data = compute_should_use_set_data(param, param_applied)\n\u001b[32m    933\u001b[39m \u001b[38;5;66;03m# subclasses may have multiple child tensors so we need to use swap_tensors\u001b[39;00m\n",
      "\u001b[36mFile \u001b[39m\u001b[32m~/.local/lib/python3.12/site-packages/torch/nn/modules/module.py:1329\u001b[39m, in \u001b[36mModule.to.<locals>.convert\u001b[39m\u001b[34m(t)\u001b[39m\n\u001b[32m   1322\u001b[39m     \u001b[38;5;28;01mif\u001b[39;00m convert_to_format \u001b[38;5;129;01mis\u001b[39;00m \u001b[38;5;129;01mnot\u001b[39;00m \u001b[38;5;28;01mNone\u001b[39;00m \u001b[38;5;129;01mand\u001b[39;00m t.dim() \u001b[38;5;129;01min\u001b[39;00m (\u001b[32m4\u001b[39m, \u001b[32m5\u001b[39m):\n\u001b[32m   1323\u001b[39m         \u001b[38;5;28;01mreturn\u001b[39;00m t.to(\n\u001b[32m   1324\u001b[39m             device,\n\u001b[32m   1325\u001b[39m             dtype \u001b[38;5;28;01mif\u001b[39;00m t.is_floating_point() \u001b[38;5;129;01mor\u001b[39;00m t.is_complex() \u001b[38;5;28;01melse\u001b[39;00m \u001b[38;5;28;01mNone\u001b[39;00m,\n\u001b[32m   1326\u001b[39m             non_blocking,\n\u001b[32m   1327\u001b[39m             memory_format=convert_to_format,\n\u001b[32m   1328\u001b[39m         )\n\u001b[32m-> \u001b[39m\u001b[32m1329\u001b[39m     \u001b[38;5;28;01mreturn\u001b[39;00m \u001b[43mt\u001b[49m\u001b[43m.\u001b[49m\u001b[43mto\u001b[49m\u001b[43m(\u001b[49m\n\u001b[32m   1330\u001b[39m \u001b[43m        \u001b[49m\u001b[43mdevice\u001b[49m\u001b[43m,\u001b[49m\n\u001b[32m   1331\u001b[39m \u001b[43m        \u001b[49m\u001b[43mdtype\u001b[49m\u001b[43m \u001b[49m\u001b[38;5;28;43;01mif\u001b[39;49;00m\u001b[43m \u001b[49m\u001b[43mt\u001b[49m\u001b[43m.\u001b[49m\u001b[43mis_floating_point\u001b[49m\u001b[43m(\u001b[49m\u001b[43m)\u001b[49m\u001b[43m \u001b[49m\u001b[38;5;129;43;01mor\u001b[39;49;00m\u001b[43m \u001b[49m\u001b[43mt\u001b[49m\u001b[43m.\u001b[49m\u001b[43mis_complex\u001b[49m\u001b[43m(\u001b[49m\u001b[43m)\u001b[49m\u001b[43m \u001b[49m\u001b[38;5;28;43;01melse\u001b[39;49;00m\u001b[43m \u001b[49m\u001b[38;5;28;43;01mNone\u001b[39;49;00m\u001b[43m,\u001b[49m\n\u001b[32m   1332\u001b[39m \u001b[43m        \u001b[49m\u001b[43mnon_blocking\u001b[49m\u001b[43m,\u001b[49m\n\u001b[32m   1333\u001b[39m \u001b[43m    \u001b[49m\u001b[43m)\u001b[49m\n\u001b[32m   1334\u001b[39m \u001b[38;5;28;01mexcept\u001b[39;00m \u001b[38;5;167;01mNotImplementedError\u001b[39;00m \u001b[38;5;28;01mas\u001b[39;00m e:\n\u001b[32m   1335\u001b[39m     \u001b[38;5;28;01mif\u001b[39;00m \u001b[38;5;28mstr\u001b[39m(e) == \u001b[33m\"\u001b[39m\u001b[33mCannot copy out of meta tensor; no data!\u001b[39m\u001b[33m\"\u001b[39m:\n",
      "\u001b[31mRuntimeError\u001b[39m: CUDA error: out of memory\nCUDA kernel errors might be asynchronously reported at some other API call, so the stacktrace below might be incorrect.\nFor debugging consider passing CUDA_LAUNCH_BLOCKING=1\nCompile with `TORCH_USE_CUDA_DSA` to enable device-side assertions.\n"
     ]
    }
   ],
   "source": [
    "import snntorch.functional as SF\n",
    "from snntorch import spikegen\n",
    "# Initialize the network\n",
    "device = torch.device(\"cuda\")\n",
    "SNN_net = STFTSpikeClassifier().to(device)\n",
    "# Loss and optimizer\n",
    "criterion = SF.mse_count_loss()\n",
    "optimizer = torch.optim.AdamW(\n",
    "    SNN_net.parameters(), lr=7.205682423400944e-05, betas=(0.9, 0.999)\n",
    ")\n",
    "\n",
    "optimizer = torch.optim.AdamW(\n",
    "    SNN_net.parameters(),\n",
    "    lr=5e-5,  # Slightly higher than your current value but not too high\n",
    "    betas=(0.9, 0.999),\n",
    "    weight_decay=1e-5  # Light regularization\n",
    ")\n",
    "\n",
    "# Add a learning rate scheduler\n",
    "scheduler = torch.optim.lr_scheduler.ReduceLROnPlateau(\n",
    "    optimizer,\n",
    "    mode='min',\n",
    "    factor=0.5,\n",
    "    patience=5,\n",
    "    min_lr=1e-6\n",
    ")\n"
   ]
  },
  {
   "cell_type": "code",
   "execution_count": 13,
   "id": "a8fe71d9-e8c4-4385-adc1-36edcfaaed80",
   "metadata": {
    "editable": true,
    "slideshow": {
     "slide_type": ""
    },
    "tags": []
   },
   "outputs": [
    {
     "name": "stderr",
     "output_type": "stream",
     "text": [
      "Epoch 1/50 [Train]: 100%|██████████| 110/110 [00:40<00:00,  2.70it/s, acc=65.6, loss=14.6]\n",
      "Epoch 1/50 [Val]: 100%|██████████| 16/16 [00:05<00:00,  3.01it/s, acc=68.1, loss=14.3]\n"
     ]
    },
    {
     "name": "stdout",
     "output_type": "stream",
     "text": [
      "Saved best model with validation loss: 14.3438\n",
      "Epoch 1/50:\n",
      "Train Loss: 14.5786, Train Acc: 65.64%\n",
      "Val Loss: 14.3438, Val Acc: 68.06%\n",
      "------------------------------------------------------------\n"
     ]
    },
    {
     "name": "stderr",
     "output_type": "stream",
     "text": [
      "Epoch 2/50 [Train]: 100%|██████████| 110/110 [00:39<00:00,  2.76it/s, acc=72.3, loss=12.8]\n",
      "Epoch 2/50 [Val]: 100%|██████████| 16/16 [00:06<00:00,  2.34it/s, acc=69.5, loss=15.9]\n"
     ]
    },
    {
     "name": "stdout",
     "output_type": "stream",
     "text": [
      "Epoch 2/50:\n",
      "Train Loss: 12.7795, Train Acc: 72.30%\n",
      "Val Loss: 15.9133, Val Acc: 69.46%\n",
      "------------------------------------------------------------\n"
     ]
    },
    {
     "name": "stderr",
     "output_type": "stream",
     "text": [
      "Epoch 3/50 [Train]: 100%|██████████| 110/110 [00:36<00:00,  2.99it/s, acc=71.9, loss=13.1]\n",
      "Epoch 3/50 [Val]: 100%|██████████| 16/16 [00:04<00:00,  3.28it/s, acc=69.9, loss=14.4]\n"
     ]
    },
    {
     "name": "stdout",
     "output_type": "stream",
     "text": [
      "Epoch 3/50:\n",
      "Train Loss: 13.0613, Train Acc: 71.90%\n",
      "Val Loss: 14.3787, Val Acc: 69.86%\n",
      "------------------------------------------------------------\n"
     ]
    },
    {
     "name": "stderr",
     "output_type": "stream",
     "text": [
      "Epoch 4/50 [Train]: 100%|██████████| 110/110 [00:39<00:00,  2.82it/s, acc=73.7, loss=12.5]\n",
      "Epoch 4/50 [Val]: 100%|██████████| 16/16 [00:05<00:00,  3.03it/s, acc=71.5, loss=13]  \n"
     ]
    },
    {
     "name": "stdout",
     "output_type": "stream",
     "text": [
      "Saved best model with validation loss: 12.9639\n",
      "Epoch 4/50:\n",
      "Train Loss: 12.4659, Train Acc: 73.70%\n",
      "Val Loss: 12.9639, Val Acc: 71.46%\n",
      "------------------------------------------------------------\n"
     ]
    },
    {
     "name": "stderr",
     "output_type": "stream",
     "text": [
      "Epoch 5/50 [Train]: 100%|██████████| 110/110 [00:42<00:00,  2.58it/s, acc=74.6, loss=12.1]\n",
      "Epoch 5/50 [Val]: 100%|██████████| 16/16 [00:04<00:00,  3.45it/s, acc=71.1, loss=15.6]\n"
     ]
    },
    {
     "name": "stdout",
     "output_type": "stream",
     "text": [
      "Epoch 5/50:\n",
      "Train Loss: 12.1141, Train Acc: 74.61%\n",
      "Val Loss: 15.5899, Val Acc: 71.06%\n",
      "------------------------------------------------------------\n"
     ]
    },
    {
     "name": "stderr",
     "output_type": "stream",
     "text": [
      "Epoch 6/50 [Train]: 100%|██████████| 110/110 [00:41<00:00,  2.65it/s, acc=75.7, loss=11.7]\n",
      "Epoch 6/50 [Val]: 100%|██████████| 16/16 [00:05<00:00,  2.86it/s, acc=72.1, loss=14.1]\n"
     ]
    },
    {
     "name": "stdout",
     "output_type": "stream",
     "text": [
      "Epoch 6/50:\n",
      "Train Loss: 11.6561, Train Acc: 75.66%\n",
      "Val Loss: 14.0931, Val Acc: 72.06%\n",
      "------------------------------------------------------------\n"
     ]
    },
    {
     "name": "stderr",
     "output_type": "stream",
     "text": [
      "Epoch 7/50 [Train]: 100%|██████████| 110/110 [00:36<00:00,  3.00it/s, acc=76.5, loss=11.5]\n",
      "Epoch 7/50 [Val]: 100%|██████████| 16/16 [00:04<00:00,  3.60it/s, acc=72.5, loss=14.2]\n"
     ]
    },
    {
     "name": "stdout",
     "output_type": "stream",
     "text": [
      "Epoch 7/50:\n",
      "Train Loss: 11.4986, Train Acc: 76.46%\n",
      "Val Loss: 14.2227, Val Acc: 72.46%\n",
      "------------------------------------------------------------\n"
     ]
    },
    {
     "name": "stderr",
     "output_type": "stream",
     "text": [
      "Epoch 8/50 [Train]: 100%|██████████| 110/110 [00:39<00:00,  2.79it/s, acc=76.1, loss=11.6]\n",
      "Epoch 8/50 [Val]: 100%|██████████| 16/16 [00:05<00:00,  2.95it/s, acc=69.7, loss=14.8]\n"
     ]
    },
    {
     "name": "stdout",
     "output_type": "stream",
     "text": [
      "Epoch 8/50:\n",
      "Train Loss: 11.5554, Train Acc: 76.09%\n",
      "Val Loss: 14.7777, Val Acc: 69.66%\n",
      "------------------------------------------------------------\n"
     ]
    },
    {
     "name": "stderr",
     "output_type": "stream",
     "text": [
      "Epoch 9/50 [Train]: 100%|██████████| 110/110 [00:33<00:00,  3.24it/s, acc=77.6, loss=10.6]\n",
      "Epoch 9/50 [Val]: 100%|██████████| 16/16 [00:01<00:00, 10.80it/s, acc=72.3, loss=17]  \n"
     ]
    },
    {
     "name": "stdout",
     "output_type": "stream",
     "text": [
      "Epoch 9/50:\n",
      "Train Loss: 10.6242, Train Acc: 77.60%\n",
      "Val Loss: 16.9618, Val Acc: 72.26%\n",
      "------------------------------------------------------------\n"
     ]
    },
    {
     "name": "stderr",
     "output_type": "stream",
     "text": [
      "Epoch 10/50 [Train]: 100%|██████████| 110/110 [00:16<00:00,  6.62it/s, acc=77.9, loss=10.7]\n",
      "Epoch 10/50 [Val]: 100%|██████████| 16/16 [00:01<00:00, 10.87it/s, acc=71.7, loss=16.3]\n"
     ]
    },
    {
     "name": "stdout",
     "output_type": "stream",
     "text": [
      "Epoch 10/50:\n",
      "Train Loss: 10.6554, Train Acc: 77.94%\n",
      "Val Loss: 16.3291, Val Acc: 71.66%\n",
      "------------------------------------------------------------\n"
     ]
    },
    {
     "name": "stderr",
     "output_type": "stream",
     "text": [
      "Epoch 11/50 [Train]: 100%|██████████| 110/110 [00:16<00:00,  6.77it/s, acc=77.9, loss=10.7]\n",
      "Epoch 11/50 [Val]: 100%|██████████| 16/16 [00:01<00:00, 11.58it/s, acc=70.7, loss=16.5]\n"
     ]
    },
    {
     "name": "stdout",
     "output_type": "stream",
     "text": [
      "Epoch 11/50:\n",
      "Train Loss: 10.6867, Train Acc: 77.94%\n",
      "Val Loss: 16.4670, Val Acc: 70.66%\n",
      "------------------------------------------------------------\n"
     ]
    },
    {
     "name": "stderr",
     "output_type": "stream",
     "text": [
      "Epoch 12/50 [Train]: 100%|██████████| 110/110 [00:16<00:00,  6.72it/s, acc=78.3, loss=10.8]\n",
      "Epoch 12/50 [Val]: 100%|██████████| 16/16 [00:01<00:00, 11.96it/s, acc=72.1, loss=16.7]\n"
     ]
    },
    {
     "name": "stdout",
     "output_type": "stream",
     "text": [
      "Epoch 12/50:\n",
      "Train Loss: 10.7644, Train Acc: 78.34%\n",
      "Val Loss: 16.6745, Val Acc: 72.06%\n",
      "------------------------------------------------------------\n"
     ]
    },
    {
     "name": "stderr",
     "output_type": "stream",
     "text": [
      "Epoch 13/50 [Train]: 100%|██████████| 110/110 [00:15<00:00,  7.00it/s, acc=78.8, loss=10.4]\n",
      "Epoch 13/50 [Val]: 100%|██████████| 16/16 [00:01<00:00, 11.58it/s, acc=71.7, loss=16.8]\n"
     ]
    },
    {
     "name": "stdout",
     "output_type": "stream",
     "text": [
      "Epoch 13/50:\n",
      "Train Loss: 10.4011, Train Acc: 78.76%\n",
      "Val Loss: 16.7532, Val Acc: 71.66%\n",
      "------------------------------------------------------------\n"
     ]
    },
    {
     "name": "stderr",
     "output_type": "stream",
     "text": [
      "Epoch 14/50 [Train]: 100%|██████████| 110/110 [00:15<00:00,  7.03it/s, acc=79.3, loss=10]  \n",
      "Epoch 14/50 [Val]: 100%|██████████| 16/16 [00:01<00:00, 12.08it/s, acc=70.5, loss=17.7]\n"
     ]
    },
    {
     "name": "stdout",
     "output_type": "stream",
     "text": [
      "Epoch 14/50:\n",
      "Train Loss: 10.0400, Train Acc: 79.31%\n",
      "Val Loss: 17.6602, Val Acc: 70.46%\n",
      "------------------------------------------------------------\n"
     ]
    },
    {
     "name": "stderr",
     "output_type": "stream",
     "text": [
      "Epoch 15/50 [Train]: 100%|██████████| 110/110 [00:15<00:00,  6.91it/s, acc=78.9, loss=10.2]\n",
      "Epoch 15/50 [Val]: 100%|██████████| 16/16 [00:01<00:00, 11.89it/s, acc=71.5, loss=16.9]\n"
     ]
    },
    {
     "name": "stdout",
     "output_type": "stream",
     "text": [
      "Epoch 15/50:\n",
      "Train Loss: 10.2453, Train Acc: 78.94%\n",
      "Val Loss: 16.8585, Val Acc: 71.46%\n",
      "------------------------------------------------------------\n"
     ]
    },
    {
     "name": "stderr",
     "output_type": "stream",
     "text": [
      "Epoch 16/50 [Train]: 100%|██████████| 110/110 [00:15<00:00,  7.00it/s, acc=78.9, loss=10.2]\n",
      "Epoch 16/50 [Val]: 100%|██████████| 16/16 [00:01<00:00, 10.96it/s, acc=70.3, loss=17.9]\n"
     ]
    },
    {
     "name": "stdout",
     "output_type": "stream",
     "text": [
      "Epoch 16/50:\n",
      "Train Loss: 10.1559, Train Acc: 78.88%\n",
      "Val Loss: 17.9149, Val Acc: 70.26%\n",
      "------------------------------------------------------------\n"
     ]
    },
    {
     "name": "stderr",
     "output_type": "stream",
     "text": [
      "Epoch 17/50 [Train]: 100%|██████████| 110/110 [00:16<00:00,  6.69it/s, acc=79.4, loss=10.1]\n",
      "Epoch 17/50 [Val]: 100%|██████████| 16/16 [00:01<00:00, 11.33it/s, acc=70.9, loss=17.6]\n"
     ]
    },
    {
     "name": "stdout",
     "output_type": "stream",
     "text": [
      "Epoch 17/50:\n",
      "Train Loss: 10.0907, Train Acc: 79.39%\n",
      "Val Loss: 17.5904, Val Acc: 70.86%\n",
      "------------------------------------------------------------\n"
     ]
    },
    {
     "name": "stderr",
     "output_type": "stream",
     "text": [
      "Epoch 18/50 [Train]: 100%|██████████| 110/110 [00:35<00:00,  3.11it/s, acc=79.6, loss=9.99]\n",
      "Epoch 18/50 [Val]: 100%|██████████| 16/16 [00:01<00:00, 10.63it/s, acc=70.9, loss=17.8]\n"
     ]
    },
    {
     "name": "stdout",
     "output_type": "stream",
     "text": [
      "Epoch 18/50:\n",
      "Train Loss: 9.9856, Train Acc: 79.59%\n",
      "Val Loss: 17.8108, Val Acc: 70.86%\n",
      "------------------------------------------------------------\n"
     ]
    },
    {
     "name": "stderr",
     "output_type": "stream",
     "text": [
      "Epoch 19/50 [Train]: 100%|██████████| 110/110 [00:16<00:00,  6.65it/s, acc=79.2, loss=9.98]\n",
      "Epoch 19/50 [Val]: 100%|██████████| 16/16 [00:01<00:00, 11.12it/s, acc=71.7, loss=17.3]\n"
     ]
    },
    {
     "name": "stdout",
     "output_type": "stream",
     "text": [
      "Epoch 19/50:\n",
      "Train Loss: 9.9807, Train Acc: 79.22%\n",
      "Val Loss: 17.2957, Val Acc: 71.66%\n",
      "------------------------------------------------------------\n"
     ]
    },
    {
     "name": "stderr",
     "output_type": "stream",
     "text": [
      "Epoch 20/50 [Train]: 100%|██████████| 110/110 [00:16<00:00,  6.78it/s, acc=79.4, loss=9.95]\n",
      "Epoch 20/50 [Val]: 100%|██████████| 16/16 [00:01<00:00, 11.31it/s, acc=70.5, loss=18.1]\n"
     ]
    },
    {
     "name": "stdout",
     "output_type": "stream",
     "text": [
      "Epoch 20/50:\n",
      "Train Loss: 9.9528, Train Acc: 79.36%\n",
      "Val Loss: 18.1108, Val Acc: 70.46%\n",
      "------------------------------------------------------------\n"
     ]
    },
    {
     "name": "stderr",
     "output_type": "stream",
     "text": [
      "Epoch 21/50 [Train]: 100%|██████████| 110/110 [00:16<00:00,  6.72it/s, acc=80, loss=9.89]  \n",
      "Epoch 21/50 [Val]: 100%|██████████| 16/16 [00:01<00:00, 11.30it/s, acc=70.9, loss=17.9]\n"
     ]
    },
    {
     "name": "stdout",
     "output_type": "stream",
     "text": [
      "Epoch 21/50:\n",
      "Train Loss: 9.8885, Train Acc: 79.99%\n",
      "Val Loss: 17.9335, Val Acc: 70.86%\n",
      "------------------------------------------------------------\n"
     ]
    },
    {
     "name": "stderr",
     "output_type": "stream",
     "text": [
      "Epoch 22/50 [Train]: 100%|██████████| 110/110 [00:16<00:00,  6.73it/s, acc=80.5, loss=9.79]\n",
      "Epoch 22/50 [Val]: 100%|██████████| 16/16 [00:01<00:00, 11.21it/s, acc=71.1, loss=17.8]\n"
     ]
    },
    {
     "name": "stdout",
     "output_type": "stream",
     "text": [
      "Epoch 22/50:\n",
      "Train Loss: 9.7884, Train Acc: 80.53%\n",
      "Val Loss: 17.8054, Val Acc: 71.06%\n",
      "------------------------------------------------------------\n"
     ]
    },
    {
     "name": "stderr",
     "output_type": "stream",
     "text": [
      "Epoch 23/50 [Train]: 100%|██████████| 110/110 [00:16<00:00,  6.70it/s, acc=80.3, loss=9.52]\n",
      "Epoch 23/50 [Val]: 100%|██████████| 16/16 [00:01<00:00, 11.90it/s, acc=70.5, loss=18.3]\n"
     ]
    },
    {
     "name": "stdout",
     "output_type": "stream",
     "text": [
      "Epoch 23/50:\n",
      "Train Loss: 9.5208, Train Acc: 80.33%\n",
      "Val Loss: 18.3293, Val Acc: 70.46%\n",
      "------------------------------------------------------------\n"
     ]
    },
    {
     "name": "stderr",
     "output_type": "stream",
     "text": [
      "Epoch 24/50 [Train]: 100%|██████████| 110/110 [00:16<00:00,  6.60it/s, acc=80.5, loss=9.68]\n",
      "Epoch 24/50 [Val]: 100%|██████████| 16/16 [00:01<00:00, 10.90it/s, acc=70.3, loss=18.3]\n"
     ]
    },
    {
     "name": "stdout",
     "output_type": "stream",
     "text": [
      "Epoch 24/50:\n",
      "Train Loss: 9.6826, Train Acc: 80.50%\n",
      "Val Loss: 18.3436, Val Acc: 70.26%\n",
      "------------------------------------------------------------\n"
     ]
    },
    {
     "name": "stderr",
     "output_type": "stream",
     "text": [
      "Epoch 25/50 [Train]: 100%|██████████| 110/110 [00:16<00:00,  6.84it/s, acc=80, loss=9.68]  \n",
      "Epoch 25/50 [Val]: 100%|██████████| 16/16 [00:01<00:00,  8.56it/s, acc=70.5, loss=18.2]\n"
     ]
    },
    {
     "name": "stdout",
     "output_type": "stream",
     "text": [
      "Epoch 25/50:\n",
      "Train Loss: 9.6836, Train Acc: 80.02%\n",
      "Val Loss: 18.2254, Val Acc: 70.46%\n",
      "------------------------------------------------------------\n"
     ]
    },
    {
     "name": "stderr",
     "output_type": "stream",
     "text": [
      "Epoch 26/50 [Train]: 100%|██████████| 110/110 [00:18<00:00,  5.93it/s, acc=80.6, loss=9.65]\n",
      "Epoch 26/50 [Val]: 100%|██████████| 16/16 [00:01<00:00, 11.64it/s, acc=71.1, loss=17.5]\n"
     ]
    },
    {
     "name": "stdout",
     "output_type": "stream",
     "text": [
      "Epoch 26/50:\n",
      "Train Loss: 9.6510, Train Acc: 80.56%\n",
      "Val Loss: 17.5273, Val Acc: 71.06%\n",
      "------------------------------------------------------------\n"
     ]
    },
    {
     "name": "stderr",
     "output_type": "stream",
     "text": [
      "Epoch 27/50 [Train]: 100%|██████████| 110/110 [00:16<00:00,  6.84it/s, acc=80.3, loss=9.33]\n",
      "Epoch 27/50 [Val]: 100%|██████████| 16/16 [00:01<00:00, 11.54it/s, acc=70.5, loss=17.9]\n"
     ]
    },
    {
     "name": "stdout",
     "output_type": "stream",
     "text": [
      "Epoch 27/50:\n",
      "Train Loss: 9.3283, Train Acc: 80.27%\n",
      "Val Loss: 17.8811, Val Acc: 70.46%\n",
      "------------------------------------------------------------\n"
     ]
    },
    {
     "name": "stderr",
     "output_type": "stream",
     "text": [
      "Epoch 28/50 [Train]: 100%|██████████| 110/110 [00:16<00:00,  6.52it/s, acc=81.3, loss=9.19]\n",
      "Epoch 28/50 [Val]: 100%|██████████| 16/16 [00:01<00:00, 11.69it/s, acc=71.5, loss=17.5]\n"
     ]
    },
    {
     "name": "stdout",
     "output_type": "stream",
     "text": [
      "Epoch 28/50:\n",
      "Train Loss: 9.1948, Train Acc: 81.33%\n",
      "Val Loss: 17.5129, Val Acc: 71.46%\n",
      "------------------------------------------------------------\n"
     ]
    },
    {
     "name": "stderr",
     "output_type": "stream",
     "text": [
      "Epoch 29/50 [Train]: 100%|██████████| 110/110 [00:16<00:00,  6.68it/s, acc=81.2, loss=9.12]\n",
      "Epoch 29/50 [Val]: 100%|██████████| 16/16 [00:01<00:00, 11.22it/s, acc=70.9, loss=17.9]\n"
     ]
    },
    {
     "name": "stdout",
     "output_type": "stream",
     "text": [
      "Epoch 29/50:\n",
      "Train Loss: 9.1208, Train Acc: 81.21%\n",
      "Val Loss: 17.9449, Val Acc: 70.86%\n",
      "------------------------------------------------------------\n"
     ]
    },
    {
     "name": "stderr",
     "output_type": "stream",
     "text": [
      "Epoch 30/50 [Train]: 100%|██████████| 110/110 [00:17<00:00,  6.39it/s, acc=80.8, loss=9.36]\n",
      "Epoch 30/50 [Val]: 100%|██████████| 16/16 [00:01<00:00, 11.37it/s, acc=70.5, loss=18.1]\n"
     ]
    },
    {
     "name": "stdout",
     "output_type": "stream",
     "text": [
      "Epoch 30/50:\n",
      "Train Loss: 9.3584, Train Acc: 80.79%\n",
      "Val Loss: 18.0971, Val Acc: 70.46%\n",
      "------------------------------------------------------------\n"
     ]
    },
    {
     "name": "stderr",
     "output_type": "stream",
     "text": [
      "Epoch 31/50 [Train]: 100%|██████████| 110/110 [00:16<00:00,  6.49it/s, acc=80, loss=9.53]  \n",
      "Epoch 31/50 [Val]: 100%|██████████| 16/16 [00:01<00:00, 11.22it/s, acc=70.5, loss=18]  \n"
     ]
    },
    {
     "name": "stdout",
     "output_type": "stream",
     "text": [
      "Epoch 31/50:\n",
      "Train Loss: 9.5260, Train Acc: 79.96%\n",
      "Val Loss: 17.9963, Val Acc: 70.46%\n",
      "------------------------------------------------------------\n"
     ]
    },
    {
     "name": "stderr",
     "output_type": "stream",
     "text": [
      "Epoch 32/50 [Train]: 100%|██████████| 110/110 [00:17<00:00,  6.36it/s, acc=80.7, loss=9.35]\n",
      "Epoch 32/50 [Val]: 100%|██████████| 16/16 [00:01<00:00,  9.06it/s, acc=70.7, loss=18]  \n"
     ]
    },
    {
     "name": "stdout",
     "output_type": "stream",
     "text": [
      "Epoch 32/50:\n",
      "Train Loss: 9.3527, Train Acc: 80.70%\n",
      "Val Loss: 18.0297, Val Acc: 70.66%\n",
      "------------------------------------------------------------\n"
     ]
    },
    {
     "name": "stderr",
     "output_type": "stream",
     "text": [
      "Epoch 33/50 [Train]: 100%|██████████| 110/110 [00:16<00:00,  6.65it/s, acc=80.4, loss=9.42]\n",
      "Epoch 33/50 [Val]: 100%|██████████| 16/16 [00:01<00:00, 11.47it/s, acc=70.5, loss=18]  \n"
     ]
    },
    {
     "name": "stdout",
     "output_type": "stream",
     "text": [
      "Epoch 33/50:\n",
      "Train Loss: 9.4165, Train Acc: 80.44%\n",
      "Val Loss: 17.9927, Val Acc: 70.46%\n",
      "------------------------------------------------------------\n"
     ]
    },
    {
     "name": "stderr",
     "output_type": "stream",
     "text": [
      "Epoch 34/50 [Train]: 100%|██████████| 110/110 [00:17<00:00,  6.39it/s, acc=80.4, loss=9.5] \n",
      "Epoch 34/50 [Val]: 100%|██████████| 16/16 [00:01<00:00, 11.33it/s, acc=70.7, loss=18]  \n"
     ]
    },
    {
     "name": "stdout",
     "output_type": "stream",
     "text": [
      "Epoch 34/50:\n",
      "Train Loss: 9.4997, Train Acc: 80.36%\n",
      "Val Loss: 17.9706, Val Acc: 70.66%\n",
      "------------------------------------------------------------\n"
     ]
    },
    {
     "name": "stderr",
     "output_type": "stream",
     "text": [
      "Epoch 35/50 [Train]: 100%|██████████| 110/110 [00:17<00:00,  6.47it/s, acc=82.1, loss=9.05]\n",
      "Epoch 35/50 [Val]: 100%|██████████| 16/16 [00:01<00:00, 10.61it/s, acc=70.7, loss=18]  \n"
     ]
    },
    {
     "name": "stdout",
     "output_type": "stream",
     "text": [
      "Epoch 35/50:\n",
      "Train Loss: 9.0482, Train Acc: 82.12%\n",
      "Val Loss: 18.0028, Val Acc: 70.66%\n",
      "------------------------------------------------------------\n"
     ]
    },
    {
     "name": "stderr",
     "output_type": "stream",
     "text": [
      "Epoch 36/50 [Train]: 100%|██████████| 110/110 [00:17<00:00,  6.41it/s, acc=80.4, loss=9.38]\n",
      "Epoch 36/50 [Val]: 100%|██████████| 16/16 [00:01<00:00,  8.19it/s, acc=70.5, loss=18.1]\n"
     ]
    },
    {
     "name": "stdout",
     "output_type": "stream",
     "text": [
      "Epoch 36/50:\n",
      "Train Loss: 9.3786, Train Acc: 80.42%\n",
      "Val Loss: 18.0707, Val Acc: 70.46%\n",
      "------------------------------------------------------------\n"
     ]
    },
    {
     "name": "stderr",
     "output_type": "stream",
     "text": [
      "Epoch 37/50 [Train]: 100%|██████████| 110/110 [00:29<00:00,  3.75it/s, acc=81.2, loss=9.06]\n",
      "Epoch 37/50 [Val]: 100%|██████████| 16/16 [00:01<00:00, 12.12it/s, acc=70.7, loss=17.9]\n"
     ]
    },
    {
     "name": "stdout",
     "output_type": "stream",
     "text": [
      "Epoch 37/50:\n",
      "Train Loss: 9.0647, Train Acc: 81.16%\n",
      "Val Loss: 17.9414, Val Acc: 70.66%\n",
      "------------------------------------------------------------\n"
     ]
    },
    {
     "name": "stderr",
     "output_type": "stream",
     "text": [
      "Epoch 38/50 [Train]: 100%|██████████| 110/110 [00:17<00:00,  6.44it/s, acc=81, loss=9.18]  \n",
      "Epoch 38/50 [Val]: 100%|██████████| 16/16 [00:01<00:00, 11.88it/s, acc=70.7, loss=17.9]\n"
     ]
    },
    {
     "name": "stdout",
     "output_type": "stream",
     "text": [
      "Epoch 38/50:\n",
      "Train Loss: 9.1764, Train Acc: 80.98%\n",
      "Val Loss: 17.9299, Val Acc: 70.66%\n",
      "------------------------------------------------------------\n"
     ]
    },
    {
     "name": "stderr",
     "output_type": "stream",
     "text": [
      "Epoch 39/50 [Train]: 100%|██████████| 110/110 [00:16<00:00,  6.68it/s, acc=80.3, loss=9.18]\n",
      "Epoch 39/50 [Val]: 100%|██████████| 16/16 [00:01<00:00, 11.98it/s, acc=71.1, loss=17.9]\n"
     ]
    },
    {
     "name": "stdout",
     "output_type": "stream",
     "text": [
      "Epoch 39/50:\n",
      "Train Loss: 9.1807, Train Acc: 80.30%\n",
      "Val Loss: 17.8585, Val Acc: 71.06%\n",
      "------------------------------------------------------------\n"
     ]
    },
    {
     "name": "stderr",
     "output_type": "stream",
     "text": [
      "Epoch 40/50 [Train]: 100%|██████████| 110/110 [00:16<00:00,  6.61it/s, acc=81.6, loss=8.99]\n",
      "Epoch 40/50 [Val]: 100%|██████████| 16/16 [00:01<00:00, 10.13it/s, acc=70.7, loss=17.8]\n"
     ]
    },
    {
     "name": "stdout",
     "output_type": "stream",
     "text": [
      "Epoch 40/50:\n",
      "Train Loss: 8.9941, Train Acc: 81.55%\n",
      "Val Loss: 17.8356, Val Acc: 70.66%\n",
      "------------------------------------------------------------\n"
     ]
    },
    {
     "name": "stderr",
     "output_type": "stream",
     "text": [
      "Epoch 41/50 [Train]: 100%|██████████| 110/110 [00:16<00:00,  6.54it/s, acc=80.7, loss=9.27]\n",
      "Epoch 41/50 [Val]: 100%|██████████| 16/16 [00:01<00:00, 11.77it/s, acc=70.7, loss=17.9]\n"
     ]
    },
    {
     "name": "stdout",
     "output_type": "stream",
     "text": [
      "Epoch 41/50:\n",
      "Train Loss: 9.2691, Train Acc: 80.70%\n",
      "Val Loss: 17.9128, Val Acc: 70.66%\n",
      "------------------------------------------------------------\n"
     ]
    },
    {
     "name": "stderr",
     "output_type": "stream",
     "text": [
      "Epoch 42/50 [Train]: 100%|██████████| 110/110 [00:16<00:00,  6.56it/s, acc=80.6, loss=9.11]\n",
      "Epoch 42/50 [Val]: 100%|██████████| 16/16 [00:01<00:00, 12.22it/s, acc=70.3, loss=18.1]\n"
     ]
    },
    {
     "name": "stdout",
     "output_type": "stream",
     "text": [
      "Epoch 42/50:\n",
      "Train Loss: 9.1101, Train Acc: 80.56%\n",
      "Val Loss: 18.1087, Val Acc: 70.26%\n",
      "------------------------------------------------------------\n"
     ]
    },
    {
     "name": "stderr",
     "output_type": "stream",
     "text": [
      "Epoch 43/50 [Train]: 100%|██████████| 110/110 [00:16<00:00,  6.67it/s, acc=80.3, loss=9.39]\n",
      "Epoch 43/50 [Val]: 100%|██████████| 16/16 [00:01<00:00, 11.78it/s, acc=70.5, loss=18.1]\n"
     ]
    },
    {
     "name": "stdout",
     "output_type": "stream",
     "text": [
      "Epoch 43/50:\n",
      "Train Loss: 9.3885, Train Acc: 80.27%\n",
      "Val Loss: 18.0944, Val Acc: 70.46%\n",
      "------------------------------------------------------------\n"
     ]
    },
    {
     "name": "stderr",
     "output_type": "stream",
     "text": [
      "Epoch 44/50 [Train]: 100%|██████████| 110/110 [00:16<00:00,  6.71it/s, acc=81.1, loss=9.21]\n",
      "Epoch 44/50 [Val]: 100%|██████████| 16/16 [00:01<00:00, 10.28it/s, acc=70.3, loss=18]  \n"
     ]
    },
    {
     "name": "stdout",
     "output_type": "stream",
     "text": [
      "Epoch 44/50:\n",
      "Train Loss: 9.2114, Train Acc: 81.13%\n",
      "Val Loss: 18.0491, Val Acc: 70.26%\n",
      "------------------------------------------------------------\n"
     ]
    },
    {
     "name": "stderr",
     "output_type": "stream",
     "text": [
      "Epoch 45/50 [Train]: 100%|██████████| 110/110 [00:16<00:00,  6.80it/s, acc=80.5, loss=9.23]\n",
      "Epoch 45/50 [Val]: 100%|██████████| 16/16 [00:01<00:00, 12.10it/s, acc=70.1, loss=18.1]\n"
     ]
    },
    {
     "name": "stdout",
     "output_type": "stream",
     "text": [
      "Epoch 45/50:\n",
      "Train Loss: 9.2295, Train Acc: 80.53%\n",
      "Val Loss: 18.0842, Val Acc: 70.06%\n",
      "------------------------------------------------------------\n"
     ]
    },
    {
     "name": "stderr",
     "output_type": "stream",
     "text": [
      "Epoch 46/50 [Train]: 100%|██████████| 110/110 [00:16<00:00,  6.63it/s, acc=81.6, loss=9.19]\n",
      "Epoch 46/50 [Val]: 100%|██████████| 16/16 [00:01<00:00,  9.38it/s, acc=70.3, loss=18.2]\n"
     ]
    },
    {
     "name": "stdout",
     "output_type": "stream",
     "text": [
      "Epoch 46/50:\n",
      "Train Loss: 9.1878, Train Acc: 81.55%\n",
      "Val Loss: 18.1722, Val Acc: 70.26%\n",
      "------------------------------------------------------------\n"
     ]
    },
    {
     "name": "stderr",
     "output_type": "stream",
     "text": [
      "Epoch 47/50 [Train]: 100%|██████████| 110/110 [00:17<00:00,  6.31it/s, acc=81.2, loss=9.28]\n",
      "Epoch 47/50 [Val]: 100%|██████████| 16/16 [00:01<00:00, 11.51it/s, acc=70.3, loss=18.1]\n"
     ]
    },
    {
     "name": "stdout",
     "output_type": "stream",
     "text": [
      "Epoch 47/50:\n",
      "Train Loss: 9.2764, Train Acc: 81.21%\n",
      "Val Loss: 18.1248, Val Acc: 70.26%\n",
      "------------------------------------------------------------\n"
     ]
    },
    {
     "name": "stderr",
     "output_type": "stream",
     "text": [
      "Epoch 48/50 [Train]: 100%|██████████| 110/110 [00:16<00:00,  6.73it/s, acc=81.1, loss=9.22]\n",
      "Epoch 48/50 [Val]: 100%|██████████| 16/16 [00:01<00:00,  9.90it/s, acc=70.3, loss=18.2]\n"
     ]
    },
    {
     "name": "stdout",
     "output_type": "stream",
     "text": [
      "Epoch 48/50:\n",
      "Train Loss: 9.2196, Train Acc: 81.10%\n",
      "Val Loss: 18.1669, Val Acc: 70.26%\n",
      "------------------------------------------------------------\n"
     ]
    },
    {
     "name": "stderr",
     "output_type": "stream",
     "text": [
      "Epoch 49/50 [Train]: 100%|██████████| 110/110 [00:25<00:00,  4.27it/s, acc=80, loss=9.46]  \n",
      "Epoch 49/50 [Val]: 100%|██████████| 16/16 [00:01<00:00, 11.61it/s, acc=70.3, loss=18.1]\n"
     ]
    },
    {
     "name": "stdout",
     "output_type": "stream",
     "text": [
      "Epoch 49/50:\n",
      "Train Loss: 9.4621, Train Acc: 80.02%\n",
      "Val Loss: 18.1107, Val Acc: 70.26%\n",
      "------------------------------------------------------------\n"
     ]
    },
    {
     "name": "stderr",
     "output_type": "stream",
     "text": [
      "Epoch 50/50 [Train]: 100%|██████████| 110/110 [00:16<00:00,  6.58it/s, acc=82, loss=8.71]  \n",
      "Epoch 50/50 [Val]: 100%|██████████| 16/16 [00:01<00:00, 10.94it/s, acc=70.3, loss=18.1]"
     ]
    },
    {
     "name": "stdout",
     "output_type": "stream",
     "text": [
      "Epoch 50/50:\n",
      "Train Loss: 8.7071, Train Acc: 81.98%\n",
      "Val Loss: 18.0862, Val Acc: 70.26%\n",
      "------------------------------------------------------------\n"
     ]
    },
    {
     "name": "stderr",
     "output_type": "stream",
     "text": [
      "\n"
     ]
    }
   ],
   "source": [
    "# Training loop\n",
    "loss_hist = []\n",
    "val_loss_hist = []\n",
    "best_val_loss = float(\"inf\")\n",
    "num_epochs = 50\n",
    "\n",
    "for epoch in range(num_epochs):\n",
    "    # Training phase\n",
    "    SNN_net.train()\n",
    "    train_loss = 0.0\n",
    "    correct_train = 0\n",
    "    total_train = 0\n",
    "\n",
    "    train_loop = tqdm(train_loader, desc=f\"Epoch {epoch+1}/{num_epochs} [Train]\")\n",
    "    for batch_idx, (data, targets) in enumerate(train_loop):\n",
    "        # Preprocess data on CPU first\n",
    "        # STFT output: (batch, channels=22, freq=129, time=57)\n",
    "        scaled_data = vectorized_stft(data)\n",
    "        scaled_data = torch.abs(scaled_data)\n",
    "\n",
    "        # Normalize data to between 0 and 1\n",
    "        if scaled_data.max() > 0:  # Avoid division by zero\n",
    "            scaled_data = scaled_data / scaled_data.max()\n",
    "\n",
    "        # Apply delta encoding - this will encode when values cross threshold\n",
    "        threshold = 0.1  # Adjust based on your data distribution\n",
    "        # data_spike = spikegen.delta(\n",
    "        #     scaled_data, threshold=threshold, padding=False, off_spike=False\n",
    "        # )\n",
    "        data_spike = spikegen.rate(\n",
    "            scaled_data, time_var_input=True\n",
    "        )\n",
    "\n",
    "        # Move data to device after preprocessing\n",
    "        data_spike, targets = data_spike.to(device), targets.to(device)\n",
    "\n",
    "        # Forward pass\n",
    "        spk_rec, mem_rec = SNN_net(data_spike)\n",
    "\n",
    "        # Calculate loss using spikes (not just final membrane potential)\n",
    "        loss_val = criterion(spk_rec, targets)\n",
    "\n",
    "        # Backward pass and optimization\n",
    "        optimizer.zero_grad()\n",
    "        loss_val.backward()\n",
    "        optimizer.step()\n",
    "\n",
    "        # Update metrics - use spike count for prediction\n",
    "        train_loss += loss_val.item()\n",
    "\n",
    "        # Sum spikes across time steps for prediction\n",
    "        spike_sum = torch.sum(spk_rec, dim=0)\n",
    "        _, predicted = torch.max(spike_sum, 1)\n",
    "\n",
    "        total_train += targets.size(0)\n",
    "        correct_train += (predicted == targets).sum().item()\n",
    "\n",
    "        # Update progress bar\n",
    "        train_loop.set_postfix(\n",
    "            loss=train_loss / (batch_idx + 1), acc=100.0 * correct_train / total_train\n",
    "        )\n",
    "\n",
    "        # Store loss\n",
    "        loss_hist.append(loss_val.item())\n",
    "\n",
    "    # Validation phase\n",
    "    SNN_net.eval()\n",
    "    val_loss = 0.0\n",
    "    correct_val = 0\n",
    "    total_val = 0\n",
    "\n",
    "    with torch.no_grad():  # No gradient calculation during validation\n",
    "        val_loop = tqdm(val_loader, desc=f\"Epoch {epoch+1}/{num_epochs} [Val]\")\n",
    "        for batch_idx, (data, targets) in enumerate(val_loop):\n",
    "            # Preprocess data on CPU first\n",
    "            scaled_data = vectorized_stft(data)\n",
    "            scaled_data = torch.abs(scaled_data)\n",
    "\n",
    "            # Normalize if needed\n",
    "            if scaled_data.max() > 0:  # Avoid division by zero\n",
    "                scaled_data = scaled_data / scaled_data.max()\n",
    "\n",
    "            # Apply delta encoding\n",
    "            data_spike = spikegen.delta(\n",
    "                scaled_data, threshold=threshold, padding=False, off_spike=False\n",
    "            )\n",
    "\n",
    "            # Move to device\n",
    "            data_spike, targets = data_spike.to(device), targets.to(device)\n",
    "\n",
    "            # Forward pass\n",
    "            spk_rec, mem_rec = SNN_net(data_spike)\n",
    "\n",
    "            # Calculate loss on spikes\n",
    "            loss_val = criterion(spk_rec, targets)\n",
    "\n",
    "            # Update metrics - use spike count for prediction\n",
    "            val_loss += loss_val.item()\n",
    "\n",
    "            # Sum spikes across time steps for prediction\n",
    "            spike_sum = torch.sum(spk_rec, dim=0)\n",
    "            _, predicted = torch.max(spike_sum, 1)\n",
    "\n",
    "            total_val += targets.size(0)\n",
    "            correct_val += (predicted == targets).sum().item()\n",
    "\n",
    "            # Update progress bar\n",
    "            val_loop.set_postfix(\n",
    "                loss=val_loss / (batch_idx + 1), acc=100.0 * correct_val / total_val\n",
    "            )\n",
    "\n",
    "        # Calculate average validation loss\n",
    "        avg_val_loss = val_loss / len(val_loader)\n",
    "        val_loss_hist.append(avg_val_loss)\n",
    "\n",
    "        # Update learning rate based on validation loss\n",
    "        scheduler.step(avg_val_loss)\n",
    "\n",
    "        # Save best model\n",
    "        if avg_val_loss < best_val_loss:\n",
    "            best_val_loss = avg_val_loss\n",
    "            torch.save(SNN_net.state_dict(), \"best_spiking_eeg_model.pth\")\n",
    "            print(f\"Saved best model with validation loss: {best_val_loss:.4f}\")\n",
    "\n",
    "    # Print epoch summary\n",
    "    print(f\"Epoch {epoch+1}/{num_epochs}:\")\n",
    "    print(\n",
    "        f\"Train Loss: {train_loss/len(train_loader):.4f}, Train Acc: {100.*correct_train/total_train:.2f}%\"\n",
    "    )\n",
    "    print(\n",
    "        f\"Val Loss: {val_loss/len(val_loader):.4f}, Val Acc: {100.*correct_val/total_val:.2f}%\"\n",
    "    )\n",
    "    print(\"-\" * 60)"
   ]
  }
 ],
 "metadata": {
  "kernelspec": {
   "display_name": "Python 3 (ipykernel)",
   "language": "python",
   "name": "python3"
  },
  "language_info": {
   "codemirror_mode": {
    "name": "ipython",
    "version": 3
   },
   "file_extension": ".py",
   "mimetype": "text/x-python",
   "name": "python",
   "nbconvert_exporter": "python",
   "pygments_lexer": "ipython3",
   "version": "3.12.6"
  }
 },
 "nbformat": 4,
 "nbformat_minor": 5
}
