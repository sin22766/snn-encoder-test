{
 "cells": [
  {
   "cell_type": "markdown",
   "id": "352d77b4-2cde-49f2-9eb2-97d6506bee39",
   "metadata": {},
   "source": [
    "# BSA encoder testing"
   ]
  },
  {
   "cell_type": "code",
   "execution_count": 1,
   "id": "fa4af7b5-7143-45ef-9ab8-863fb2f7cfec",
   "metadata": {},
   "outputs": [],
   "source": [
    "import torch\n",
    "from utils.preprocess import VectorizeSTFT\n",
    "\n",
    "\n",
    "def normalize(x: torch.Tensor) -> torch.Tensor:\n",
    "    x_min = x.min(dim=-1, keepdim=True).values\n",
    "    x_max = x.max(dim=-1, keepdim=True).values\n",
    "\n",
    "    diff = x_max - x_min\n",
    "    diff[diff == 0] = 1.0\n",
    "\n",
    "    return (x - x_min) / diff\n",
    "\n",
    "\n",
    "def preprocess_data(x: torch.Tensor) -> torch.Tensor:\n",
    "    stft_data = VectorizeSTFT(x)\n",
    "    magnitudes = torch.abs(stft_data)\n",
    "    normalized = normalize(magnitudes)\n",
    "    return normalized"
   ]
  },
  {
   "cell_type": "code",
   "execution_count": 2,
   "id": "65a33ed2-e2c3-4930-953c-98c4b050fca2",
   "metadata": {},
   "outputs": [],
   "source": [
    "from dataset import CHBMITDataset\n",
    "from torch.utils.data import Dataset\n",
    "\n",
    "\n",
    "class PreparedDataset(Dataset):\n",
    "    def __init__(self, dataset: CHBMITDataset) -> None:\n",
    "        data = preprocess_data(dataset.data)\n",
    "        self.data = data\n",
    "        self.labels = dataset.labels\n",
    "\n",
    "    def __len__(self) -> int:\n",
    "        return len(self.data)\n",
    "\n",
    "    def __getitem__(self, idx: int) -> torch.Tensor:\n",
    "        eeg_raw = self.data[idx]  # EEG data of shape (22, 2048)\n",
    "        label = self.labels[idx].bool()  # Label: 0 (interictal) or 1 (ictal)\n",
    "        return eeg_raw, label"
   ]
  },
  {
   "cell_type": "code",
   "execution_count": 3,
   "id": "03b3d62a-c626-4af4-aab4-e10004529f15",
   "metadata": {},
   "outputs": [],
   "source": [
    "data_path = \"./CHB-MIT/processed\"\n",
    "dataset = CHBMITDataset(data_path)\n",
    "prepared_dataset = PreparedDataset(dataset)"
   ]
  },
  {
   "cell_type": "code",
   "execution_count": 4,
   "id": "282a93bd-2dfa-4979-89da-a190d6006286",
   "metadata": {},
   "outputs": [],
   "source": [
    "from torch.utils.data import DataLoader\n",
    "\n",
    "data_loader = DataLoader(prepared_dataset, batch_size=32, shuffle=False, num_workers=4)"
   ]
  },
  {
   "cell_type": "code",
   "execution_count": 14,
   "id": "478d3f13-6cf3-44be-9152-01f85de5cebe",
   "metadata": {},
   "outputs": [],
   "source": [
    "import optuna\n",
    "from tqdm import tqdm\n",
    "\n",
    "from encoder import PhaseEncoderExpand\n",
    "\n",
    "def objective(trial: optuna.Trial) -> float:\n",
    "    params = {\n",
    "        \"phase_window\": trial.suggest_int(\"phase_window\", 1, 16),\n",
    "        \"normalize\": False\n",
    "    }\n",
    "\n",
    "    pe_encoder = PhaseEncoderExpand(**params)\n",
    "\n",
    "    acc_se = []\n",
    "\n",
    "    val_loop = tqdm(data_loader, leave=False)\n",
    "    for data, _ in val_loop:\n",
    "        encoded = pe_encoder.encode(data)\n",
    "        decoded = pe_encoder.decode(encoded)\n",
    "        se = torch.mean((data - decoded) ** 2).item()\n",
    "        del data, decoded\n",
    "        acc_se.append(se)\n",
    "\n",
    "    rmse = torch.sqrt(torch.tensor(acc_se).mean()).item()\n",
    "    return rmse"
   ]
  },
  {
   "cell_type": "code",
   "execution_count": 15,
   "id": "cf5b1f39-5863-4167-9f4e-d0b32589a101",
   "metadata": {},
   "outputs": [
    {
     "name": "stderr",
     "output_type": "stream",
     "text": [
      "[I 2025-04-29 01:16:18,981] Using an existing study with name 'Phase Encoder' instead of creating a new one.\n"
     ]
    }
   ],
   "source": [
    "from config import DB_CONN_STRING\n",
    "\n",
    "study = optuna.create_study(\n",
    "    direction=\"minimize\",\n",
    "    study_name=\"Phase Encoder\",\n",
    "    storage=DB_CONN_STRING,\n",
    "    load_if_exists=True,\n",
    ")\n",
    "# study = optuna.create_study(\n",
    "#     direction=\"minimize\",\n",
    "#     study_name=\"Step Forward Encoder\",\n",
    "# )"
   ]
  },
  {
   "cell_type": "code",
   "execution_count": null,
   "id": "af102e12-03e8-46ee-8591-73166eee5544",
   "metadata": {},
   "outputs": [
    {
     "name": "stderr",
     "output_type": "stream",
     "text": [
      "  3%|▎         | 5/157 [00:02<01:16,  1.99it/s]"
     ]
    }
   ],
   "source": [
    "study.optimize(objective, n_trials=50)"
   ]
  },
  {
   "cell_type": "code",
   "execution_count": null,
   "id": "ddbf5645-114c-47ec-aca4-13efa4fdf0eb",
   "metadata": {},
   "outputs": [],
   "source": []
  },
  {
   "cell_type": "code",
   "execution_count": null,
   "id": "e2c67113-0e5e-4396-ba58-45a8d0d64106",
   "metadata": {},
   "outputs": [],
   "source": []
  }
 ],
 "metadata": {
  "kernelspec": {
   "display_name": "Python 3 (ipykernel)",
   "language": "python",
   "name": "python3"
  },
  "language_info": {
   "codemirror_mode": {
    "name": "ipython",
    "version": 3
   },
   "file_extension": ".py",
   "mimetype": "text/x-python",
   "name": "python",
   "nbconvert_exporter": "python",
   "pygments_lexer": "ipython3",
   "version": "3.12.6"
  }
 },
 "nbformat": 4,
 "nbformat_minor": 5
}
