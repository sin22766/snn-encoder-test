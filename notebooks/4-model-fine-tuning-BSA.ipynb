{
 "cells": [
  {
   "cell_type": "code",
   "execution_count": 1,
   "id": "9aa4224b-a6ff-43ce-a871-5d7378604317",
   "metadata": {},
   "outputs": [],
   "source": [
    "%reload_ext autoreload\n",
    "%autoreload all\n",
    "\n",
    "%aimport -torch\n",
    "%aimport -matplotlib\n",
    "%aimport -seaborn\n",
    "%aimport -numpy\n",
    "%aimport -pandas\n",
    "%aimport -scipy\n",
    "%aimport -lightning "
   ]
  },
  {
   "cell_type": "code",
   "execution_count": 2,
   "id": "4b6c4d14",
   "metadata": {},
   "outputs": [
    {
     "name": "stderr",
     "output_type": "stream",
     "text": [
      "\u001b[32m2025-05-07 15:19:16.829\u001b[0m | \u001b[1mINFO    \u001b[0m | \u001b[36meeg_snn_encoder.config\u001b[0m:\u001b[36m<module>\u001b[0m:\u001b[36m11\u001b[0m - \u001b[1mPROJ_ROOT path is: /root/snn-encoder-test\u001b[0m\n"
     ]
    }
   ],
   "source": [
    "from eeg_snn_encoder.config import PROCESSED_DATA_DIR\n",
    "from eeg_snn_encoder.dataset import CHBMITDataset, CHBMITDataModule\n",
    "\n",
    "# Load the dataset\n",
    "dataset = CHBMITDataset(PROCESSED_DATA_DIR / \"stft_normalized.h5\")"
   ]
  },
  {
   "cell_type": "code",
   "execution_count": 3,
   "id": "83601dfc",
   "metadata": {},
   "outputs": [],
   "source": [
    "datamodule = CHBMITDataModule(dataset, batch_size=726, worker=0)"
   ]
  },
  {
   "cell_type": "code",
   "execution_count": 9,
   "id": "84ec687f",
   "metadata": {},
   "outputs": [],
   "source": [
    "import os\n",
    "\n",
    "import optuna\n",
    "\n",
    "# Initialize the Optuna study\n",
    "study = optuna.load_study(\n",
    "    study_name=\"model-tuning-bsa\",\n",
    "    storage=os.environ[\"OPTUNA_CONN_STRING\"],\n",
    ")"
   ]
  },
  {
   "cell_type": "code",
   "execution_count": 5,
   "id": "5e73b085",
   "metadata": {},
   "outputs": [
    {
     "data": {
      "text/plain": [
       "[FrozenTrial(number=1, state=1, values=[8.897629737854004], datetime_start=datetime.datetime(2025, 5, 7, 14, 46, 37, 985935), datetime_complete=datetime.datetime(2025, 5, 7, 14, 48, 14, 637899), params={'threshold': 0.05837571787591716, 'slope': 6.7082922718644795, 'beta': 0.6703615532512789, 'dropout_rate1': 0.3867650737818362, 'dropout_rate2': 0.2650897828875425, 'lr': 6.82947151662786e-05, 'weight_decay': 3.48210294726769e-06, 'scheduler_factor': 0.3434576235217472, 'scheduler_patience': 10, 'win_size': 3, 'cutoff': 0.7497922013805774, 'encoder_threshold': 0.015185576141913593}, user_attrs={}, system_attrs={'completed_rung_0': 14.532792091369629, 'completed_rung_1': 13.296854019165039, 'completed_rung_2': 10.877975463867188}, intermediate_values={0: 16.215518951416016, 1: 14.532792091369629, 2: 13.69881534576416, 3: 13.296854019165039, 4: 12.660313606262207, 5: 12.809510231018066, 6: 12.201603889465332, 7: 11.67796516418457, 8: 11.116118431091309, 9: 10.877975463867188, 10: 10.583951950073242, 11: 10.171886444091797, 12: 10.002033233642578, 13: 9.662917137145996, 14: 9.489171981811523, 15: 9.209428787231445, 16: 9.18184757232666, 17: 9.157012939453125, 18: 9.009428977966309, 19: 8.897629737854004}, distributions={'threshold': FloatDistribution(high=0.5, log=False, low=0.01, step=None), 'slope': FloatDistribution(high=20.0, log=False, low=1.0, step=None), 'beta': FloatDistribution(high=0.99, log=False, low=0.1, step=None), 'dropout_rate1': FloatDistribution(high=0.99, log=False, low=0.1, step=None), 'dropout_rate2': FloatDistribution(high=0.99, log=False, low=0.1, step=None), 'lr': FloatDistribution(high=0.0001, log=True, low=1e-06, step=None), 'weight_decay': FloatDistribution(high=0.0001, log=True, low=1e-06, step=None), 'scheduler_factor': FloatDistribution(high=0.99, log=False, low=0.1, step=None), 'scheduler_patience': IntDistribution(high=10, log=False, low=1, step=1), 'win_size': IntDistribution(high=16, log=False, low=1, step=1), 'cutoff': FloatDistribution(high=1.0, log=False, low=0.01, step=None), 'encoder_threshold': FloatDistribution(high=1.0, log=False, low=0.01, step=None)}, trial_id=2354, value=None),\n",
       " FrozenTrial(number=23, state=1, values=[10.064735412597656], datetime_start=datetime.datetime(2025, 5, 7, 14, 59, 18, 113024), datetime_complete=datetime.datetime(2025, 5, 7, 15, 0, 48, 562380), params={'threshold': 0.05401649952948953, 'slope': 6.4688051065800485, 'beta': 0.6616276280690675, 'dropout_rate1': 0.25072258261356783, 'dropout_rate2': 0.17308709175577822, 'lr': 4.1919436213824566e-05, 'weight_decay': 8.521907867925284e-06, 'scheduler_factor': 0.3262973834317039, 'scheduler_patience': 10, 'win_size': 5, 'cutoff': 0.8918019809482127, 'encoder_threshold': 0.04512827389907151}, user_attrs={}, system_attrs={'completed_rung_1': 12.875258445739746, 'completed_rung_0': 18.41338348388672}, intermediate_values={0: 25.372961044311523, 12: 11.459024429321289, 13: 11.084226608276367, 1: 25.897377014160156, 2: 22.76047706604004, 3: 18.41338348388672, 4: 18.71529197692871, 5: 17.602399826049805, 6: 14.626091003417969, 7: 13.818827629089355, 8: 12.860486030578613, 9: 12.875258445739746, 10: 11.938267707824707, 11: 11.44265079498291, 14: 10.792654991149902, 15: 10.521238327026367, 16: 10.5152006149292, 17: 10.315895080566406, 18: 10.119735717773438, 19: 10.064735412597656}, distributions={'threshold': FloatDistribution(high=0.5, log=False, low=0.01, step=None), 'slope': FloatDistribution(high=20.0, log=False, low=1.0, step=None), 'beta': FloatDistribution(high=0.99, log=False, low=0.1, step=None), 'dropout_rate1': FloatDistribution(high=0.99, log=False, low=0.1, step=None), 'dropout_rate2': FloatDistribution(high=0.99, log=False, low=0.1, step=None), 'lr': FloatDistribution(high=0.0001, log=True, low=1e-06, step=None), 'weight_decay': FloatDistribution(high=0.0001, log=True, low=1e-06, step=None), 'scheduler_factor': FloatDistribution(high=0.99, log=False, low=0.1, step=None), 'scheduler_patience': IntDistribution(high=10, log=False, low=1, step=1), 'win_size': IntDistribution(high=16, log=False, low=1, step=1), 'cutoff': FloatDistribution(high=1.0, log=False, low=0.01, step=None), 'encoder_threshold': FloatDistribution(high=1.0, log=False, low=0.01, step=None)}, trial_id=2376, value=None),\n",
       " FrozenTrial(number=48, state=1, values=[10.508305549621582], datetime_start=datetime.datetime(2025, 5, 7, 15, 14, 49, 595501), datetime_complete=datetime.datetime(2025, 5, 7, 15, 16, 14, 965493), params={'threshold': 0.05275261794318929, 'slope': 8.022099621536658, 'beta': 0.8854603733859757, 'dropout_rate1': 0.5734065390605071, 'dropout_rate2': 0.28033544367433666, 'lr': 8.390378499781596e-05, 'weight_decay': 2.7716036162035635e-06, 'scheduler_factor': 0.6534138920345022, 'scheduler_patience': 10, 'win_size': 7, 'cutoff': 0.6431378153543943, 'encoder_threshold': 0.14706010369135236}, user_attrs={}, system_attrs={'completed_rung_0': 10.550239562988281}, intermediate_values={4: 12.335457801818848, 5: 11.541934967041016, 6: 11.517919540405273, 7: 10.707273483276367, 8: 10.320430755615234, 10: 10.301491737365723, 11: 10.218847274780273, 12: 10.202482223510742, 13: 10.497904777526855, 15: 10.235682487487793, 16: 10.449433326721191, 17: 10.508305549621582, 0: 20.285585403442383, 1: 16.515363693237305, 2: 15.36780071258545, 3: 13.753396987915039, 9: 10.550239562988281, 14: 10.598631858825684}, distributions={'threshold': FloatDistribution(high=0.5, log=False, low=0.01, step=None), 'slope': FloatDistribution(high=20.0, log=False, low=1.0, step=None), 'beta': FloatDistribution(high=0.99, log=False, low=0.1, step=None), 'dropout_rate1': FloatDistribution(high=0.99, log=False, low=0.1, step=None), 'dropout_rate2': FloatDistribution(high=0.99, log=False, low=0.1, step=None), 'lr': FloatDistribution(high=0.0001, log=True, low=1e-06, step=None), 'weight_decay': FloatDistribution(high=0.0001, log=True, low=1e-06, step=None), 'scheduler_factor': FloatDistribution(high=0.99, log=False, low=0.1, step=None), 'scheduler_patience': IntDistribution(high=10, log=False, low=1, step=1), 'win_size': IntDistribution(high=16, log=False, low=1, step=1), 'cutoff': FloatDistribution(high=1.0, log=False, low=0.01, step=None), 'encoder_threshold': FloatDistribution(high=1.0, log=False, low=0.01, step=None)}, trial_id=2401, value=None),\n",
       " FrozenTrial(number=24, state=1, values=[11.1489839553833], datetime_start=datetime.datetime(2025, 5, 7, 15, 0, 49, 809914), datetime_complete=datetime.datetime(2025, 5, 7, 15, 2, 26, 65571), params={'threshold': 0.03250704644796011, 'slope': 6.1493537197334245, 'beta': 0.6755088481231007, 'dropout_rate1': 0.31398894233799535, 'dropout_rate2': 0.3572715257752467, 'lr': 4.972307729535144e-05, 'weight_decay': 1.3034839672725934e-05, 'scheduler_factor': 0.26776288806948867, 'scheduler_patience': 10, 'win_size': 8, 'cutoff': 0.8506609807713643, 'encoder_threshold': 0.14481461988096894}, user_attrs={}, system_attrs={'completed_rung_0': 14.870610237121582, 'completed_rung_1': 12.203514099121094}, intermediate_values={5: 13.396854400634766, 10: 11.644530296325684, 13: 11.749054908752441, 14: 11.26513385772705, 15: 11.261191368103027, 16: 11.166574478149414, 17: 11.168729782104492, 18: 11.043018341064453, 19: 11.1489839553833, 0: 18.081806182861328, 1: 16.908355712890625, 2: 15.522576332092285, 3: 14.870610237121582, 4: 14.100950241088867, 6: 13.068925857543945, 7: 12.597742080688477, 8: 12.52762222290039, 9: 12.203514099121094, 11: 11.525274276733398, 12: 11.67640209197998}, distributions={'threshold': FloatDistribution(high=0.5, log=False, low=0.01, step=None), 'slope': FloatDistribution(high=20.0, log=False, low=1.0, step=None), 'beta': FloatDistribution(high=0.99, log=False, low=0.1, step=None), 'dropout_rate1': FloatDistribution(high=0.99, log=False, low=0.1, step=None), 'dropout_rate2': FloatDistribution(high=0.99, log=False, low=0.1, step=None), 'lr': FloatDistribution(high=0.0001, log=True, low=1e-06, step=None), 'weight_decay': FloatDistribution(high=0.0001, log=True, low=1e-06, step=None), 'scheduler_factor': FloatDistribution(high=0.99, log=False, low=0.1, step=None), 'scheduler_patience': IntDistribution(high=10, log=False, low=1, step=1), 'win_size': IntDistribution(high=16, log=False, low=1, step=1), 'cutoff': FloatDistribution(high=1.0, log=False, low=0.01, step=None), 'encoder_threshold': FloatDistribution(high=1.0, log=False, low=0.01, step=None)}, trial_id=2377, value=None),\n",
       " FrozenTrial(number=0, state=1, values=[12.454021453857422], datetime_start=datetime.datetime(2025, 5, 7, 14, 45, 0, 444173), datetime_complete=datetime.datetime(2025, 5, 7, 14, 46, 36, 787842), params={'threshold': 0.06560935122788826, 'slope': 19.515178794292677, 'beta': 0.7485738238159846, 'dropout_rate1': 0.41280634724450427, 'dropout_rate2': 0.7297685730505821, 'lr': 3.9738292608377826e-05, 'weight_decay': 1.95489622971466e-05, 'scheduler_factor': 0.4689936503974681, 'scheduler_patience': 8, 'win_size': 4, 'cutoff': 0.2634325069849827, 'encoder_threshold': 0.03377124060390732}, user_attrs={}, system_attrs={}, intermediate_values={0: 21.418102264404297, 1: 21.763378143310547, 2: 19.86510467529297, 3: 16.462366104125977, 4: 15.577781677246094, 5: 15.635724067687988, 6: 14.920635223388672, 7: 13.990326881408691, 8: 14.124844551086426, 9: 13.879631042480469, 10: 13.339655876159668, 11: 13.505833625793457, 12: 13.345876693725586, 13: 13.245142936706543, 14: 13.291040420532227, 15: 13.122340202331543, 16: 13.183880805969238, 17: 12.87763786315918, 18: 12.83231258392334, 19: 12.454021453857422}, distributions={'threshold': FloatDistribution(high=0.5, log=False, low=0.01, step=None), 'slope': FloatDistribution(high=20.0, log=False, low=1.0, step=None), 'beta': FloatDistribution(high=0.99, log=False, low=0.1, step=None), 'dropout_rate1': FloatDistribution(high=0.99, log=False, low=0.1, step=None), 'dropout_rate2': FloatDistribution(high=0.99, log=False, low=0.1, step=None), 'lr': FloatDistribution(high=0.0001, log=True, low=1e-06, step=None), 'weight_decay': FloatDistribution(high=0.0001, log=True, low=1e-06, step=None), 'scheduler_factor': FloatDistribution(high=0.99, log=False, low=0.1, step=None), 'scheduler_patience': IntDistribution(high=10, log=False, low=1, step=1), 'win_size': IntDistribution(high=16, log=False, low=1, step=1), 'cutoff': FloatDistribution(high=1.0, log=False, low=0.01, step=None), 'encoder_threshold': FloatDistribution(high=1.0, log=False, low=0.01, step=None)}, trial_id=2353, value=None),\n",
       " FrozenTrial(number=32, state=1, values=[14.0366849899292], datetime_start=datetime.datetime(2025, 5, 7, 15, 6, 12, 472313), datetime_complete=datetime.datetime(2025, 5, 7, 15, 7, 37, 829134), params={'threshold': 0.023915131502574617, 'slope': 11.330673850842583, 'beta': 0.7720648953084187, 'dropout_rate1': 0.36091266509645886, 'dropout_rate2': 0.23279259287818602, 'lr': 7.158467502289997e-05, 'weight_decay': 1.4736272518315266e-06, 'scheduler_factor': 0.3754725277112291, 'scheduler_patience': 10, 'win_size': 3, 'cutoff': 0.705183746166932, 'encoder_threshold': 0.01551965208869266}, user_attrs={}, system_attrs={'completed_rung_0': 15.420573234558105}, intermediate_values={0: 31.930095672607422, 1: 28.822402954101562, 2: 26.043201446533203, 3: 22.00758934020996, 4: 18.022310256958008, 5: 17.403371810913086, 6: 17.01571273803711, 7: 16.10988998413086, 16: 13.774950981140137, 8: 15.767555236816406, 9: 15.420573234558105, 10: 14.601471900939941, 11: 13.985197067260742, 12: 13.827428817749023, 13: 13.51408863067627, 14: 13.567893981933594, 15: 14.885882377624512, 17: 14.55415153503418, 18: 14.0366849899292}, distributions={'threshold': FloatDistribution(high=0.5, log=False, low=0.01, step=None), 'slope': FloatDistribution(high=20.0, log=False, low=1.0, step=None), 'beta': FloatDistribution(high=0.99, log=False, low=0.1, step=None), 'dropout_rate1': FloatDistribution(high=0.99, log=False, low=0.1, step=None), 'dropout_rate2': FloatDistribution(high=0.99, log=False, low=0.1, step=None), 'lr': FloatDistribution(high=0.0001, log=True, low=1e-06, step=None), 'weight_decay': FloatDistribution(high=0.0001, log=True, low=1e-06, step=None), 'scheduler_factor': FloatDistribution(high=0.99, log=False, low=0.1, step=None), 'scheduler_patience': IntDistribution(high=10, log=False, low=1, step=1), 'win_size': IntDistribution(high=16, log=False, low=1, step=1), 'cutoff': FloatDistribution(high=1.0, log=False, low=0.01, step=None), 'encoder_threshold': FloatDistribution(high=1.0, log=False, low=0.01, step=None)}, trial_id=2385, value=None),\n",
       " FrozenTrial(number=13, state=1, values=[14.227081298828125], datetime_start=datetime.datetime(2025, 5, 7, 14, 54, 32, 379823), datetime_complete=datetime.datetime(2025, 5, 7, 14, 56, 3, 290791), params={'threshold': 0.02981082563174235, 'slope': 6.33555705732252, 'beta': 0.39846812467963344, 'dropout_rate1': 0.5620895271911488, 'dropout_rate2': 0.31487945566606235, 'lr': 3.106285378415084e-05, 'weight_decay': 1.9167144308495277e-06, 'scheduler_factor': 0.3328598323728999, 'scheduler_patience': 9, 'win_size': 4, 'cutoff': 0.774898287574246, 'encoder_threshold': 0.050771519772147444}, user_attrs={}, system_attrs={'completed_rung_0': 18.092636108398438, 'completed_rung_1': 15.46725845336914}, intermediate_values={0: 20.007295608520508, 1: 20.07509422302246, 2: 18.14728546142578, 3: 18.092636108398438, 4: 17.872093200683594, 5: 16.747695922851562, 6: 16.834436416625977, 7: 16.032609939575195, 8: 16.20524024963379, 9: 15.46725845336914, 10: 15.344907760620117, 11: 14.871315956115723, 12: 14.66826057434082, 13: 14.204841613769531, 14: 14.19128704071045, 15: 14.031699180603027, 16: 13.706884384155273, 17: 13.899612426757812, 18: 13.721207618713379, 19: 14.227081298828125}, distributions={'threshold': FloatDistribution(high=0.5, log=False, low=0.01, step=None), 'slope': FloatDistribution(high=20.0, log=False, low=1.0, step=None), 'beta': FloatDistribution(high=0.99, log=False, low=0.1, step=None), 'dropout_rate1': FloatDistribution(high=0.99, log=False, low=0.1, step=None), 'dropout_rate2': FloatDistribution(high=0.99, log=False, low=0.1, step=None), 'lr': FloatDistribution(high=0.0001, log=True, low=1e-06, step=None), 'weight_decay': FloatDistribution(high=0.0001, log=True, low=1e-06, step=None), 'scheduler_factor': FloatDistribution(high=0.99, log=False, low=0.1, step=None), 'scheduler_patience': IntDistribution(high=10, log=False, low=1, step=1), 'win_size': IntDistribution(high=16, log=False, low=1, step=1), 'cutoff': FloatDistribution(high=1.0, log=False, low=0.01, step=None), 'encoder_threshold': FloatDistribution(high=1.0, log=False, low=0.01, step=None)}, trial_id=2366, value=None),\n",
       " FrozenTrial(number=30, state=1, values=[14.382542610168457], datetime_start=datetime.datetime(2025, 5, 7, 15, 4, 40, 995860), datetime_complete=datetime.datetime(2025, 5, 7, 15, 5, 57, 304767), params={'threshold': 0.01202825170293408, 'slope': 10.755085802201428, 'beta': 0.7559898692535646, 'dropout_rate1': 0.41090878116606283, 'dropout_rate2': 0.45169462877320743, 'lr': 9.290640990455104e-05, 'weight_decay': 1.1637387520235311e-05, 'scheduler_factor': 0.26933893547673043, 'scheduler_patience': 10, 'win_size': 11, 'cutoff': 0.7263730846208577, 'encoder_threshold': 0.25187284581298763}, user_attrs={}, system_attrs={'completed_rung_0': 15.976107597351074, 'completed_rung_1': 11.963663101196289}, intermediate_values={9: 11.963663101196289, 10: 11.468035697937012, 11: 11.750691413879395, 12: 11.88398265838623, 13: 14.999909400939941, 14: 16.533048629760742, 15: 14.382542610168457, 0: 29.251598358154297, 1: 24.506549835205078, 2: 17.537551879882812, 3: 15.976107597351074, 4: 15.041884422302246, 5: 13.958412170410156, 6: 12.466208457946777, 7: 12.456768035888672, 8: 12.654306411743164}, distributions={'threshold': FloatDistribution(high=0.5, log=False, low=0.01, step=None), 'slope': FloatDistribution(high=20.0, log=False, low=1.0, step=None), 'beta': FloatDistribution(high=0.99, log=False, low=0.1, step=None), 'dropout_rate1': FloatDistribution(high=0.99, log=False, low=0.1, step=None), 'dropout_rate2': FloatDistribution(high=0.99, log=False, low=0.1, step=None), 'lr': FloatDistribution(high=0.0001, log=True, low=1e-06, step=None), 'weight_decay': FloatDistribution(high=0.0001, log=True, low=1e-06, step=None), 'scheduler_factor': FloatDistribution(high=0.99, log=False, low=0.1, step=None), 'scheduler_patience': IntDistribution(high=10, log=False, low=1, step=1), 'win_size': IntDistribution(high=16, log=False, low=1, step=1), 'cutoff': FloatDistribution(high=1.0, log=False, low=0.01, step=None), 'encoder_threshold': FloatDistribution(high=1.0, log=False, low=0.01, step=None)}, trial_id=2383, value=None)]"
      ]
     },
     "execution_count": 5,
     "metadata": {},
     "output_type": "execute_result"
    }
   ],
   "source": [
    "complete_trial = study.get_trials(False, states=(optuna.trial.TrialState.COMPLETE,))\n",
    "sorted_trials = sorted(complete_trial, key=lambda t: t.value)\n",
    "filtered_trials = list(filter(lambda t: t.value < 15, sorted_trials))\n",
    "filtered_trials"
   ]
  },
  {
   "cell_type": "code",
   "execution_count": 7,
   "id": "141e06ab",
   "metadata": {
    "editable": true,
    "slideshow": {
     "slide_type": ""
    },
    "tags": []
   },
   "outputs": [],
   "source": [
    "from loguru import logger\n",
    "\n",
    "import lightning.pytorch as pl\n",
    "from lightning.pytorch.callbacks.early_stopping import EarlyStopping\n",
    "from optuna.integration import PyTorchLightningPruningCallback\n",
    "\n",
    "from eeg_snn_encoder.encoders import BSAEncoder\n",
    "from eeg_snn_encoder.models.classifier import ModelConfig\n",
    "from eeg_snn_encoder.models.lightning import LitSeizureClassifier, OptimizerConfig\n",
    "import torch\n",
    "from IPython.display import clear_output\n",
    "\n",
    "torch.set_float32_matmul_precision('medium')\n",
    "\n",
    "\n",
    "def objective(trial: optuna.Trial) -> float:\n",
    "    clear_output(wait=True)\n",
    "    model_params: ModelConfig = {\n",
    "        \"threshold\": trial.suggest_float(\"threshold\", 0.01, 0.5),\n",
    "        \"slope\": trial.suggest_float(\"slope\", 1.0, 20.0),\n",
    "        \"beta\": trial.suggest_float(\"beta\", 0.1, 0.99),\n",
    "        \"dropout_rate1\": trial.suggest_float(\"dropout_rate1\", 0.1, 0.99),\n",
    "        \"dropout_rate2\": trial.suggest_float(\"dropout_rate2\", 0.1, 0.99),\n",
    "    }\n",
    "\n",
    "    optimizer_params: OptimizerConfig = {\n",
    "        \"lr\": trial.suggest_float(\"lr\", 1e-6, 1e-4, log=True),\n",
    "        \"weight_decay\": trial.suggest_float(\"weight_decay\", 1e-6, 1e-4, log=True),\n",
    "        \"scheduler_factor\": trial.suggest_float(\"scheduler_factor\", 0.1, 0.99),\n",
    "        \"scheduler_patience\": trial.suggest_int(\"scheduler_patience\", 1, 10),\n",
    "    }\n",
    "\n",
    "    max_window = trial.suggest_int(\"max_window\", 4, 16)\n",
    "    n_max = trial.suggest_int(\"n_max\", 1, max_window)\n",
    "    t_max = trial.suggest_int(\"t_max\", 0, max_window // n_max)\n",
    "    t_min = trial.suggest_int(\"t_min\", 0, t_max)\n",
    "\n",
    "    encoder_params = {\n",
    "        \"win_size\": trial.suggest_int(\"win_size\", 1, 16),\n",
    "        \"cutoff\": trial.suggest_float(\"cutoff\", 0.01, 1),\n",
    "        \"threshold\": trial.suggest_float(\"encoder_threshold\", 0.01, 1),\n",
    "    }\n",
    "\n",
    "    spike_encoder = BSAEncoder(**encoder_params)\n",
    "    \n",
    "    lit_model = LitSeizureClassifier(\n",
    "        model_config=model_params,\n",
    "        optimizer_config=optimizer_params,\n",
    "        spike_encoder=spike_encoder,\n",
    "    )\n",
    "\n",
    "    trainer = pl.Trainer(\n",
    "        max_epochs=50,\n",
    "        accelerator=\"auto\",\n",
    "        devices=\"auto\",\n",
    "        strategy=\"auto\",\n",
    "        enable_model_summary=False,\n",
    "        enable_checkpointing=False,\n",
    "        callbacks=[PyTorchLightningPruningCallback(trial, monitor=\"val_loss\"), EarlyStopping(monitor=\"val_loss\", mode=\"min\", patience=5)],\n",
    "        logger=False,\n",
    "    )\n",
    "\n",
    "    trainer.fit(lit_model, datamodule=datamodule)\n",
    "\n",
    "    val_loss = trainer.callback_metrics[\"val_loss\"].item()\n",
    "    \n",
    "    trainer.test(lit_model, datamodule=datamodule)\n",
    "\n",
    "    test_loss = trainer.callback_metrics[\"test_loss\"].item()\n",
    "    test_acc = trainer.callback_metrics[\"test_acc\"]\n",
    "    test_f1 = trainer.callback_metrics[\"test_f1\"]\n",
    "    test_mse = trainer.callback_metrics[\"test_mse\"]\n",
    "    test_total_spikes = trainer.callback_metrics[\"test_total_spikes\"]\n",
    "\n",
    "    logger.info(f\"Encoder: BSA Encoding,trial: {trial.number}, test_loss:{test_loss}, test_mse:{test_mse}, test_acc:{test_acc}, test_f1:{test_f1}, test_total_spikes:{test_total_spikes}\")\n",
    "\n",
    "    return val_loss"
   ]
  },
  {
   "cell_type": "code",
   "execution_count": 10,
   "id": "e0028fce",
   "metadata": {},
   "outputs": [
    {
     "name": "stderr",
     "output_type": "stream",
     "text": [
      "GPU available: True (cuda), used: True\n",
      "TPU available: False, using: 0 TPU cores\n",
      "HPU available: False, using: 0 HPUs\n",
      "LOCAL_RANK: 0 - CUDA_VISIBLE_DEVICES: [0]\n"
     ]
    },
    {
     "data": {
      "application/vnd.jupyter.widget-view+json": {
       "model_id": "5968038a29a84dcea5e755a6337f52f6",
       "version_major": 2,
       "version_minor": 0
      },
      "text/plain": [
       "Sanity Checking: |          | 0/? [00:00<?, ?it/s]"
      ]
     },
     "metadata": {},
     "output_type": "display_data"
    },
    {
     "data": {
      "application/vnd.jupyter.widget-view+json": {
       "model_id": "28656f09685d431f99c7488ad927c8e2",
       "version_major": 2,
       "version_minor": 0
      },
      "text/plain": [
       "Training: |          | 0/? [00:00<?, ?it/s]"
      ]
     },
     "metadata": {},
     "output_type": "display_data"
    },
    {
     "data": {
      "application/vnd.jupyter.widget-view+json": {
       "model_id": "3a9d0df341b14751b6a98a0f046c0b00",
       "version_major": 2,
       "version_minor": 0
      },
      "text/plain": [
       "Validation: |          | 0/? [00:00<?, ?it/s]"
      ]
     },
     "metadata": {},
     "output_type": "display_data"
    },
    {
     "data": {
      "application/vnd.jupyter.widget-view+json": {
       "model_id": "60cd8dd321fb4b0f845561e0fd22d438",
       "version_major": 2,
       "version_minor": 0
      },
      "text/plain": [
       "Validation: |          | 0/? [00:00<?, ?it/s]"
      ]
     },
     "metadata": {},
     "output_type": "display_data"
    },
    {
     "data": {
      "application/vnd.jupyter.widget-view+json": {
       "model_id": "c7744cf444b4420c9aa8959989413f7f",
       "version_major": 2,
       "version_minor": 0
      },
      "text/plain": [
       "Validation: |          | 0/? [00:00<?, ?it/s]"
      ]
     },
     "metadata": {},
     "output_type": "display_data"
    },
    {
     "data": {
      "application/vnd.jupyter.widget-view+json": {
       "model_id": "2c16262b46fd41b8b328cfd618851457",
       "version_major": 2,
       "version_minor": 0
      },
      "text/plain": [
       "Validation: |          | 0/? [00:00<?, ?it/s]"
      ]
     },
     "metadata": {},
     "output_type": "display_data"
    },
    {
     "data": {
      "application/vnd.jupyter.widget-view+json": {
       "model_id": "259226fa46cf4de7bde0b03b6bd0d7cc",
       "version_major": 2,
       "version_minor": 0
      },
      "text/plain": [
       "Validation: |          | 0/? [00:00<?, ?it/s]"
      ]
     },
     "metadata": {},
     "output_type": "display_data"
    },
    {
     "data": {
      "application/vnd.jupyter.widget-view+json": {
       "model_id": "c35ce0e789d14f74b197de97fee7efb1",
       "version_major": 2,
       "version_minor": 0
      },
      "text/plain": [
       "Validation: |          | 0/? [00:00<?, ?it/s]"
      ]
     },
     "metadata": {},
     "output_type": "display_data"
    },
    {
     "data": {
      "application/vnd.jupyter.widget-view+json": {
       "model_id": "b6b7e7767411478e8928d13e16ed6c98",
       "version_major": 2,
       "version_minor": 0
      },
      "text/plain": [
       "Validation: |          | 0/? [00:00<?, ?it/s]"
      ]
     },
     "metadata": {},
     "output_type": "display_data"
    },
    {
     "data": {
      "application/vnd.jupyter.widget-view+json": {
       "model_id": "b58d9d3ecac24db58a1cdb0f30db2d68",
       "version_major": 2,
       "version_minor": 0
      },
      "text/plain": [
       "Validation: |          | 0/? [00:00<?, ?it/s]"
      ]
     },
     "metadata": {},
     "output_type": "display_data"
    },
    {
     "data": {
      "application/vnd.jupyter.widget-view+json": {
       "model_id": "88ed831e2bd04cb3bfc4b587159cf6c1",
       "version_major": 2,
       "version_minor": 0
      },
      "text/plain": [
       "Validation: |          | 0/? [00:00<?, ?it/s]"
      ]
     },
     "metadata": {},
     "output_type": "display_data"
    },
    {
     "data": {
      "application/vnd.jupyter.widget-view+json": {
       "model_id": "026b866896014aa699bc657d2439d973",
       "version_major": 2,
       "version_minor": 0
      },
      "text/plain": [
       "Validation: |          | 0/? [00:00<?, ?it/s]"
      ]
     },
     "metadata": {},
     "output_type": "display_data"
    },
    {
     "data": {
      "application/vnd.jupyter.widget-view+json": {
       "model_id": "c77ed115f8fb4b8ba963ed4924057ff6",
       "version_major": 2,
       "version_minor": 0
      },
      "text/plain": [
       "Validation: |          | 0/? [00:00<?, ?it/s]"
      ]
     },
     "metadata": {},
     "output_type": "display_data"
    },
    {
     "data": {
      "application/vnd.jupyter.widget-view+json": {
       "model_id": "e4549139a93a421a9dfa966a478aedc0",
       "version_major": 2,
       "version_minor": 0
      },
      "text/plain": [
       "Validation: |          | 0/? [00:00<?, ?it/s]"
      ]
     },
     "metadata": {},
     "output_type": "display_data"
    },
    {
     "data": {
      "application/vnd.jupyter.widget-view+json": {
       "model_id": "f3e17af9dd6d48f6b94475effee1f24a",
       "version_major": 2,
       "version_minor": 0
      },
      "text/plain": [
       "Validation: |          | 0/? [00:00<?, ?it/s]"
      ]
     },
     "metadata": {},
     "output_type": "display_data"
    },
    {
     "data": {
      "application/vnd.jupyter.widget-view+json": {
       "model_id": "65695e4241464bce9d320e74fc998f50",
       "version_major": 2,
       "version_minor": 0
      },
      "text/plain": [
       "Validation: |          | 0/? [00:00<?, ?it/s]"
      ]
     },
     "metadata": {},
     "output_type": "display_data"
    },
    {
     "data": {
      "application/vnd.jupyter.widget-view+json": {
       "model_id": "f7b9f16631ab4f908004cf3601957403",
       "version_major": 2,
       "version_minor": 0
      },
      "text/plain": [
       "Validation: |          | 0/? [00:00<?, ?it/s]"
      ]
     },
     "metadata": {},
     "output_type": "display_data"
    },
    {
     "data": {
      "application/vnd.jupyter.widget-view+json": {
       "model_id": "c6b1bca764fc476a87695bc7df1cb882",
       "version_major": 2,
       "version_minor": 0
      },
      "text/plain": [
       "Validation: |          | 0/? [00:00<?, ?it/s]"
      ]
     },
     "metadata": {},
     "output_type": "display_data"
    },
    {
     "data": {
      "application/vnd.jupyter.widget-view+json": {
       "model_id": "db84b5ad80a44d4c8ea07c80b04ee7dc",
       "version_major": 2,
       "version_minor": 0
      },
      "text/plain": [
       "Validation: |          | 0/? [00:00<?, ?it/s]"
      ]
     },
     "metadata": {},
     "output_type": "display_data"
    },
    {
     "data": {
      "application/vnd.jupyter.widget-view+json": {
       "model_id": "58b261facbad45878929817328d0f517",
       "version_major": 2,
       "version_minor": 0
      },
      "text/plain": [
       "Validation: |          | 0/? [00:00<?, ?it/s]"
      ]
     },
     "metadata": {},
     "output_type": "display_data"
    },
    {
     "data": {
      "application/vnd.jupyter.widget-view+json": {
       "model_id": "c2de942b6c944c73a694dbada873d4d4",
       "version_major": 2,
       "version_minor": 0
      },
      "text/plain": [
       "Validation: |          | 0/? [00:00<?, ?it/s]"
      ]
     },
     "metadata": {},
     "output_type": "display_data"
    },
    {
     "data": {
      "application/vnd.jupyter.widget-view+json": {
       "model_id": "0f3203f4e2be47dab14a1b91bd49f216",
       "version_major": 2,
       "version_minor": 0
      },
      "text/plain": [
       "Validation: |          | 0/? [00:00<?, ?it/s]"
      ]
     },
     "metadata": {},
     "output_type": "display_data"
    },
    {
     "data": {
      "application/vnd.jupyter.widget-view+json": {
       "model_id": "80d576ae885942f9a0940969de005528",
       "version_major": 2,
       "version_minor": 0
      },
      "text/plain": [
       "Validation: |          | 0/? [00:00<?, ?it/s]"
      ]
     },
     "metadata": {},
     "output_type": "display_data"
    },
    {
     "name": "stderr",
     "output_type": "stream",
     "text": [
      "[I 2025-05-07 15:35:37,879] Trial 59 pruned. Trial was pruned at epoch 20.\n"
     ]
    }
   ],
   "source": [
    "for trial in filtered_trials:\n",
    "    study.enqueue_trial(params=trial.params)\n",
    "\n",
    "study.optimize(objective, n_trials=len(filtered_trials))"
   ]
  },
  {
   "cell_type": "code",
   "execution_count": 12,
   "id": "10c76e9c",
   "metadata": {},
   "outputs": [
    {
     "name": "stdout",
     "output_type": "stream",
     "text": [
      "\u001b[32m2025-05-07 15:35:50.339\u001b[0m | \u001b[1mINFO    \u001b[0m | \u001b[36m__main__\u001b[0m:\u001b[36m<module>\u001b[0m:\u001b[36m1\u001b[0m - \u001b[1mEncoder: BSA Encoding,trial, best_param: {'threshold': 0.05837571787591716, 'slope': 6.7082922718644795, 'beta': 0.6703615532512789, 'dropout_rate1': 0.3867650737818362, 'dropout_rate2': 0.2650897828875425, 'lr': 6.82947151662786e-05, 'weight_decay': 3.48210294726769e-06, 'scheduler_factor': 0.3434576235217472, 'scheduler_patience': 10, 'max_window': 13, 'n_max': 9, 't_max': 0, 't_min': 0, 'win_size': 3, 'cutoff': 0.7497922013805774, 'encoder_threshold': 0.015185576141913593}\u001b[0m\n",
      "\u001b[32m2025-05-07 15:35:50.775\u001b[0m | \u001b[1mINFO    \u001b[0m | \u001b[36m__main__\u001b[0m:\u001b[36m<module>\u001b[0m:\u001b[36m2\u001b[0m - \u001b[1mEncoder: BSA Encoding,trial, best_score: 8.295167922973633\u001b[0m\n"
     ]
    }
   ],
   "source": [
    "logger.info(f\"Encoder: BSA Encoding,trial, best_param: {study.best_params}\")\n",
    "logger.info(f\"Encoder: BSA Encoding,trial, best_score: {study.best_value}\")"
   ]
  }
 ],
 "metadata": {
  "kernelspec": {
   "display_name": ".venv",
   "language": "python",
   "name": "python3"
  },
  "language_info": {
   "codemirror_mode": {
    "name": "ipython",
    "version": 3
   },
   "file_extension": ".py",
   "mimetype": "text/x-python",
   "name": "python",
   "nbconvert_exporter": "python",
   "pygments_lexer": "ipython3",
   "version": "3.12.9"
  }
 },
 "nbformat": 4,
 "nbformat_minor": 5
}
