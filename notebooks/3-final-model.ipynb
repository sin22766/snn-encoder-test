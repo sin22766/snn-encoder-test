{
 "cells": [
  {
   "cell_type": "markdown",
   "id": "87c454f1",
   "metadata": {},
   "source": [
    "# Final Model Comparison\n"
   ]
  },
  {
   "cell_type": "code",
   "execution_count": 1,
   "id": "cf58d4e8",
   "metadata": {},
   "outputs": [
    {
     "name": "stderr",
     "output_type": "stream",
     "text": [
      "\u001b[32m2025-05-04 22:36:48.885\u001b[0m | \u001b[1mINFO    \u001b[0m | \u001b[36meeg_snn_encoder.config\u001b[0m:\u001b[36m<module>\u001b[0m:\u001b[36m11\u001b[0m - \u001b[1mPROJ_ROOT path is: E:\\Projects\\snn-encoder-test\u001b[0m\n"
     ]
    }
   ],
   "source": [
    "from eeg_snn_encoder.dataset import CHBMITDataset\n",
    "from eeg_snn_encoder.config import PROCESSED_DATA_DIR\n",
    "\n",
    "# Load the dataset\n",
    "dataset = CHBMITDataset(PROCESSED_DATA_DIR / \"stft_normalized.h5\")"
   ]
  },
  {
   "cell_type": "code",
   "execution_count": 2,
   "id": "baf64a91",
   "metadata": {},
   "outputs": [],
   "source": [
    "import torch\n",
    "from torch.utils.data import DataLoader, random_split\n",
    "\n",
    "generator = torch.Generator().manual_seed(42)\n",
    "\n",
    "train_dataset, val_dataset, test_dataset = random_split(dataset, [0.7, 0.1, 0.2], generator=generator)\n",
    "\n",
    "train_loader = DataLoader(train_dataset, batch_size=32, num_workers=15, persistent_workers=True)\n",
    "val_loader = DataLoader(val_dataset, batch_size=32, num_workers=15, persistent_workers=True)\n",
    "test_loader = DataLoader(test_dataset, batch_size=32, num_workers=15, persistent_workers=True)"
   ]
  },
  {
   "cell_type": "code",
   "execution_count": null,
   "id": "0b03260f",
   "metadata": {},
   "outputs": [
    {
     "name": "stderr",
     "output_type": "stream",
     "text": [
      "Using default `ModelCheckpoint`. Consider installing `litmodels` package to enable `LitModelCheckpoint` for automatic upload to the Lightning model registry.\n",
      "GPU available: True (cuda), used: True\n",
      "TPU available: False, using: 0 TPU cores\n",
      "HPU available: False, using: 0 HPUs\n",
      "LOCAL_RANK: 0 - CUDA_VISIBLE_DEVICES: [0]\n",
      "\n",
      "  | Name  | Type                   | Params | Mode \n",
      "---------------------------------------------------------\n",
      "0 | model | EEGSTFTSpikeClassifier | 824 K  | train\n",
      "---------------------------------------------------------\n",
      "824 K     Trainable params\n",
      "0         Non-trainable params\n",
      "824 K     Total params\n",
      "3.299     Total estimated model params size (MB)\n",
      "13        Modules in train mode\n",
      "0         Modules in eval mode\n"
     ]
    },
    {
     "data": {
      "application/vnd.jupyter.widget-view+json": {
       "model_id": "f13fe5b9049b4b2995b4e8f3166f7122",
       "version_major": 2,
       "version_minor": 0
      },
      "text/plain": [
       "Sanity Checking: |          | 0/? [00:00<?, ?it/s]"
      ]
     },
     "metadata": {},
     "output_type": "display_data"
    },
    {
     "data": {
      "application/vnd.jupyter.widget-view+json": {
       "model_id": "b284e636625041479e36adf4ae694071",
       "version_major": 2,
       "version_minor": 0
      },
      "text/plain": [
       "Training: |          | 0/? [00:00<?, ?it/s]"
      ]
     },
     "metadata": {},
     "output_type": "display_data"
    }
   ],
   "source": [
    "import lightning.pytorch as pl\n",
    "\n",
    "from eeg_snn_encoder.encoders import PoissonEncoder\n",
    "from eeg_snn_encoder.models.classifier import ModelConfig, EEGSTFTSpikeClassifier\n",
    "from eeg_snn_encoder.models.lightning import LitEvalSeizureClassifier, OptimizerConfig\n",
    "\n",
    "model_params: ModelConfig = {\n",
    "    \"threshold\": 0.279848429726772,\n",
    "    \"slope\": 7.481824299320472,\n",
    "    \"beta\": 0.51966978465064,\n",
    "    \"dropout_rate1\": 0.5407012533686575,\n",
    "    \"dropout_rate2\": 0.3643962622542456,\n",
    "}\n",
    "\n",
    "optimizer_params: OptimizerConfig = {\n",
    "    \"lr\": 9.192533042633165e-05,\n",
    "    \"weight_decay\": 3.881504690507441e-06,\n",
    "    \"scheduler_factor\": 0.4764851331315718,\n",
    "    \"scheduler_patience\": 4,\n",
    "}\n",
    "\n",
    "encoder = PoissonEncoder(interval_freq=10)\n",
    "\n",
    "model = EEGSTFTSpikeClassifier(config=model_params)\n",
    "\n",
    "lit_model = LitEvalSeizureClassifier(\n",
    "    model=model,\n",
    "    optimizer_config=optimizer_params,\n",
    "    spike_encoder=encoder,\n",
    ")\n",
    "\n",
    "trainer = pl.Trainer(max_epochs=100, accelerator=\"gpu\", devices=1, logger=False)\n",
    "trainer.fit(lit_model, train_dataloaders=train_loader, val_dataloaders=val_loader)\n",
    "trainer.test(lit_model, dataloaders=test_loader)"
   ]
  }
 ],
 "metadata": {
  "kernelspec": {
   "display_name": ".venv",
   "language": "python",
   "name": "python3"
  },
  "language_info": {
   "codemirror_mode": {
    "name": "ipython",
    "version": 3
   },
   "file_extension": ".py",
   "mimetype": "text/x-python",
   "name": "python",
   "nbconvert_exporter": "python",
   "pygments_lexer": "ipython3",
   "version": "3.12.9"
  }
 },
 "nbformat": 4,
 "nbformat_minor": 5
}
