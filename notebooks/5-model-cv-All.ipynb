{
 "cells": [
  {
   "cell_type": "code",
   "execution_count": 1,
   "id": "3d85389b",
   "metadata": {},
   "outputs": [],
   "source": [
    "%reload_ext autoreload\n",
    "%autoreload all\n",
    "\n",
    "%aimport -torch\n",
    "%aimport -matplotlib\n",
    "%aimport -seaborn\n",
    "%aimport -numpy\n",
    "%aimport -pandas\n",
    "%aimport -scipy\n",
    "%aimport -lightning "
   ]
  },
  {
   "cell_type": "code",
   "execution_count": 2,
   "id": "f58ebcd4",
   "metadata": {},
   "outputs": [
    {
     "name": "stderr",
     "output_type": "stream",
     "text": [
      "\u001b[32m2025-06-12 07:19:11.363\u001b[0m | \u001b[1mINFO    \u001b[0m | \u001b[36meeg_snn_encoder.config\u001b[0m:\u001b[36m<module>\u001b[0m:\u001b[36m11\u001b[0m - \u001b[1mPROJ_ROOT path is: /workspace/snn-encoder-test\u001b[0m\n"
     ]
    }
   ],
   "source": [
    "import optuna\n",
    "import torch\n",
    "import random\n",
    "import numpy as np\n",
    "\n",
    "from eeg_snn_encoder.config import PROCESSED_DATA_DIR\n",
    "from eeg_snn_encoder.dataset import CHBMITDataset\n",
    "\n",
    "torch.set_float32_matmul_precision(\"high\")\n",
    "torch.use_deterministic_algorithms(True, warn_only=True)\n",
    "\n",
    "torch.manual_seed(47)\n",
    "random.seed(47)\n",
    "np.random.seed(47)"
   ]
  },
  {
   "cell_type": "code",
   "execution_count": 3,
   "id": "4b6c4d14",
   "metadata": {},
   "outputs": [],
   "source": [
    "# Load the dataset\n",
    "dataset = CHBMITDataset(PROCESSED_DATA_DIR / \"stft_normalized.h5\")"
   ]
  },
  {
   "cell_type": "code",
   "execution_count": 5,
   "id": "292cc055",
   "metadata": {
    "editable": true,
    "scrolled": true,
    "slideshow": {
     "slide_type": ""
    },
    "tags": [
     "parameters"
    ]
   },
   "outputs": [],
   "source": [
    "tuning_encoder = \"tbr\""
   ]
  },
  {
   "cell_type": "code",
   "execution_count": null,
   "id": "ab3e7e09",
   "metadata": {},
   "outputs": [],
   "source": [
    "import os\n",
    "\n",
    "fine_study = optuna.load_study(\n",
    "    study_name=f\"model-fine-tuning-{tuning_encoder}-new\",\n",
    "    storage=os.environ[\"OPTUNA_CONN_STRING\"],\n",
    ")"
   ]
  },
  {
   "cell_type": "code",
   "execution_count": null,
   "id": "0724cda5",
   "metadata": {},
   "outputs": [
    {
     "data": {
      "text/plain": [
       "FrozenTrial(number=0, state=1, values=[0.19389110803604126], datetime_start=datetime.datetime(2025, 6, 11, 20, 18, 17, 515895), datetime_complete=datetime.datetime(2025, 6, 11, 20, 23, 28, 12372), params={'threshold': 0.05837571787591716, 'slope': 6.7082922718644795, 'beta': 0.6703615532512789, 'dropout_rate1': 0.3867650737818362, 'dropout_rate2': 0.2650897828875425, 'lr': 6.82947151662786e-05, 'weight_decay': 3.48210294726769e-06, 'scheduler_factor': 0.3434576235217472, 'scheduler_patience': 10, 'tbr_threshold': 0.7028430339186242}, user_attrs={'loss': 9.40915298461914, 'accuracy': 0.7941567301750183, 'f1': 0.804045557975769}, system_attrs={'fixed_params': {'threshold': 0.05837571787591716, 'slope': 6.7082922718644795, 'beta': 0.6703615532512789, 'dropout_rate1': 0.3867650737818362, 'dropout_rate2': 0.2650897828875425, 'lr': 6.82947151662786e-05, 'weight_decay': 3.48210294726769e-06, 'scheduler_factor': 0.3434576235217472, 'scheduler_patience': 10, 'tbr_threshold': 0.7028430339186242}}, intermediate_values={0: 0.5378485918045044, 2: 0.5139442682266235, 3: 0.4767596423625946, 4: 0.45418328046798706, 1: 0.535192608833313, 5: 0.45816734433174133, 6: 0.4634794294834137, 7: 0.4661354720592499, 8: 0.4621514081954956, 9: 0.4594953656196594, 10: 0.47011953592300415, 11: 0.4608233869075775, 12: 0.4661354720592499, 13: 0.45816734433174133, 14: 0.4448871314525604, 15: 0.45285525918006897, 16: 0.45551130175590515, 17: 0.4501992166042328, 18: 0.4209827482700348, 19: 0.4169986844062805, 20: 0.4050464928150177, 21: 0.39840638637542725, 22: 0.41035857796669006, 23: 0.3904382586479187, 24: 0.3731739819049835, 25: 0.3758300244808197, 26: 0.3625498116016388, 27: 0.350597620010376, 28: 0.3625498116016388, 29: 0.33997344970703125, 30: 0.34262949228286743, 31: 0.34130147099494934, 32: 0.3293492794036865, 33: 0.32403719425201416, 34: 0.32536521553993225, 35: 0.3173970878124237, 36: 0.3200531303882599, 37: 0.31341302394866943, 38: 0.31208500266075134, 39: 0.3027888536453247, 40: 0.29349270462989807, 41: 0.3027888536453247, 42: 0.29482072591781616, 43: 0.3014608323574066, 44: 0.3001328110694885, 45: 0.2908366620540619, 46: 0.2881806194782257, 47: 0.28286853432655334, 48: 0.2881806194782257, 49: 0.28154051303863525, 50: 0.29349270462989807, 51: 0.2855245769023895, 52: 0.28419655561447144, 53: 0.277556449174881, 54: 0.2749004065990448, 55: 0.262948215007782, 56: 0.2762284278869629, 57: 0.2749004065990448, 58: 0.2642762362957001, 59: 0.25630810856819153, 60: 0.2616201937198639, 61: 0.2443559169769287, 62: 0.25099602341651917, 63: 0.25498008728027344, 64: 0.25498008728027344, 65: 0.25498008728027344, 66: 0.24966800212860107, 67: 0.25365206599235535, 68: 0.25365206599235535, 69: 0.2324037253856659, 70: 0.2443559169769287, 71: 0.24169987440109253, 72: 0.2470119595527649, 73: 0.2456839382648468, 74: 0.22709164023399353, 75: 0.23373174667358398, 76: 0.2297476828098297, 77: 0.23904383182525635, 78: 0.2324037253856659, 79: 0.24302789568901062, 80: 0.22310757637023926, 81: 0.23505976796150208, 82: 0.2324037253856659, 83: 0.23771581053733826, 84: 0.22177955508232117, 85: 0.22177955508232117, 86: 0.22310757637023926, 87: 0.20849934220314026, 88: 0.2164674699306488, 89: 0.2164674699306488, 90: 0.21381142735481262, 91: 0.20849934220314026, 92: 0.19654715061187744, 93: 0.19787517189979553, 94: 0.20584329962730408, 95: 0.19389110803604126, 96: 0.19654715061187744, 97: 0.2031872570514679, 98: 0.20717132091522217, 99: 0.20584329962730408}, distributions={'threshold': FloatDistribution(high=0.5, log=False, low=0.01, step=None), 'slope': FloatDistribution(high=20.0, log=False, low=1.0, step=None), 'beta': FloatDistribution(high=0.99, log=False, low=0.1, step=None), 'dropout_rate1': FloatDistribution(high=0.99, log=False, low=0.1, step=None), 'dropout_rate2': FloatDistribution(high=0.99, log=False, low=0.1, step=None), 'lr': FloatDistribution(high=0.0001, log=True, low=1e-06, step=None), 'weight_decay': FloatDistribution(high=0.0001, log=True, low=1e-06, step=None), 'scheduler_factor': FloatDistribution(high=0.99, log=False, low=0.1, step=None), 'scheduler_patience': IntDistribution(high=10, log=False, low=1, step=1), 'tbr_threshold': FloatDistribution(high=4.0, log=False, low=0.01, step=None)}, trial_id=26, value=None)"
      ]
     },
     "execution_count": 9,
     "metadata": {},
     "output_type": "execute_result"
    }
   ],
   "source": [
    "best_params = fine_study.best_params\n",
    "best_trial = fine_study.best_trial"
   ]
  },
  {
   "cell_type": "code",
   "execution_count": null,
   "id": "e187a097-448e-4ea7-899e-cf4bb854281e",
   "metadata": {},
   "outputs": [],
   "source": [
    "from eeg_snn_encoder.models.classifier import ModelConfig\n",
    "from eeg_snn_encoder.models.lightning import OptimizerConfig\n",
    "from eeg_snn_encoder.tuning import ENCODER_TUNING_FUNCTIONS\n",
    "\n",
    "model_params: ModelConfig = {\n",
    "    \"threshold\": best_params[\"threshold\"],\n",
    "    \"slope\": best_params[\"slope\"],\n",
    "    \"beta\": best_params[\"beta\"],\n",
    "    \"dropout_rate1\": best_params[\"dropout_rate1\"],\n",
    "    \"dropout_rate2\": best_params[\"dropout_rate2\"],\n",
    "}\n",
    "\n",
    "optimizer_params: OptimizerConfig = {\n",
    "    \"lr\": best_params[\"lr\"],\n",
    "    \"weight_decay\": best_params[\"weight_decay\"],\n",
    "    \"scheduler_factor\": best_params[\"scheduler_factor\"],\n",
    "    \"scheduler_patience\": best_params[\"scheduler_patience\"],\n",
    "}\n",
    "\n",
    "encoder = ENCODER_TUNING_FUNCTIONS[tuning_encoder](best_trial) # type: ignore"
   ]
  },
  {
   "cell_type": "code",
   "execution_count": null,
   "id": "0146d3d2-86d1-4b2f-b479-a5a0141e4c1d",
   "metadata": {},
   "outputs": [],
   "source": [
    "import gc\n",
    "\n",
    "import lightning.pytorch as pl\n",
    "from lightning.pytorch.callbacks.early_stopping import EarlyStopping\n",
    "from loguru import logger\n",
    "from sklearn.model_selection import KFold, train_test_split\n",
    "from torch.utils.data import DataLoader, SubsetRandomSampler\n",
    "\n",
    "from eeg_snn_encoder.config import MODELS_DIR\n",
    "from eeg_snn_encoder.models.lightning import LitSeizureClassifier\n",
    "\n",
    "logger.info(f\"Starting {tuning_encoder}-encoder final evaluation\")\n",
    "logger.info(f\"Params model:{model_params}, optimizer:{optimizer_params}, encoder:{encoder}\")\n",
    "\n",
    "kfold = KFold(n_splits=5, shuffle=True, random_state=42)\n",
    "\n",
    "fold_results = []\n",
    "\n",
    "generator = torch.manual_seed(42)\n",
    "\n",
    "for fold, (train_val_ids, test_ids) in enumerate(kfold.split(dataset)): # type: ignore\n",
    "    logger.info(f\"Starting fold {fold + 1} of {kfold.get_n_splits()} {tuning_encoder}-encoder\")\n",
    "\n",
    "    train_ids, val_ids = train_test_split(\n",
    "        train_val_ids, test_size=0.2, random_state=42, shuffle=True\n",
    "    )\n",
    "\n",
    "    train_sampler = SubsetRandomSampler(train_ids)\n",
    "    val_sampler = SubsetRandomSampler(val_ids)\n",
    "    test_sampler = SubsetRandomSampler(test_ids) # type: ignore\n",
    "\n",
    "    trainloader = DataLoader(dataset, batch_size=512, sampler=train_sampler, generator=generator)\n",
    "    valloader = DataLoader(dataset, batch_size=512, sampler=val_sampler, generator=generator)\n",
    "    testloader = DataLoader(dataset, batch_size=512, sampler=test_sampler, generator=generator)\n",
    "\n",
    "    lit_model = LitSeizureClassifier(\n",
    "            model_config=model_params,\n",
    "            optimizer_config=optimizer_params,\n",
    "            spike_encoder=encoder,\n",
    "        )\n",
    "\n",
    "    trainer = pl.Trainer(\n",
    "            max_epochs=100,\n",
    "            accelerator=\"auto\",\n",
    "            devices=\"auto\",\n",
    "            strategy=\"auto\",\n",
    "            default_root_dir=MODELS_DIR / f\"{tuning_encoder}_encoder\",\n",
    "            callbacks=[EarlyStopping(monitor=\"val_loss\", mode=\"min\", patience=5)],\n",
    "            logger=False,\n",
    "        )\n",
    "\n",
    "    trainer.fit(lit_model, trainloader, valloader)\n",
    "    trainer.test(lit_model, testloader, ckpt_path=\"best\")\n",
    "\n",
    "    test_loss = trainer.callback_metrics[\"test_loss\"].item()\n",
    "    test_acc = trainer.callback_metrics[\"test_acc\"].item()\n",
    "    test_precision = trainer.callback_metrics[\"test_precision\"].item()\n",
    "    test_recall = trainer.callback_metrics[\"test_recall\"].item()\n",
    "    test_f1 = trainer.callback_metrics[\"test_f1\"].item()\n",
    "    test_mse = trainer.callback_metrics[\"test_mse\"].item()\n",
    "    test_total_spikes = trainer.callback_metrics[\"test_total_spikes\"].item()\n",
    "\n",
    "    logger.info(\n",
    "        f\"{tuning_encoder}-encoder \",\n",
    "        f\"Fold {fold + 1} - Test Loss: {test_loss:.4f}, \"\n",
    "        f\"Test Accuracy: {test_acc:.4f}, \"\n",
    "        f\"Test Precision: {test_precision:.4f}, \"\n",
    "        f\"Test Recall: {test_recall:.4f}, \"\n",
    "        f\"Test F1: {test_f1:.4f}, \"\n",
    "        f\"Test MSE: {test_mse:.4f}, \"\n",
    "        f\"Test Total Spikes: {test_total_spikes:.4f}\",\n",
    "    )\n",
    "\n",
    "    fold_results.append(\n",
    "        {\n",
    "            \"fold\": fold,\n",
    "            \"test_loss\": test_loss,\n",
    "            \"test_acc\": test_acc,\n",
    "            \"test_precision\": test_precision,\n",
    "            \"test_recall\": test_recall,\n",
    "            \"test_f1\": test_f1,\n",
    "            \"test_mse\": test_mse,\n",
    "            \"test_total_spikes\": test_total_spikes,\n",
    "        }\n",
    "    )\n",
    "\n",
    "    del lit_model\n",
    "    del trainer\n",
    "    torch.cuda.empty_cache()\n",
    "    gc.collect()"
   ]
  },
  {
   "cell_type": "code",
   "execution_count": null,
   "id": "908ac793",
   "metadata": {},
   "outputs": [],
   "source": [
    "import json\n",
    "\n",
    "import pandas as pd\n",
    "\n",
    "from eeg_snn_encoder.config import REPORTS_DIR\n",
    "\n",
    "results_df = pd.DataFrame(fold_results)\n",
    "results_df.set_index(\"fold\", inplace=True)\n",
    "\n",
    "results_df.to_csv(REPORTS_DIR / f\"{tuning_encoder}_model_results_new.csv\", index=True)\n",
    "\n",
    "params_file = REPORTS_DIR / f\"{tuning_encoder}_model_params_new.json\"\n",
    "\n",
    "params_file.write_text(\n",
    "    json.dumps(\n",
    "        {\n",
    "            \"model_params\": model_params,\n",
    "            \"optimizer_params\": optimizer_params,\n",
    "            \"encoder_params\": str(encoder),\n",
    "        },\n",
    "        indent=4,\n",
    "    )\n",
    ")\n",
    "logger.info(f\"Results and parameters saved to {REPORTS_DIR} for {tuning_encoder}-encoder\")"
   ]
  }
 ],
 "metadata": {
  "kernelspec": {
   "display_name": ".venv",
   "language": "python",
   "name": "python3"
  },
  "language_info": {
   "codemirror_mode": {
    "name": "ipython",
    "version": 3
   },
   "file_extension": ".py",
   "mimetype": "text/x-python",
   "name": "python",
   "nbconvert_exporter": "python",
   "pygments_lexer": "ipython3",
   "version": "3.12.9"
  }
 },
 "nbformat": 4,
 "nbformat_minor": 5
}
