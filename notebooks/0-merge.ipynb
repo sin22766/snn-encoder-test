{
 "cells": [
  {
   "cell_type": "code",
   "execution_count": 1,
   "id": "57f871d5-142d-4125-8abc-bbb8f73b507d",
   "metadata": {},
   "outputs": [],
   "source": [
    "%reload_ext autoreload\n",
    "%autoreload all\n",
    "\n",
    "%aimport -torch\n",
    "%aimport -matplotlib\n",
    "%aimport -seaborn\n",
    "%aimport -numpy\n",
    "%aimport -pandas\n",
    "%aimport -scipy"
   ]
  },
  {
   "cell_type": "code",
   "execution_count": 2,
   "id": "dc410e17-b4ba-42e5-9475-eeb0c5dacf34",
   "metadata": {},
   "outputs": [
    {
     "name": "stderr",
     "output_type": "stream",
     "text": [
      "\u001b[32m2025-05-15 02:00:19.655\u001b[0m | \u001b[1mINFO    \u001b[0m | \u001b[36meeg_snn_encoder.config\u001b[0m:\u001b[36m<module>\u001b[0m:\u001b[36m11\u001b[0m - \u001b[1mPROJ_ROOT path is: E:\\Projects\\snn-encoder-test\u001b[0m\n"
     ]
    }
   ],
   "source": [
    "from eeg_snn_encoder.config import INTERIM_DATA_DIR\n",
    "\n",
    "data_path = INTERIM_DATA_DIR / \"windowed\""
   ]
  },
  {
   "cell_type": "code",
   "execution_count": 10,
   "id": "11605b70",
   "metadata": {},
   "outputs": [],
   "source": [
    "import h5py\n",
    "import numpy as np\n",
    "\n",
    "ictal_path = data_path / \"ictal.h5\"\n",
    "interictal_path = data_path / \"interictal.h5\"\n",
    "\n",
    "ictal_file = h5py.File(ictal_path, \"r\")\n",
    "interictal_file = h5py.File(interictal_path, \"r\")"
   ]
  },
  {
   "cell_type": "code",
   "execution_count": 9,
   "id": "befdd139",
   "metadata": {},
   "outputs": [
    {
     "data": {
      "text/plain": [
       "<KeysViewHDF5 ['channels', 'data', 'info']>"
      ]
     },
     "execution_count": 9,
     "metadata": {},
     "output_type": "execute_result"
    }
   ],
   "source": [
    "ictal_file.keys()"
   ]
  },
  {
   "cell_type": "code",
   "execution_count": 11,
   "id": "f1e7c52f",
   "metadata": {},
   "outputs": [],
   "source": [
    "channels = np.array(ictal_file[\"channels\"])\n",
    "ictal_data = np.array(ictal_file[\"data\"])\n",
    "ictal_info = np.array(ictal_file[\"info\"])\n",
    "interictal_data = np.array(interictal_file[\"data\"])\n",
    "interictal_info = np.array(interictal_file[\"info\"])"
   ]
  },
  {
   "cell_type": "code",
   "execution_count": 13,
   "id": "b2a07c2c",
   "metadata": {},
   "outputs": [],
   "source": [
    "ictal_label = np.ones(ictal_data.shape[0])\n",
    "interictal_label = np.zeros(interictal_data.shape[0])"
   ]
  },
  {
   "cell_type": "code",
   "execution_count": 14,
   "id": "04cc4b74",
   "metadata": {},
   "outputs": [],
   "source": [
    "data = np.concatenate((ictal_data, interictal_data), axis=0)\n",
    "labels = np.concatenate((ictal_label, interictal_label), axis=0)\n",
    "info = np.concatenate((ictal_info, interictal_info), axis=0)"
   ]
  },
  {
   "cell_type": "code",
   "execution_count": 15,
   "id": "d2498bba",
   "metadata": {},
   "outputs": [],
   "source": [
    "with h5py.File(INTERIM_DATA_DIR / \"windowed.h5\", \"w\") as f:\n",
    "    f.create_dataset(\"data\", data=data)\n",
    "    f.create_dataset(\"labels\", data=labels)\n",
    "    f.create_dataset(\"info\", data=info)\n",
    "    f.create_dataset(\"channels\", data=channels)"
   ]
  }
 ],
 "metadata": {
  "kernelspec": {
   "display_name": ".venv",
   "language": "python",
   "name": "python3"
  },
  "language_info": {
   "codemirror_mode": {
    "name": "ipython",
    "version": 3
   },
   "file_extension": ".py",
   "mimetype": "text/x-python",
   "name": "python",
   "nbconvert_exporter": "python",
   "pygments_lexer": "ipython3",
   "version": "3.12.9"
  }
 },
 "nbformat": 4,
 "nbformat_minor": 5
}
