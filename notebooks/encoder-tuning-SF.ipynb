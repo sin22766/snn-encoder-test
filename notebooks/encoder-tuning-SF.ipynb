{
 "cells": [
  {
   "cell_type": "markdown",
   "id": "352d77b4-2cde-49f2-9eb2-97d6506bee39",
   "metadata": {},
   "source": [
    "# Step-Forward encoder testing"
   ]
  },
  {
   "cell_type": "code",
   "execution_count": 1,
   "id": "bf5fc621-4f64-43c6-baf6-67f2ce78c6c1",
   "metadata": {},
   "outputs": [],
   "source": [
    "from dataset import CHBMITDataset\n",
    "\n",
    "data_path = \"./CHB-MIT/processed\"\n",
    "dataset = CHBMITDataset(data_path)"
   ]
  },
  {
   "cell_type": "code",
   "execution_count": 2,
   "id": "736d2370-c924-4685-a427-45af1c1495c4",
   "metadata": {},
   "outputs": [],
   "source": [
    "import torch\n",
    "\n",
    "from utils.preprocess import VectorizeSTFT\n",
    "\n",
    "stft_data = VectorizeSTFT(dataset.data)\n",
    "magnitudes = torch.abs(stft_data)\n",
    "# angles = torch.angle(stft_data)"
   ]
  },
  {
   "cell_type": "code",
   "execution_count": 3,
   "id": "984c2c3b-8763-4c92-a0d2-4b8b1c9b3ae2",
   "metadata": {},
   "outputs": [],
   "source": [
    "del dataset"
   ]
  },
  {
   "cell_type": "code",
   "execution_count": 4,
   "id": "9e55d871-b539-4cf0-b3bd-aead1ec2364d",
   "metadata": {},
   "outputs": [],
   "source": [
    "del stft_data"
   ]
  },
  {
   "cell_type": "code",
   "execution_count": 5,
   "id": "fa4af7b5-7143-45ef-9ab8-863fb2f7cfec",
   "metadata": {},
   "outputs": [],
   "source": [
    "def normalize(x: torch.Tensor) -> torch.Tensor:\n",
    "    x_min = x.min(dim=-1, keepdim=True).values\n",
    "    x_max = x.max(dim=-1, keepdim=True).values\n",
    "\n",
    "    diff = x_max - x_min\n",
    "    diff[diff == 0] = 1.0\n",
    "\n",
    "    return (x - x_min) / diff"
   ]
  },
  {
   "cell_type": "code",
   "execution_count": 6,
   "id": "04e5c0de-dc32-4d1c-b198-ea63d3e3a383",
   "metadata": {},
   "outputs": [],
   "source": [
    "normalize_magnitude = normalize(magnitudes)"
   ]
  },
  {
   "cell_type": "code",
   "execution_count": 7,
   "id": "478d3f13-6cf3-44be-9152-01f85de5cebe",
   "metadata": {},
   "outputs": [],
   "source": [
    "import optuna\n",
    "from encoder import StepForwardEncoder\n",
    "\n",
    "def objective(trial: optuna.Trial) -> float:\n",
    "\n",
    "    threshold = trial.suggest_float(\"threshold\", 0.1, 0.99)\n",
    "    sf_encoder = StepForwardEncoder(threshold=threshold)\n",
    "\n",
    "    base = normalize_magnitude.select(-1, 0).unsqueeze(-1)\n",
    "    encoded_data = sf_encoder.encode(normalize_magnitude)\n",
    "    decoded_data = sf_encoder.decode(encoded_data, base)\n",
    "\n",
    "    mse = torch.nn.functional.mse_loss(decoded_data, normalize_magnitude).item()\n",
    "    return mse"
   ]
  },
  {
   "cell_type": "code",
   "execution_count": 8,
   "id": "75db784f-e0d7-4c9c-8421-9de7df4abbca",
   "metadata": {},
   "outputs": [],
   "source": [
    "from config import DB_CONFIG\n",
    "\n",
    "study_name = \"Step Forward Encoder\"\n",
    "storage_url = f\"postgresql://{DB_CONFIG['user']}:{DB_CONFIG['password']}@{DB_CONFIG['host']}:{DB_CONFIG['port']}/{DB_CONFIG['database']}\""
   ]
  },
  {
   "cell_type": "code",
   "execution_count": 9,
   "id": "cf5b1f39-5863-4167-9f4e-d0b32589a101",
   "metadata": {},
   "outputs": [
    {
     "name": "stderr",
     "output_type": "stream",
     "text": [
      "[I 2025-04-27 14:50:11,953] Using an existing study with name 'Step Forward Encoder' instead of creating a new one.\n"
     ]
    }
   ],
   "source": [
    "study = optuna.create_study(\n",
    "    direction=\"minimize\",\n",
    "    study_name=study_name,\n",
    "    storage=storage_url,\n",
    "    load_if_exists=True,\n",
    ")"
   ]
  },
  {
   "cell_type": "code",
   "execution_count": 10,
   "id": "af102e12-03e8-46ee-8591-73166eee5544",
   "metadata": {},
   "outputs": [
    {
     "name": "stderr",
     "output_type": "stream",
     "text": [
      "[I 2025-04-27 14:50:19,436] Trial 5 finished with value: 0.10077301412820816 and parameters: {'threshold': 0.8279260676490113}. Best is trial 5 with value: 0.10077301412820816.\n",
      "[I 2025-04-27 14:50:23,920] Trial 6 finished with value: 0.13062284886837006 and parameters: {'threshold': 0.9790798903050332}. Best is trial 5 with value: 0.10077301412820816.\n",
      "[I 2025-04-27 14:50:31,579] Trial 7 finished with value: 0.0222177654504776 and parameters: {'threshold': 0.11843614847590299}. Best is trial 7 with value: 0.0222177654504776.\n",
      "[I 2025-04-27 14:50:36,075] Trial 8 finished with value: 0.08270931243896484 and parameters: {'threshold': 0.6880532708036667}. Best is trial 7 with value: 0.0222177654504776.\n",
      "[I 2025-04-27 14:50:40,340] Trial 9 finished with value: 0.12956705689430237 and parameters: {'threshold': 0.9756321660060117}. Best is trial 7 with value: 0.0222177654504776.\n",
      "[I 2025-04-27 14:50:44,987] Trial 10 finished with value: 0.04188653454184532 and parameters: {'threshold': 0.47147256306992125}. Best is trial 7 with value: 0.0222177654504776.\n",
      "[I 2025-04-27 14:50:49,479] Trial 11 finished with value: 0.08613551408052444 and parameters: {'threshold': 0.7214678507807571}. Best is trial 7 with value: 0.0222177654504776.\n",
      "[I 2025-04-27 14:50:54,891] Trial 12 finished with value: 0.02246449515223503 and parameters: {'threshold': 0.3110535595917978}. Best is trial 7 with value: 0.0222177654504776.\n",
      "[I 2025-04-27 14:51:01,225] Trial 13 finished with value: 0.018060408532619476 and parameters: {'threshold': 0.1802561009419525}. Best is trial 13 with value: 0.018060408532619476.\n",
      "[I 2025-04-27 14:51:05,474] Trial 14 finished with value: 0.10090741515159607 and parameters: {'threshold': 0.8287707655124888}. Best is trial 13 with value: 0.018060408532619476.\n",
      "[I 2025-04-27 14:51:12,921] Trial 15 finished with value: 0.024116151034832 and parameters: {'threshold': 0.11112503282683452}. Best is trial 13 with value: 0.018060408532619476.\n",
      "[I 2025-04-27 14:51:20,381] Trial 16 finished with value: 0.02313051000237465 and parameters: {'threshold': 0.11449782051630164}. Best is trial 13 with value: 0.018060408532619476.\n",
      "[I 2025-04-27 14:51:25,685] Trial 17 finished with value: 0.022196251899003983 and parameters: {'threshold': 0.30639879180873886}. Best is trial 13 with value: 0.018060408532619476.\n",
      "[I 2025-04-27 14:51:30,846] Trial 18 finished with value: 0.023567717522382736 and parameters: {'threshold': 0.32381085328331183}. Best is trial 13 with value: 0.018060408532619476.\n",
      "[I 2025-04-27 14:51:36,387] Trial 19 finished with value: 0.021849581971764565 and parameters: {'threshold': 0.28412096219532174}. Best is trial 13 with value: 0.018060408532619476.\n",
      "[I 2025-04-27 14:51:41,265] Trial 20 finished with value: 0.03843820095062256 and parameters: {'threshold': 0.44680514961147544}. Best is trial 13 with value: 0.018060408532619476.\n",
      "[I 2025-04-27 14:51:46,832] Trial 21 finished with value: 0.01812438666820526 and parameters: {'threshold': 0.24730639571543328}. Best is trial 13 with value: 0.018060408532619476.\n",
      "[I 2025-04-27 14:51:52,475] Trial 22 finished with value: 0.01868266984820366 and parameters: {'threshold': 0.21579504237017513}. Best is trial 13 with value: 0.018060408532619476.\n",
      "[I 2025-04-27 14:51:57,293] Trial 23 finished with value: 0.040527116507291794 and parameters: {'threshold': 0.46270243822972995}. Best is trial 13 with value: 0.018060408532619476.\n",
      "[I 2025-04-27 14:52:02,941] Trial 24 finished with value: 0.01829715073108673 and parameters: {'threshold': 0.220175846064533}. Best is trial 13 with value: 0.018060408532619476.\n",
      "[I 2025-04-27 14:52:07,419] Trial 25 finished with value: 0.07580377161502838 and parameters: {'threshold': 0.5493494228530165}. Best is trial 13 with value: 0.018060408532619476.\n",
      "[I 2025-04-27 14:52:13,458] Trial 26 finished with value: 0.01711120270192623 and parameters: {'threshold': 0.1984520575127307}. Best is trial 26 with value: 0.01711120270192623.\n",
      "[I 2025-04-27 14:52:19,159] Trial 27 finished with value: 0.018376581370830536 and parameters: {'threshold': 0.21915974579431374}. Best is trial 26 with value: 0.01711120270192623.\n",
      "[I 2025-04-27 14:52:24,246] Trial 28 finished with value: 0.034993164241313934 and parameters: {'threshold': 0.40517672605266974}. Best is trial 26 with value: 0.01711120270192623.\n",
      "[I 2025-04-27 14:52:30,479] Trial 29 finished with value: 0.01804937794804573 and parameters: {'threshold': 0.223892804746542}. Best is trial 26 with value: 0.01711120270192623.\n",
      "[I 2025-04-27 14:52:35,851] Trial 30 finished with value: 0.03448490425944328 and parameters: {'threshold': 0.3722035267262038}. Best is trial 26 with value: 0.01711120270192623.\n",
      "[I 2025-04-27 14:52:42,266] Trial 31 finished with value: 0.017185663804411888 and parameters: {'threshold': 0.1911563422980075}. Best is trial 26 with value: 0.01711120270192623.\n",
      "[I 2025-04-27 14:52:46,971] Trial 32 finished with value: 0.07580351829528809 and parameters: {'threshold': 0.5492310589965692}. Best is trial 26 with value: 0.01711120270192623.\n",
      "[I 2025-04-27 14:52:53,557] Trial 33 finished with value: 0.020391926169395447 and parameters: {'threshold': 0.16674036140110104}. Best is trial 26 with value: 0.01711120270192623.\n",
      "[I 2025-04-27 14:52:58,827] Trial 34 finished with value: 0.03453370928764343 and parameters: {'threshold': 0.36952375049250363}. Best is trial 26 with value: 0.01711120270192623.\n",
      "[I 2025-04-27 14:53:05,671] Trial 35 finished with value: 0.018229829147458076 and parameters: {'threshold': 0.160019279782523}. Best is trial 26 with value: 0.01711120270192623.\n",
      "[I 2025-04-27 14:53:12,047] Trial 36 finished with value: 0.0176341962069273 and parameters: {'threshold': 0.1843259805150732}. Best is trial 26 with value: 0.01711120270192623.\n",
      "[I 2025-04-27 14:53:17,628] Trial 37 finished with value: 0.02180378884077072 and parameters: {'threshold': 0.2874937901138445}. Best is trial 26 with value: 0.01711120270192623.\n",
      "[I 2025-04-27 14:53:23,883] Trial 38 finished with value: 0.01803332008421421 and parameters: {'threshold': 0.16268133929000128}. Best is trial 26 with value: 0.01711120270192623.\n",
      "[I 2025-04-27 14:53:30,475] Trial 39 finished with value: 0.018058478832244873 and parameters: {'threshold': 0.16642399023372864}. Best is trial 26 with value: 0.01711120270192623.\n",
      "[I 2025-04-27 14:53:35,167] Trial 40 finished with value: 0.07765126973390579 and parameters: {'threshold': 0.6187409181640493}. Best is trial 26 with value: 0.01711120270192623.\n",
      "[I 2025-04-27 14:53:42,978] Trial 41 finished with value: 0.02474464848637581 and parameters: {'threshold': 0.10340565279163298}. Best is trial 26 with value: 0.01711120270192623.\n",
      "[I 2025-04-27 14:53:50,278] Trial 42 finished with value: 0.018994666635990143 and parameters: {'threshold': 0.15353658295969969}. Best is trial 26 with value: 0.01711120270192623.\n",
      "[I 2025-04-27 14:53:55,997] Trial 43 finished with value: 0.024051588028669357 and parameters: {'threshold': 0.2541369052948838}. Best is trial 26 with value: 0.01711120270192623.\n",
      "[I 2025-04-27 14:54:01,320] Trial 44 finished with value: 0.03537145256996155 and parameters: {'threshold': 0.34933799403041754}. Best is trial 26 with value: 0.01711120270192623.\n",
      "[I 2025-04-27 14:54:05,752] Trial 45 finished with value: 0.09054532647132874 and parameters: {'threshold': 0.7575970750613013}. Best is trial 26 with value: 0.01711120270192623.\n",
      "[I 2025-04-27 14:54:11,238] Trial 46 finished with value: 0.020299093797802925 and parameters: {'threshold': 0.20366620122787624}. Best is trial 26 with value: 0.01711120270192623.\n",
      "[I 2025-04-27 14:54:16,428] Trial 47 finished with value: 0.023030715063214302 and parameters: {'threshold': 0.2631584259708764}. Best is trial 26 with value: 0.01711120270192623.\n",
      "[I 2025-04-27 14:54:23,177] Trial 48 finished with value: 0.018175411969423294 and parameters: {'threshold': 0.1606672419136108}. Best is trial 26 with value: 0.01711120270192623.\n",
      "[I 2025-04-27 14:54:30,655] Trial 49 finished with value: 0.020530255511403084 and parameters: {'threshold': 0.13349441983812851}. Best is trial 26 with value: 0.01711120270192623.\n",
      "[I 2025-04-27 14:54:37,236] Trial 50 finished with value: 0.017070118337869644 and parameters: {'threshold': 0.1965616735274163}. Best is trial 50 with value: 0.017070118337869644.\n",
      "[I 2025-04-27 14:54:45,068] Trial 51 finished with value: 0.025163020938634872 and parameters: {'threshold': 0.1019843003260576}. Best is trial 50 with value: 0.017070118337869644.\n",
      "[I 2025-04-27 14:54:50,422] Trial 52 finished with value: 0.036309365183115005 and parameters: {'threshold': 0.3369254993495817}. Best is trial 50 with value: 0.017070118337869644.\n",
      "[I 2025-04-27 14:54:56,672] Trial 53 finished with value: 0.01755254529416561 and parameters: {'threshold': 0.18526906901501977}. Best is trial 50 with value: 0.017070118337869644.\n",
      "[I 2025-04-27 14:55:02,868] Trial 54 finished with value: 0.021917138248682022 and parameters: {'threshold': 0.28133822933793495}. Best is trial 50 with value: 0.017070118337869644.\n"
     ]
    }
   ],
   "source": [
    "study.optimize(objective, n_trials=50)"
   ]
  },
  {
   "cell_type": "code",
   "execution_count": 11,
   "id": "03e003df-201b-4a4d-926c-80974cffbac8",
   "metadata": {},
   "outputs": [
    {
     "data": {
      "text/plain": [
       "{'threshold': 0.1965616735274163}"
      ]
     },
     "execution_count": 11,
     "metadata": {},
     "output_type": "execute_result"
    }
   ],
   "source": [
    "study.best_params"
   ]
  },
  {
   "cell_type": "code",
   "execution_count": null,
   "id": "939b27c0-ab9a-4516-bdf8-36fbe11a816d",
   "metadata": {},
   "outputs": [],
   "source": []
  }
 ],
 "metadata": {
  "kernelspec": {
   "display_name": "Python 3 (ipykernel)",
   "language": "python",
   "name": "python3"
  },
  "language_info": {
   "codemirror_mode": {
    "name": "ipython",
    "version": 3
   },
   "file_extension": ".py",
   "mimetype": "text/x-python",
   "name": "python",
   "nbconvert_exporter": "python",
   "pygments_lexer": "ipython3",
   "version": "3.12.6"
  }
 },
 "nbformat": 4,
 "nbformat_minor": 5
}
