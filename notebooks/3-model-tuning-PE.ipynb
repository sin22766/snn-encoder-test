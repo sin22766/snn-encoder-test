{
 "cells": [
  {
   "cell_type": "code",
   "execution_count": 1,
   "id": "4b6c4d14",
   "metadata": {},
   "outputs": [
    {
     "name": "stderr",
     "output_type": "stream",
     "text": [
      "\u001b[32m2025-05-06 01:05:32.910\u001b[0m | \u001b[1mINFO    \u001b[0m | \u001b[36meeg_snn_encoder.config\u001b[0m:\u001b[36m<module>\u001b[0m:\u001b[36m11\u001b[0m - \u001b[1mPROJ_ROOT path is: E:\\Projects\\snn-encoder-test\u001b[0m\n"
     ]
    }
   ],
   "source": [
    "from eeg_snn_encoder.config import PROCESSED_DATA_DIR\n",
    "from eeg_snn_encoder.dataset import CHBMITDataset\n",
    "\n",
    "# Load the dataset\n",
    "dataset = CHBMITDataset(PROCESSED_DATA_DIR / \"stft_normalized.h5\")"
   ]
  },
  {
   "cell_type": "code",
   "execution_count": 2,
   "id": "83601dfc",
   "metadata": {},
   "outputs": [],
   "source": [
    "import torch\n",
    "from torch.utils.data import DataLoader, random_split\n",
    "\n",
    "generator = torch.Generator().manual_seed(42)\n",
    "\n",
    "train_dataset, val_dataset, test_dataset = random_split(dataset, [0.7, 0.1, 0.2], generator=generator)\n",
    "\n",
    "train_loader = DataLoader(train_dataset, batch_size=32, num_workers=8, persistent_workers=True)\n",
    "val_loader = DataLoader(val_dataset, batch_size=32, num_workers=8, persistent_workers=True)\n",
    "test_loader = DataLoader(test_dataset, batch_size=32, num_workers=8, persistent_workers=True)"
   ]
  },
  {
   "cell_type": "code",
   "execution_count": null,
   "id": "06bdc9e8",
   "metadata": {},
   "outputs": [],
   "source": [
    "import mlflow\n",
    "import os\n",
    "\n",
    "mlflow_uri = os.environ[\"MLFLOW_TRACKING_URI\"]\n",
    "mlflow.set_tracking_uri(mlflow_uri)"
   ]
  },
  {
   "cell_type": "code",
   "execution_count": null,
   "id": "141e06ab",
   "metadata": {},
   "outputs": [],
   "source": [
    "import optuna\n",
    "\n",
    "import lightning.pytorch as pl\n",
    "from lightning.pytorch.callbacks.early_stopping import EarlyStopping\n",
    "from optuna.integration import PyTorchLightningPruningCallback\n",
    "\n",
    "from eeg_snn_encoder.encoders.global_temporal import PhaseEncoderExpand\n",
    "from eeg_snn_encoder.models.classifier import EEGSTFTSpikeClassifier, ModelConfig\n",
    "from eeg_snn_encoder.models.lightning import LitSeizureClassifier, OptimizerConfig\n",
    "\n",
    "\n",
    "def objective(trial: optuna.Trial) -> float:\n",
    "    with mlflow.start_run(nested=True):\n",
    "        model_params: ModelConfig = {\n",
    "            \"threshold\": trial.suggest_float(\"threshold\", 0.01, 0.5),\n",
    "            \"slope\": trial.suggest_float(\"slope\", 1.0, 20.0),\n",
    "            \"beta\": trial.suggest_float(\"beta\", 0.1, 0.99),\n",
    "            \"dropout_rate1\": trial.suggest_float(\"dropout_rate1\", 0.1, 0.99),\n",
    "            \"dropout_rate2\": trial.suggest_float(\"dropout_rate2\", 0.1, 0.99),\n",
    "        }\n",
    "\n",
    "        optimizer_params: OptimizerConfig = {\n",
    "            \"lr\": trial.suggest_float(\"lr\", 1e-6, 1e-4, log=True),\n",
    "            \"weight_decay\": trial.suggest_float(\"weight_decay\", 1e-6, 1e-4, log=True),\n",
    "            \"scheduler_factor\": trial.suggest_float(\"scheduler_factor\", 0.1, 0.99),\n",
    "            \"scheduler_patience\": trial.suggest_int(\"scheduler_patience\", 1, 10),\n",
    "        }\n",
    "\n",
    "        encoder_params = {\n",
    "            \"phase_window\": trial.suggest_int(\"phase_window\", 1, 8),\n",
    "        }\n",
    "\n",
    "        spike_encoder = PhaseEncoderExpand(**encoder_params)\n",
    "\n",
    "\n",
    "        model = EEGSTFTSpikeClassifier(config=model_params)\n",
    "\n",
    "        lit_model = LitSeizureClassifier(\n",
    "            model=model,\n",
    "            optimizer_config=optimizer_params,\n",
    "            spike_encoder=spike_encoder,\n",
    "        )\n",
    "\n",
    "        trainer = pl.Trainer(\n",
    "            max_epochs=15,\n",
    "            accelerator=\"auto\",\n",
    "            devices=\"auto\",\n",
    "            strategy=\"auto\",\n",
    "            callbacks=[PyTorchLightningPruningCallback(trial, monitor=\"val_loss\"), EarlyStopping(monitor=\"val_loss\", mode=\"min\", patience=5)],\n",
    "        )\n",
    "\n",
    "        trainer.fit(lit_model, train_loader, val_loader)\n",
    "        trainer.test(lit_model, dataloaders=test_loader)\n",
    "\n",
    "        params = {\n",
    "            \"model_params\": model_params,\n",
    "            \"optimizer_params\": optimizer_params,\n",
    "            \"encoder_params\": encoder_params\n",
    "        }\n",
    "        test_loss = trainer.callback_metrics[\"test_loss\"].item()\n",
    "        test_acc = trainer.callback_metrics[\"test_acc\"]\n",
    "        test_f1 = trainer.callback_metrics[\"test_f1\"]\n",
    "        test_mse = trainer.callback_metrics[\"test_mse\"]\n",
    "        test_total_spikes = trainer.callback_metrics[\"test_total_spikes\"]\n",
    "\n",
    "\n",
    "        mlflow.log_params(params)\n",
    "        mlflow.log_metric(\"test_mse_count_loss\", test_loss)\n",
    "        mlflow.log_metric(\"test_acc\", test_acc)\n",
    "        mlflow.log_metric(\"test_f1\", test_f1)\n",
    "        mlflow.log_metric(\"test_mse\", test_mse)\n",
    "        mlflow.log_metric(\"test_total_spikes\", test_total_spikes)\n",
    "\n",
    "    return test_loss"
   ]
  },
  {
   "cell_type": "code",
   "execution_count": null,
   "id": "21526462",
   "metadata": {},
   "outputs": [],
   "source": [
    "def get_or_create_experiment(experiment_name):\n",
    "    if experiment := mlflow.get_experiment_by_name(experiment_name):\n",
    "        return experiment.experiment_id\n",
    "    else:\n",
    "        return mlflow.create_experiment(experiment_name)\n",
    "\n",
    "experiment_id = get_or_create_experiment(\"Model tuning SF\")"
   ]
  },
  {
   "cell_type": "code",
   "execution_count": null,
   "id": "474c1d6f",
   "metadata": {},
   "outputs": [],
   "source": [
    "run_name = \"first_hyperopt_run\""
   ]
  },
  {
   "cell_type": "code",
   "execution_count": null,
   "id": "292cc055",
   "metadata": {},
   "outputs": [],
   "source": [
    "with mlflow.start_run(experiment_id=experiment_id, run_name=run_name, nested=True):\n",
    "    # Initialize the Optuna study\n",
    "    study = optuna.create_study(\n",
    "        direction=\"minimize\",\n",
    "        study_name=\"model-tuning-pe\",\n",
    "        storage=os.environ[\"OPTUNA_CONN_STRING\"],\n",
    "        load_if_exists=True,\n",
    "        sampler=optuna.samplers.CmaEsSampler(),\n",
    "        pruner=optuna.pruners.HyperbandPruner()\n",
    "    )\n",
    "\n",
    "    # Execute the hyperparameter optimization trials.\n",
    "    # Note the addition of the `champion_callback` inclusion to control our logging\n",
    "    study.optimize(objective, n_trials=50)\n",
    "\n",
    "    mlflow.log_params(study.best_params)\n",
    "    mlflow.log_metric(\"best_mse\", study.best_value)\n",
    "\n",
    "    mlflow.set_tags(\n",
    "        tags={\n",
    "            \"project\": \"EEG SNN Encoder\",\n",
    "            \"optimizer_engine\": \"optuna\",\n",
    "            \"encoder_type\": \"phase-encoder\",\n",
    "            \"model_type\": \"EEGSTFTSpikeClassifier\",\n",
    "        }\n",
    "    )\n",
    "    "
   ]
  }
 ],
 "metadata": {
  "kernelspec": {
   "display_name": ".venv",
   "language": "python",
   "name": "python3"
  },
  "language_info": {
   "codemirror_mode": {
    "name": "ipython",
    "version": 3
   },
   "file_extension": ".py",
   "mimetype": "text/x-python",
   "name": "python",
   "nbconvert_exporter": "python",
   "pygments_lexer": "ipython3",
   "version": "3.12.9"
  }
 },
 "nbformat": 4,
 "nbformat_minor": 5
}
