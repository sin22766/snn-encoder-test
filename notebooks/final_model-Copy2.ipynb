{
 "cells": [
  {
   "cell_type": "markdown",
   "id": "87c454f1",
   "metadata": {},
   "source": [
    "# Final Model Comparison\n"
   ]
  },
  {
   "cell_type": "code",
   "execution_count": 1,
   "id": "cf58d4e8",
   "metadata": {},
   "outputs": [],
   "source": [
    "from dataset import CHBMITPreprocessedDataset\n",
    "\n",
    "dataset = CHBMITPreprocessedDataset(\"./CHB-MIT/processed_data.h5\")"
   ]
  },
  {
   "cell_type": "code",
   "execution_count": 3,
   "id": "baf64a91",
   "metadata": {},
   "outputs": [],
   "source": [
    "import torch\n",
    "from torch.utils.data import DataLoader, random_split\n",
    "\n",
    "generator = torch.Generator().manual_seed(42)\n",
    "\n",
    "train_dataset, val_dataset, test_dataset = random_split(dataset, [0.7, 0.1, 0.2], generator=generator)\n",
    "\n",
    "train_loader = DataLoader(train_dataset, batch_size=32, num_workers=8, persistent_workers=True)\n",
    "val_loader = DataLoader(val_dataset, batch_size=32, num_workers=8, persistent_workers=True)\n",
    "test_loader = DataLoader(test_dataset, batch_size=32, num_workers=8, persistent_workers=True)"
   ]
  },
  {
   "cell_type": "code",
   "execution_count": null,
   "id": "0b03260f",
   "metadata": {},
   "outputs": [
    {
     "name": "stderr",
     "output_type": "stream",
     "text": [
      "Using default `ModelCheckpoint`. Consider installing `litmodels` package to enable `LitModelCheckpoint` for automatic upload to the Lightning model registry.\n"
     ]
    },
    {
     "name": "stderr",
     "output_type": "stream",
     "text": [
      "GPU available: True (cuda), used: True\n",
      "TPU available: False, using: 0 TPU cores\n",
      "HPU available: False, using: 0 HPUs\n",
      "e:\\Projects\\snn-encoder-test\\.venv\\Lib\\site-packages\\lightning\\pytorch\\callbacks\\model_checkpoint.py:654: Checkpoint directory e:\\Projects\\snn-encoder-test\\checkpoints exists and is not empty.\n",
      "LOCAL_RANK: 0 - CUDA_VISIBLE_DEVICES: [0]\n",
      "\n",
      "  | Name  | Type               | Params | Mode \n",
      "-----------------------------------------------------\n",
      "0 | model | EEGSpikeClassifier | 824 K  | train\n",
      "-----------------------------------------------------\n",
      "824 K     Trainable params\n",
      "0         Non-trainable params\n",
      "824 K     Total params\n",
      "3.299     Total estimated model params size (MB)\n",
      "13        Modules in train mode\n",
      "0         Modules in eval mode\n"
     ]
    },
    {
     "data": {
      "application/vnd.jupyter.widget-view+json": {
       "model_id": "6e6ebaec4d504d7d91fe7c23b5d58ee6",
       "version_major": 2,
       "version_minor": 0
      },
      "text/plain": [
       "Sanity Checking: |          | 0/? [00:00<?, ?it/s]"
      ]
     },
     "metadata": {},
     "output_type": "display_data"
    },
    {
     "data": {
      "application/vnd.jupyter.widget-view+json": {
       "model_id": "63c5edfb6b4d4c458ed4309ffb78ee5f",
       "version_major": 2,
       "version_minor": 0
      },
      "text/plain": [
       "Training: |          | 0/? [00:00<?, ?it/s]"
      ]
     },
     "metadata": {},
     "output_type": "display_data"
    }
   ],
   "source": [
    "import lightning.pytorch as pl\n",
    "\n",
    "from encoder.rate import PoissonEncoder\n",
    "from model.classifier import ModelConfig\n",
    "from model.lightning import LitSTFTFinalSeizureClassifier, OptimizerConfig\n",
    "\n",
    "model_params: ModelConfig = {\n",
    "    \"threshold\": 0.279848429726772,\n",
    "    \"slope\": 7.481824299320472,\n",
    "    \"beta\": 0.51966978465064,\n",
    "    \"dropout_rate1\": 0.5407012533686575,\n",
    "    \"dropout_rate2\": 0.3643962622542456,\n",
    "}\n",
    "\n",
    "optimizer_params: OptimizerConfig = {\n",
    "    \"lr\": 9.192533042633165e-05,\n",
    "    \"weight_decay\": 3.881504690507441e-06,\n",
    "    \"scheduler_factor\": 0.4764851331315718,\n",
    "    \"scheduler_patience\": 4,\n",
    "}\n",
    "\n",
    "encoder = PoissonEncoder(interval_freq=10)\n",
    "\n",
    "model = LitSTFTFinalSeizureClassifier(\n",
    "    model_config=model_params,\n",
    "    optimizer_config=optimizer_params,\n",
    "    spike_encoder=encoder,\n",
    ")\n",
    "\n",
    "trainer = pl.Trainer(max_epochs=100, accelerator=\"gpu\", devices=1, logger=False)\n",
    "trainer.fit(model, train_dataloaders=train_loader, val_dataloaders=val_loader)\n",
    "trainer.test(model, dataloaders=test_loader)"
   ]
  }
 ],
 "metadata": {
  "kernelspec": {
   "display_name": "Python 3 (ipykernel)",
   "language": "python",
   "name": "python3"
  },
  "language_info": {
   "codemirror_mode": {
    "name": "ipython",
    "version": 3
   },
   "file_extension": ".py",
   "mimetype": "text/x-python",
   "name": "python",
   "nbconvert_exporter": "python",
   "pygments_lexer": "ipython3",
   "version": "3.12.6"
  }
 },
 "nbformat": 4,
 "nbformat_minor": 5
}
