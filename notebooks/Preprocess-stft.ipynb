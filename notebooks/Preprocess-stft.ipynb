{
 "cells": [
  {
   "cell_type": "code",
   "execution_count": 1,
   "id": "57f871d5-142d-4125-8abc-bbb8f73b507d",
   "metadata": {},
   "outputs": [],
   "source": [
    "%reload_ext autoreload\n",
    "%autoreload all\n",
    "\n",
    "%aimport -torch\n",
    "%aimport -matplotlib\n",
    "%aimport -seaborn\n",
    "%aimport -numpy\n",
    "%aimport -pandas\n",
    "%aimport -scipy"
   ]
  },
  {
   "cell_type": "code",
   "execution_count": 2,
   "id": "dc410e17-b4ba-42e5-9475-eeb0c5dacf34",
   "metadata": {},
   "outputs": [],
   "source": [
    "from dataset import CHBMITDataset\n",
    "\n",
    "data_path = \"./CHB-MIT/processed\"\n",
    "dataset = CHBMITDataset(data_path)"
   ]
  },
  {
   "cell_type": "code",
   "execution_count": 3,
   "id": "40579b43-8c9e-48a8-b005-6f8e61bfd075",
   "metadata": {},
   "outputs": [],
   "source": [
    "import torch\n",
    "\n",
    "from utils.preprocess import VectorizeSTFT, normalize\n",
    "\n",
    "\n",
    "def preprocess_data(data: torch.Tensor):\n",
    "    stft_data = VectorizeSTFT(data)\n",
    "    magnitude = torch.abs(stft_data)\n",
    "    normalized_data = normalize(magnitude)\n",
    "\n",
    "    # Reshape to 1D\n",
    "    return normalized_data"
   ]
  },
  {
   "cell_type": "code",
   "execution_count": 4,
   "id": "93198735-fb39-45f9-a547-11748aab6d30",
   "metadata": {},
   "outputs": [],
   "source": [
    "chunk_size = 500\n",
    "outputs = []\n",
    "\n",
    "for start in range(0, dataset.data.shape[0], chunk_size):\n",
    "    end = min(start + chunk_size, dataset.data.shape[0])\n",
    "    chunk = dataset.data[start:end, ...].to(device=\"cuda\")\n",
    "\n",
    "    chunk_processed = preprocess_data(chunk)\n",
    "    outputs.append(chunk_processed.cpu())\n",
    "    del chunk_processed\n",
    "\n",
    "processed_data = torch.cat(outputs, dim=0)\n",
    "del outputs"
   ]
  },
  {
   "cell_type": "code",
   "execution_count": 6,
   "id": "093e13eb-b797-4efa-9a13-18e7fc00fbd8",
   "metadata": {},
   "outputs": [],
   "source": [
    "import h5py\n",
    "\n",
    "with h5py.File(\"processed_data.h5\", \"w\") as f:\n",
    "    f.create_dataset(\"data\", data=processed_data.numpy())\n",
    "    f.create_dataset(\"labels\", data=dataset.labels.numpy())"
   ]
  }
 ],
 "metadata": {
  "kernelspec": {
   "display_name": "Python 3 (ipykernel)",
   "language": "python",
   "name": "python3"
  },
  "language_info": {
   "codemirror_mode": {
    "name": "ipython",
    "version": 3
   },
   "file_extension": ".py",
   "mimetype": "text/x-python",
   "name": "python",
   "nbconvert_exporter": "python",
   "pygments_lexer": "ipython3",
   "version": "3.12.6"
  }
 },
 "nbformat": 4,
 "nbformat_minor": 5
}
