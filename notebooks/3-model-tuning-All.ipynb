{
 "cells": [
  {
   "cell_type": "code",
   "execution_count": null,
   "id": "9aa4224b-a6ff-43ce-a871-5d7378604317",
   "metadata": {},
   "outputs": [],
   "source": [
    "%reload_ext autoreload\n",
    "%autoreload all\n",
    "\n",
    "%aimport -torch\n",
    "%aimport -matplotlib\n",
    "%aimport -seaborn\n",
    "%aimport -numpy\n",
    "%aimport -pandas\n",
    "%aimport -scipy\n",
    "%aimport -lightning "
   ]
  },
  {
   "cell_type": "code",
   "execution_count": null,
   "id": "f58ebcd4",
   "metadata": {},
   "outputs": [],
   "source": [
    "import optuna\n",
    "import torch\n",
    "\n",
    "from eeg_snn_encoder.config import PROCESSED_DATA_DIR\n",
    "from eeg_snn_encoder.dataset import CHBMITDataModule, CHBMITDataset\n",
    "\n",
    "torch.set_float32_matmul_precision('high')"
   ]
  },
  {
   "cell_type": "code",
   "execution_count": 3,
   "id": "4b6c4d14",
   "metadata": {},
   "outputs": [],
   "source": [
    "# Load the dataset\n",
    "dataset = CHBMITDataset(PROCESSED_DATA_DIR / \"stft_normalized.h5\")"
   ]
  },
  {
   "cell_type": "code",
   "execution_count": 4,
   "id": "83601dfc",
   "metadata": {},
   "outputs": [],
   "source": [
    "datamodule = CHBMITDataModule(dataset, batch_size=768, worker=0)"
   ]
  },
  {
   "cell_type": "code",
   "execution_count": 8,
   "id": "292cc055",
   "metadata": {
    "editable": true,
    "scrolled": true,
    "slideshow": {
     "slide_type": ""
    },
    "tags": []
   },
   "outputs": [],
   "source": [
    "tuning_list = [\n",
    "    \"be\",\n",
    "    \"pe\",\n",
    "    \"poisson\",\n",
    "    \"bsa\",\n",
    "    \"sf\",\n",
    "    \"tbr\",\n",
    "]"
   ]
  },
  {
   "cell_type": "code",
   "execution_count": 9,
   "id": "ab3e7e09",
   "metadata": {},
   "outputs": [
    {
     "ename": "ImportError",
     "evalue": "cannot import name 'create_objective' from 'eeg_snn_encoder.tuning' (/home/jupyter-group55/snn-encoder-test/eeg_snn_encoder/tuning.py)",
     "output_type": "error",
     "traceback": [
      "\u001b[31m---------------------------------------------------------------------------\u001b[39m",
      "\u001b[31mImportError\u001b[39m                               Traceback (most recent call last)",
      "\u001b[36mCell\u001b[39m\u001b[36m \u001b[39m\u001b[32mIn[9]\u001b[39m\u001b[32m, line 5\u001b[39m\n\u001b[32m      1\u001b[39m \u001b[38;5;28;01mimport\u001b[39;00m\u001b[38;5;250m \u001b[39m\u001b[34;01mos\u001b[39;00m\n\u001b[32m      3\u001b[39m \u001b[38;5;28;01mfrom\u001b[39;00m\u001b[38;5;250m \u001b[39m\u001b[34;01mloguru\u001b[39;00m\u001b[38;5;250m \u001b[39m\u001b[38;5;28;01mimport\u001b[39;00m logger\n\u001b[32m----> \u001b[39m\u001b[32m5\u001b[39m \u001b[38;5;28;01mfrom\u001b[39;00m\u001b[38;5;250m \u001b[39m\u001b[34;01meeg_snn_encoder\u001b[39;00m\u001b[34;01m.\u001b[39;00m\u001b[34;01mtuning\u001b[39;00m\u001b[38;5;250m \u001b[39m\u001b[38;5;28;01mimport\u001b[39;00m create_objective\n\u001b[32m      7\u001b[39m \u001b[38;5;28;01mfor\u001b[39;00m tuning \u001b[38;5;129;01min\u001b[39;00m tuning_list:\n\u001b[32m      8\u001b[39m     logger.info(\u001b[33mf\u001b[39m\u001b[33m\"\u001b[39m\u001b[33mStarting tuning for \u001b[39m\u001b[38;5;132;01m{\u001b[39;00mtuning\u001b[38;5;132;01m}\u001b[39;00m\u001b[33m\"\u001b[39m)\n",
      "\u001b[31mImportError\u001b[39m: cannot import name 'create_objective' from 'eeg_snn_encoder.tuning' (/home/jupyter-group55/snn-encoder-test/eeg_snn_encoder/tuning.py)"
     ]
    }
   ],
   "source": [
    "import os\n",
    "\n",
    "from loguru import logger\n",
    "\n",
    "from eeg_snn_encoder.tuning import create_objective\n",
    "\n",
    "for tuning in tuning_list:\n",
    "    logger.info(f\"Starting tuning for {tuning}\")\n",
    "    \n",
    "    sampler = optuna.samplers.TPESampler(n_startup_trials=10, multivariate=True, group=True)\n",
    "\n",
    "    pruner = optuna.pruners.MedianPruner(n_startup_trials=10, n_warmup_steps=1)\n",
    "\n",
    "    study = optuna.create_study(\n",
    "        direction=\"minimize\",\n",
    "        study_name=f\"model-tuning-{tuning}-new\",\n",
    "        storage=os.environ[\"OPTUNA_CONN_STRING\"],\n",
    "        load_if_exists=True,\n",
    "        sampler=sampler,\n",
    "        pruner=pruner,\n",
    "    )\n",
    "\n",
    "    objective = create_objective(\n",
    "        encoder_type=tuning, datamodule=datamodule, moniter_metric=\"val_mse\", moniter_mode=\"min\"\n",
    "    )\n",
    "\n",
    "    study.optimize(objective, n_trials=50)\n",
    "\n",
    "    logger.info(f\"Best trial for {tuning}: {study.best_trial}\")\n",
    "    logger.info(f\"Best value for {tuning}: {study.best_value}\")\n",
    "    logger.info(f\"Best params for {tuning}: {study.best_params}\")"
   ]
  }
 ],
 "metadata": {
  "kernelspec": {
   "display_name": "snn-encoder-test",
   "language": "python",
   "name": "snn-encoder-test"
  },
  "language_info": {
   "codemirror_mode": {
    "name": "ipython",
    "version": 3
   },
   "file_extension": ".py",
   "mimetype": "text/x-python",
   "name": "python",
   "nbconvert_exporter": "python",
   "pygments_lexer": "ipython3",
   "version": "3.12.9"
  }
 },
 "nbformat": 4,
 "nbformat_minor": 5
}
