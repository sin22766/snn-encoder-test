{
 "cells": [
  {
   "cell_type": "code",
   "execution_count": 1,
   "id": "9aa4224b-a6ff-43ce-a871-5d7378604317",
   "metadata": {},
   "outputs": [],
   "source": [
    "%reload_ext autoreload\n",
    "%autoreload all\n",
    "\n",
    "%aimport -torch\n",
    "%aimport -matplotlib\n",
    "%aimport -seaborn\n",
    "%aimport -numpy\n",
    "%aimport -pandas\n",
    "%aimport -scipy\n",
    "%aimport -lightning "
   ]
  },
  {
   "cell_type": "code",
   "execution_count": 2,
   "id": "4b6c4d14",
   "metadata": {},
   "outputs": [
    {
     "name": "stderr",
     "output_type": "stream",
     "text": [
      "\u001b[32m2025-05-07 08:17:29.303\u001b[0m | \u001b[1mINFO    \u001b[0m | \u001b[36meeg_snn_encoder.config\u001b[0m:\u001b[36m<module>\u001b[0m:\u001b[36m11\u001b[0m - \u001b[1mPROJ_ROOT path is: /root/snn-encoder-test\u001b[0m\n"
     ]
    }
   ],
   "source": [
    "from eeg_snn_encoder.config import PROCESSED_DATA_DIR\n",
    "from eeg_snn_encoder.dataset import CHBMITDataset, CHBMITDataModule\n",
    "\n",
    "# Load the dataset\n",
    "dataset = CHBMITDataset(PROCESSED_DATA_DIR / \"stft_normalized.h5\")"
   ]
  },
  {
   "cell_type": "code",
   "execution_count": 3,
   "id": "83601dfc",
   "metadata": {},
   "outputs": [],
   "source": [
    "datamodule = CHBMITDataModule(dataset, batch_size=512, worker=0)"
   ]
  },
  {
   "cell_type": "code",
   "execution_count": 4,
   "id": "84ec687f",
   "metadata": {},
   "outputs": [
    {
     "name": "stderr",
     "output_type": "stream",
     "text": [
      "/root/snn-encoder-test/.venv/lib/python3.12/site-packages/optuna/_experimental.py:31: ExperimentalWarning: Argument ``multivariate`` is an experimental feature. The interface can change in the future.\n",
      "  warnings.warn(\n"
     ]
    }
   ],
   "source": [
    "import os\n",
    "\n",
    "import optuna\n",
    "\n",
    "# Initialize the Optuna study\n",
    "sampler = optuna.samplers.TPESampler(multivariate=True)\n",
    "study = optuna.load_study(\n",
    "    study_name=\"model-tuning-be\",\n",
    "    storage=os.environ[\"OPTUNA_CONN_STRING\"],\n",
    "    sampler=sampler,\n",
    ")"
   ]
  },
  {
   "cell_type": "code",
   "execution_count": 5,
   "id": "5e73b085",
   "metadata": {},
   "outputs": [
    {
     "data": {
      "text/plain": [
       "[FrozenTrial(number=44, state=1, values=[10.841240882873535], datetime_start=datetime.datetime(2025, 5, 6, 20, 20, 45, 275730), datetime_complete=datetime.datetime(2025, 5, 6, 20, 22, 42, 907178), params={'threshold': 0.07090851207541435, 'slope': 8.107275688930079, 'beta': 0.7440672774049281, 'dropout_rate1': 0.20034293181105056, 'dropout_rate2': 0.5865898197113356, 'lr': 9.362082441139168e-05, 'weight_decay': 1.3936923384285494e-06, 'scheduler_factor': 0.4595170872743502, 'scheduler_patience': 8, 'max_window': 5, 'n_max': 4, 't_max': 0, 't_min': 0}, user_attrs={}, system_attrs={}, intermediate_values={0: 17.381244659423828, 1: 17.244325637817383, 2: 19.790807723999023, 3: 18.930034637451172, 4: 15.946797370910645, 5: 14.786341667175293, 6: 14.04427433013916, 7: 13.216415405273438, 8: 12.813944816589355, 9: 13.05215072631836, 10: 12.538644790649414, 11: 12.573296546936035, 12: 12.258035659790039, 13: 12.028778076171875, 14: 11.209694862365723, 15: 10.950955390930176, 16: 10.638849258422852, 17: 10.83168888092041, 18: 10.407947540283203, 19: 10.841240882873535}, distributions={'threshold': FloatDistribution(high=0.5, log=False, low=0.01, step=None), 'slope': FloatDistribution(high=20.0, log=False, low=1.0, step=None), 'beta': FloatDistribution(high=0.99, log=False, low=0.1, step=None), 'dropout_rate1': FloatDistribution(high=0.99, log=False, low=0.1, step=None), 'dropout_rate2': FloatDistribution(high=0.99, log=False, low=0.1, step=None), 'lr': FloatDistribution(high=0.0001, log=True, low=1e-06, step=None), 'weight_decay': FloatDistribution(high=0.0001, log=True, low=1e-06, step=None), 'scheduler_factor': FloatDistribution(high=0.99, log=False, low=0.1, step=None), 'scheduler_patience': IntDistribution(high=10, log=False, low=1, step=1), 'max_window': IntDistribution(high=16, log=False, low=4, step=1), 'n_max': IntDistribution(high=5, log=False, low=1, step=1), 't_max': IntDistribution(high=1, log=False, low=0, step=1), 't_min': IntDistribution(high=0, log=False, low=0, step=1)}, trial_id=194, value=None),\n",
       " FrozenTrial(number=33, state=1, values=[10.9647798538208], datetime_start=datetime.datetime(2025, 5, 6, 20, 13, 25, 757856), datetime_complete=datetime.datetime(2025, 5, 6, 20, 15, 35, 406413), params={'threshold': 0.038631938485445, 'slope': 17.63671356184435, 'beta': 0.8160961788292469, 'dropout_rate1': 0.5390854007266145, 'dropout_rate2': 0.8130433135080958, 'lr': 9.406702707497499e-05, 'weight_decay': 6.172272369090035e-05, 'scheduler_factor': 0.6284644670153642, 'scheduler_patience': 6, 'max_window': 9, 'n_max': 7, 't_max': 0, 't_min': 0}, user_attrs={}, system_attrs={}, intermediate_values={0: 29.180593490600586, 1: 23.459617614746094, 2: 16.649585723876953, 3: 19.068809509277344, 4: 15.985337257385254, 5: 16.754417419433594, 6: 14.694794654846191, 7: 14.888041496276855, 8: 14.16397476196289, 9: 13.721689224243164, 10: 13.623653411865234, 11: 12.516166687011719, 12: 12.722766876220703, 13: 12.978419303894043, 14: 12.22450065612793, 15: 12.052042007446289, 16: 11.297569274902344, 17: 11.310572624206543, 18: 11.10567855834961, 19: 10.9647798538208}, distributions={'threshold': FloatDistribution(high=0.5, log=False, low=0.01, step=None), 'slope': FloatDistribution(high=20.0, log=False, low=1.0, step=None), 'beta': FloatDistribution(high=0.99, log=False, low=0.1, step=None), 'dropout_rate1': FloatDistribution(high=0.99, log=False, low=0.1, step=None), 'dropout_rate2': FloatDistribution(high=0.99, log=False, low=0.1, step=None), 'lr': FloatDistribution(high=0.0001, log=True, low=1e-06, step=None), 'weight_decay': FloatDistribution(high=0.0001, log=True, low=1e-06, step=None), 'scheduler_factor': FloatDistribution(high=0.99, log=False, low=0.1, step=None), 'scheduler_patience': IntDistribution(high=10, log=False, low=1, step=1), 'max_window': IntDistribution(high=16, log=False, low=4, step=1), 'n_max': IntDistribution(high=9, log=False, low=1, step=1), 't_max': IntDistribution(high=1, log=False, low=0, step=1), 't_min': IntDistribution(high=0, log=False, low=0, step=1)}, trial_id=183, value=None),\n",
       " FrozenTrial(number=17, state=1, values=[11.228299140930176], datetime_start=datetime.datetime(2025, 5, 6, 20, 1, 16, 839952), datetime_complete=datetime.datetime(2025, 5, 6, 20, 3, 16, 990057), params={'threshold': 0.0398863898955059, 'slope': 18.522680857220692, 'beta': 0.7809379322752477, 'dropout_rate1': 0.5100500559710461, 'dropout_rate2': 0.730158315841459, 'lr': 9.379778169610137e-05, 'weight_decay': 4.3660072956328376e-05, 'scheduler_factor': 0.6932955598656476, 'scheduler_patience': 6, 'max_window': 11, 'n_max': 9, 't_max': 0, 't_min': 0}, user_attrs={}, system_attrs={}, intermediate_values={0: 22.2176456451416, 1: 19.473541259765625, 2: 16.161426544189453, 3: 13.838515281677246, 4: 13.411345481872559, 5: 13.483621597290039, 6: 12.717676162719727, 7: 12.985593795776367, 8: 12.32239818572998, 9: 12.264537811279297, 10: 11.512677192687988, 11: 11.778039932250977, 12: 12.052215576171875, 13: 11.596070289611816, 14: 11.101512908935547, 15: 10.972756385803223, 16: 13.740694999694824, 17: 12.02908706665039, 18: 10.909082412719727, 19: 11.228299140930176}, distributions={'threshold': FloatDistribution(high=0.5, log=False, low=0.01, step=None), 'slope': FloatDistribution(high=20.0, log=False, low=1.0, step=None), 'beta': FloatDistribution(high=0.99, log=False, low=0.1, step=None), 'dropout_rate1': FloatDistribution(high=0.99, log=False, low=0.1, step=None), 'dropout_rate2': FloatDistribution(high=0.99, log=False, low=0.1, step=None), 'lr': FloatDistribution(high=0.0001, log=True, low=1e-06, step=None), 'weight_decay': FloatDistribution(high=0.0001, log=True, low=1e-06, step=None), 'scheduler_factor': FloatDistribution(high=0.99, log=False, low=0.1, step=None), 'scheduler_patience': IntDistribution(high=10, log=False, low=1, step=1), 'max_window': IntDistribution(high=16, log=False, low=4, step=1), 'n_max': IntDistribution(high=11, log=False, low=1, step=1), 't_max': IntDistribution(high=1, log=False, low=0, step=1), 't_min': IntDistribution(high=0, log=False, low=0, step=1)}, trial_id=167, value=None),\n",
       " FrozenTrial(number=50, state=1, values=[11.815191268920898], datetime_start=datetime.datetime(2025, 5, 6, 20, 26, 26, 185964), datetime_complete=datetime.datetime(2025, 5, 6, 20, 28, 29, 209915), params={'threshold': 0.06366864947676114, 'slope': 5.2894499125427075, 'beta': 0.7877270086266492, 'dropout_rate1': 0.16131408516132015, 'dropout_rate2': 0.3713526807325681, 'lr': 4.312310459186561e-05, 'weight_decay': 1.316034749911077e-06, 'scheduler_factor': 0.7731510149041902, 'scheduler_patience': 10, 'max_window': 4, 'n_max': 2, 't_max': 1, 't_min': 1}, user_attrs={}, system_attrs={}, intermediate_values={0: 18.141433715820312, 1: 17.697660446166992, 2: 16.932466506958008, 3: 14.84600830078125, 4: 14.403875350952148, 5: 14.335872650146484, 6: 13.924419403076172, 7: 13.530876159667969, 8: 13.265995979309082, 9: 12.983409881591797, 10: 12.764090538024902, 11: 12.561226844787598, 12: 12.670036315917969, 13: 12.369053840637207, 14: 12.633291244506836, 15: 12.697904586791992, 16: 12.1137113571167, 17: 12.18761157989502, 18: 11.910826683044434, 19: 11.815191268920898}, distributions={'threshold': FloatDistribution(high=0.5, log=False, low=0.01, step=None), 'slope': FloatDistribution(high=20.0, log=False, low=1.0, step=None), 'beta': FloatDistribution(high=0.99, log=False, low=0.1, step=None), 'dropout_rate1': FloatDistribution(high=0.99, log=False, low=0.1, step=None), 'dropout_rate2': FloatDistribution(high=0.99, log=False, low=0.1, step=None), 'lr': FloatDistribution(high=0.0001, log=True, low=1e-06, step=None), 'weight_decay': FloatDistribution(high=0.0001, log=True, low=1e-06, step=None), 'scheduler_factor': FloatDistribution(high=0.99, log=False, low=0.1, step=None), 'scheduler_patience': IntDistribution(high=10, log=False, low=1, step=1), 'max_window': IntDistribution(high=16, log=False, low=4, step=1), 'n_max': IntDistribution(high=4, log=False, low=1, step=1), 't_max': IntDistribution(high=2, log=False, low=0, step=1), 't_min': IntDistribution(high=1, log=False, low=0, step=1)}, trial_id=200, value=None),\n",
       " FrozenTrial(number=21, state=1, values=[12.150322914123535], datetime_start=datetime.datetime(2025, 5, 6, 20, 4, 25, 297978), datetime_complete=datetime.datetime(2025, 5, 6, 20, 6, 31, 188002), params={'threshold': 0.047000177653991636, 'slope': 13.498789417101973, 'beta': 0.9497446164058994, 'dropout_rate1': 0.2154049407007944, 'dropout_rate2': 0.5586971970165209, 'lr': 1.8447189493801596e-05, 'weight_decay': 5.547183868487324e-05, 'scheduler_factor': 0.5690662394015971, 'scheduler_patience': 5, 'max_window': 14, 'n_max': 11, 't_max': 0, 't_min': 0}, user_attrs={}, system_attrs={}, intermediate_values={0: 24.473970413208008, 1: 21.8900203704834, 2: 20.078571319580078, 3: 18.993844985961914, 4: 18.065765380859375, 5: 16.787099838256836, 6: 15.924757957458496, 7: 15.125165939331055, 8: 14.969778060913086, 9: 14.337053298950195, 10: 13.67418098449707, 11: 13.364372253417969, 12: 12.920072555541992, 13: 12.941823959350586, 14: 12.863317489624023, 15: 12.680506706237793, 16: 12.814371109008789, 17: 12.617008209228516, 18: 12.225090980529785, 19: 12.150322914123535}, distributions={'threshold': FloatDistribution(high=0.5, log=False, low=0.01, step=None), 'slope': FloatDistribution(high=20.0, log=False, low=1.0, step=None), 'beta': FloatDistribution(high=0.99, log=False, low=0.1, step=None), 'dropout_rate1': FloatDistribution(high=0.99, log=False, low=0.1, step=None), 'dropout_rate2': FloatDistribution(high=0.99, log=False, low=0.1, step=None), 'lr': FloatDistribution(high=0.0001, log=True, low=1e-06, step=None), 'weight_decay': FloatDistribution(high=0.0001, log=True, low=1e-06, step=None), 'scheduler_factor': FloatDistribution(high=0.99, log=False, low=0.1, step=None), 'scheduler_patience': IntDistribution(high=10, log=False, low=1, step=1), 'max_window': IntDistribution(high=16, log=False, low=4, step=1), 'n_max': IntDistribution(high=14, log=False, low=1, step=1), 't_max': IntDistribution(high=1, log=False, low=0, step=1), 't_min': IntDistribution(high=0, log=False, low=0, step=1)}, trial_id=171, value=None),\n",
       " FrozenTrial(number=27, state=1, values=[12.902019500732422], datetime_start=datetime.datetime(2025, 5, 6, 20, 8, 1, 128120), datetime_complete=datetime.datetime(2025, 5, 6, 20, 9, 59, 98015), params={'threshold': 0.020555117099992838, 'slope': 13.88465396657716, 'beta': 0.9408016483038267, 'dropout_rate1': 0.3414632691892172, 'dropout_rate2': 0.715608686572237, 'lr': 4.012407867642401e-05, 'weight_decay': 1.0455558756548687e-05, 'scheduler_factor': 0.5418717408035103, 'scheduler_patience': 5, 'max_window': 6, 'n_max': 5, 't_max': 0, 't_min': 0}, user_attrs={}, system_attrs={}, intermediate_values={0: 31.955894470214844, 1: 23.841564178466797, 2: 20.425289154052734, 3: 16.655046463012695, 4: 20.38680648803711, 5: 16.195613861083984, 6: 16.40060043334961, 7: 16.23337173461914, 8: 16.577951431274414, 9: 16.076101303100586, 10: 15.428227424621582, 11: 14.427643775939941, 12: 14.723238945007324, 13: 13.788654327392578, 14: 13.544137001037598, 15: 13.583022117614746, 16: 13.763632774353027, 17: 13.56087875366211, 18: 13.839048385620117, 19: 12.902019500732422}, distributions={'threshold': FloatDistribution(high=0.5, log=False, low=0.01, step=None), 'slope': FloatDistribution(high=20.0, log=False, low=1.0, step=None), 'beta': FloatDistribution(high=0.99, log=False, low=0.1, step=None), 'dropout_rate1': FloatDistribution(high=0.99, log=False, low=0.1, step=None), 'dropout_rate2': FloatDistribution(high=0.99, log=False, low=0.1, step=None), 'lr': FloatDistribution(high=0.0001, log=True, low=1e-06, step=None), 'weight_decay': FloatDistribution(high=0.0001, log=True, low=1e-06, step=None), 'scheduler_factor': FloatDistribution(high=0.99, log=False, low=0.1, step=None), 'scheduler_patience': IntDistribution(high=10, log=False, low=1, step=1), 'max_window': IntDistribution(high=16, log=False, low=4, step=1), 'n_max': IntDistribution(high=6, log=False, low=1, step=1), 't_max': IntDistribution(high=1, log=False, low=0, step=1), 't_min': IntDistribution(high=0, log=False, low=0, step=1)}, trial_id=177, value=None)]"
      ]
     },
     "execution_count": 5,
     "metadata": {},
     "output_type": "execute_result"
    }
   ],
   "source": [
    "complete_trial = study.get_trials(False, states=(optuna.trial.TrialState.COMPLETE,))\n",
    "sorted_trials = sorted(complete_trial, key=lambda t: t.value)\n",
    "filtered_trials = list(filter(lambda t: t.value < 15, sorted_trials))\n",
    "filtered_trials"
   ]
  },
  {
   "cell_type": "code",
   "execution_count": 6,
   "id": "141e06ab",
   "metadata": {
    "editable": true,
    "slideshow": {
     "slide_type": ""
    },
    "tags": []
   },
   "outputs": [],
   "source": [
    "from loguru import logger\n",
    "\n",
    "import lightning.pytorch as pl\n",
    "from lightning.pytorch.callbacks.early_stopping import EarlyStopping\n",
    "from optuna.integration import PyTorchLightningPruningCallback\n",
    "\n",
    "from eeg_snn_encoder.encoders import BurstEncoder\n",
    "from eeg_snn_encoder.models.classifier import ModelConfig\n",
    "from eeg_snn_encoder.models.lightning import LitSeizureClassifier, OptimizerConfig\n",
    "import torch\n",
    "\n",
    "torch.set_float32_matmul_precision('medium')\n",
    "\n",
    "\n",
    "def objective(trial: optuna.Trial) -> float:\n",
    "    model_params: ModelConfig = {\n",
    "        \"threshold\": trial.suggest_float(\"threshold\", 0.01, 0.5),\n",
    "        \"slope\": trial.suggest_float(\"slope\", 1.0, 20.0),\n",
    "        \"beta\": trial.suggest_float(\"beta\", 0.1, 0.99),\n",
    "        \"dropout_rate1\": trial.suggest_float(\"dropout_rate1\", 0.1, 0.99),\n",
    "        \"dropout_rate2\": trial.suggest_float(\"dropout_rate2\", 0.1, 0.99),\n",
    "    }\n",
    "\n",
    "    optimizer_params: OptimizerConfig = {\n",
    "        \"lr\": trial.suggest_float(\"lr\", 1e-6, 1e-4, log=True),\n",
    "        \"weight_decay\": trial.suggest_float(\"weight_decay\", 1e-6, 1e-4, log=True),\n",
    "        \"scheduler_factor\": trial.suggest_float(\"scheduler_factor\", 0.1, 0.99),\n",
    "        \"scheduler_patience\": trial.suggest_int(\"scheduler_patience\", 1, 10),\n",
    "    }\n",
    "\n",
    "    max_window = trial.suggest_int(\"max_window\", 4, 16)\n",
    "    n_max = trial.suggest_int(\"n_max\", 1, max_window)\n",
    "    t_max = trial.suggest_int(\"t_max\", 0, max_window // n_max)\n",
    "    t_min = trial.suggest_int(\"t_min\", 0, t_max)\n",
    "\n",
    "    encoder_params = {\n",
    "        \"max_window\": max_window,\n",
    "        \"n_max\": n_max,\n",
    "        \"t_max\": t_max,\n",
    "        \"t_min\": t_min,\n",
    "    }\n",
    "\n",
    "    spike_encoder = BurstEncoder(**encoder_params)\n",
    "    \n",
    "    lit_model = LitSeizureClassifier(\n",
    "        model_config=model_params,\n",
    "        optimizer_config=optimizer_params,\n",
    "        spike_encoder=spike_encoder,\n",
    "    )\n",
    "\n",
    "    trainer = pl.Trainer(\n",
    "        max_epochs=50,\n",
    "        accelerator=\"auto\",\n",
    "        devices=\"auto\",\n",
    "        strategy=\"auto\",\n",
    "        enable_model_summary=False,\n",
    "        enable_checkpointing=False,\n",
    "        callbacks=[PyTorchLightningPruningCallback(trial, monitor=\"val_loss\"), EarlyStopping(monitor=\"val_loss\", mode=\"min\", patience=5)],\n",
    "        logger=False,\n",
    "    )\n",
    "\n",
    "    trainer.fit(lit_model, datamodule=datamodule)\n",
    "\n",
    "    val_loss = trainer.callback_metrics[\"val_loss\"].item()\n",
    "    \n",
    "    trainer.test(lit_model, datamodule=datamodule)\n",
    "\n",
    "    test_loss = trainer.callback_metrics[\"test_loss\"].item()\n",
    "    test_acc = trainer.callback_metrics[\"test_acc\"]\n",
    "    test_f1 = trainer.callback_metrics[\"test_f1\"]\n",
    "    test_mse = trainer.callback_metrics[\"test_mse\"]\n",
    "    test_total_spikes = trainer.callback_metrics[\"test_total_spikes\"]\n",
    "\n",
    "    logger.info(f\"Encoder: Burst Encoding,trial: {trial.number}, test_loss:{test_loss}, test_mse:{test_mse}, test_acc:{test_acc}, test_f1:{test_f1}, test_total_spikes:{test_total_spikes}\")\n",
    "\n",
    "    return val_loss"
   ]
  },
  {
   "cell_type": "code",
   "execution_count": 7,
   "id": "e0028fce",
   "metadata": {},
   "outputs": [
    {
     "name": "stderr",
     "output_type": "stream",
     "text": [
      "GPU available: True (cuda), used: True\n",
      "TPU available: False, using: 0 TPU cores\n",
      "HPU available: False, using: 0 HPUs\n",
      "LOCAL_RANK: 0 - CUDA_VISIBLE_DEVICES: [0]\n"
     ]
    },
    {
     "data": {
      "application/vnd.jupyter.widget-view+json": {
       "model_id": "a579892a0e90477d814f8256c4e27830",
       "version_major": 2,
       "version_minor": 0
      },
      "text/plain": [
       "Sanity Checking: |          | 0/? [00:00<?, ?it/s]"
      ]
     },
     "metadata": {},
     "output_type": "display_data"
    },
    {
     "name": "stderr",
     "output_type": "stream",
     "text": [
      "/root/snn-encoder-test/.venv/lib/python3.12/site-packages/lightning/pytorch/trainer/connectors/data_connector.py:425: The 'val_dataloader' does not have many workers which may be a bottleneck. Consider increasing the value of the `num_workers` argument` to `num_workers=47` in the `DataLoader` to improve performance.\n",
      "/root/snn-encoder-test/.venv/lib/python3.12/site-packages/lightning/pytorch/trainer/connectors/data_connector.py:425: The 'train_dataloader' does not have many workers which may be a bottleneck. Consider increasing the value of the `num_workers` argument` to `num_workers=47` in the `DataLoader` to improve performance.\n"
     ]
    },
    {
     "data": {
      "application/vnd.jupyter.widget-view+json": {
       "model_id": "cbaea22506394f589ca67baa0a739f55",
       "version_major": 2,
       "version_minor": 0
      },
      "text/plain": [
       "Training: |          | 0/? [00:00<?, ?it/s]"
      ]
     },
     "metadata": {},
     "output_type": "display_data"
    },
    {
     "data": {
      "application/vnd.jupyter.widget-view+json": {
       "model_id": "9aa5c45cf73444659d2e9ba9ced79d38",
       "version_major": 2,
       "version_minor": 0
      },
      "text/plain": [
       "Validation: |          | 0/? [00:00<?, ?it/s]"
      ]
     },
     "metadata": {},
     "output_type": "display_data"
    },
    {
     "data": {
      "application/vnd.jupyter.widget-view+json": {
       "model_id": "db1607983a3b42748ccae3bcb4fa8be2",
       "version_major": 2,
       "version_minor": 0
      },
      "text/plain": [
       "Validation: |          | 0/? [00:00<?, ?it/s]"
      ]
     },
     "metadata": {},
     "output_type": "display_data"
    },
    {
     "data": {
      "application/vnd.jupyter.widget-view+json": {
       "model_id": "cbb61e4e56324903b6169986d2fcdbac",
       "version_major": 2,
       "version_minor": 0
      },
      "text/plain": [
       "Validation: |          | 0/? [00:00<?, ?it/s]"
      ]
     },
     "metadata": {},
     "output_type": "display_data"
    },
    {
     "data": {
      "application/vnd.jupyter.widget-view+json": {
       "model_id": "16e513d5840043b0b709ac868ff152fa",
       "version_major": 2,
       "version_minor": 0
      },
      "text/plain": [
       "Validation: |          | 0/? [00:00<?, ?it/s]"
      ]
     },
     "metadata": {},
     "output_type": "display_data"
    },
    {
     "data": {
      "application/vnd.jupyter.widget-view+json": {
       "model_id": "a5614336e48c4965b8ef0d5e24c57d0c",
       "version_major": 2,
       "version_minor": 0
      },
      "text/plain": [
       "Validation: |          | 0/? [00:00<?, ?it/s]"
      ]
     },
     "metadata": {},
     "output_type": "display_data"
    },
    {
     "data": {
      "application/vnd.jupyter.widget-view+json": {
       "model_id": "ba0f7ac038da412b91893e55ad7ebbf0",
       "version_major": 2,
       "version_minor": 0
      },
      "text/plain": [
       "Validation: |          | 0/? [00:00<?, ?it/s]"
      ]
     },
     "metadata": {},
     "output_type": "display_data"
    },
    {
     "data": {
      "application/vnd.jupyter.widget-view+json": {
       "model_id": "50a29234e0e246acb6c5307ed93d0eb4",
       "version_major": 2,
       "version_minor": 0
      },
      "text/plain": [
       "Validation: |          | 0/? [00:00<?, ?it/s]"
      ]
     },
     "metadata": {},
     "output_type": "display_data"
    },
    {
     "data": {
      "application/vnd.jupyter.widget-view+json": {
       "model_id": "709d53eefed14f81a3cd8264090a7e9a",
       "version_major": 2,
       "version_minor": 0
      },
      "text/plain": [
       "Validation: |          | 0/? [00:00<?, ?it/s]"
      ]
     },
     "metadata": {},
     "output_type": "display_data"
    },
    {
     "data": {
      "application/vnd.jupyter.widget-view+json": {
       "model_id": "f4f3cbe24fc64c109426f2a2b7f93b62",
       "version_major": 2,
       "version_minor": 0
      },
      "text/plain": [
       "Validation: |          | 0/? [00:00<?, ?it/s]"
      ]
     },
     "metadata": {},
     "output_type": "display_data"
    },
    {
     "data": {
      "application/vnd.jupyter.widget-view+json": {
       "model_id": "406f5d4faa5f46ceb2d5e2f2fe955a3f",
       "version_major": 2,
       "version_minor": 0
      },
      "text/plain": [
       "Validation: |          | 0/? [00:00<?, ?it/s]"
      ]
     },
     "metadata": {},
     "output_type": "display_data"
    },
    {
     "data": {
      "application/vnd.jupyter.widget-view+json": {
       "model_id": "c0fc02b4f0be4874a807755784167844",
       "version_major": 2,
       "version_minor": 0
      },
      "text/plain": [
       "Validation: |          | 0/? [00:00<?, ?it/s]"
      ]
     },
     "metadata": {},
     "output_type": "display_data"
    },
    {
     "data": {
      "application/vnd.jupyter.widget-view+json": {
       "model_id": "312ae9dbe870445caa69233154d615ad",
       "version_major": 2,
       "version_minor": 0
      },
      "text/plain": [
       "Validation: |          | 0/? [00:00<?, ?it/s]"
      ]
     },
     "metadata": {},
     "output_type": "display_data"
    },
    {
     "data": {
      "application/vnd.jupyter.widget-view+json": {
       "model_id": "f42638c603554fbcbd5693f630338484",
       "version_major": 2,
       "version_minor": 0
      },
      "text/plain": [
       "Validation: |          | 0/? [00:00<?, ?it/s]"
      ]
     },
     "metadata": {},
     "output_type": "display_data"
    },
    {
     "data": {
      "application/vnd.jupyter.widget-view+json": {
       "model_id": "af78f6499e8d4d29a676e0fce8c8cb8e",
       "version_major": 2,
       "version_minor": 0
      },
      "text/plain": [
       "Validation: |          | 0/? [00:00<?, ?it/s]"
      ]
     },
     "metadata": {},
     "output_type": "display_data"
    },
    {
     "data": {
      "application/vnd.jupyter.widget-view+json": {
       "model_id": "87704a585df24491a3a6a24f399de844",
       "version_major": 2,
       "version_minor": 0
      },
      "text/plain": [
       "Validation: |          | 0/? [00:00<?, ?it/s]"
      ]
     },
     "metadata": {},
     "output_type": "display_data"
    },
    {
     "data": {
      "application/vnd.jupyter.widget-view+json": {
       "model_id": "dc4a4284e6814703ae3184bf5f3f60b8",
       "version_major": 2,
       "version_minor": 0
      },
      "text/plain": [
       "Validation: |          | 0/? [00:00<?, ?it/s]"
      ]
     },
     "metadata": {},
     "output_type": "display_data"
    },
    {
     "data": {
      "application/vnd.jupyter.widget-view+json": {
       "model_id": "c7fc45e2b42047c9994c442643c9a0af",
       "version_major": 2,
       "version_minor": 0
      },
      "text/plain": [
       "Validation: |          | 0/? [00:00<?, ?it/s]"
      ]
     },
     "metadata": {},
     "output_type": "display_data"
    },
    {
     "data": {
      "application/vnd.jupyter.widget-view+json": {
       "model_id": "7016865b5f9d4cfebb13ad340b5cb6d8",
       "version_major": 2,
       "version_minor": 0
      },
      "text/plain": [
       "Validation: |          | 0/? [00:00<?, ?it/s]"
      ]
     },
     "metadata": {},
     "output_type": "display_data"
    },
    {
     "data": {
      "application/vnd.jupyter.widget-view+json": {
       "model_id": "45b29920d8c443108f0ba7172b3c5087",
       "version_major": 2,
       "version_minor": 0
      },
      "text/plain": [
       "Validation: |          | 0/? [00:00<?, ?it/s]"
      ]
     },
     "metadata": {},
     "output_type": "display_data"
    },
    {
     "data": {
      "application/vnd.jupyter.widget-view+json": {
       "model_id": "413c0266e2a34aeeb8ab410530454fcd",
       "version_major": 2,
       "version_minor": 0
      },
      "text/plain": [
       "Validation: |          | 0/? [00:00<?, ?it/s]"
      ]
     },
     "metadata": {},
     "output_type": "display_data"
    },
    {
     "data": {
      "application/vnd.jupyter.widget-view+json": {
       "model_id": "119364541c804ff1855d78619397572d",
       "version_major": 2,
       "version_minor": 0
      },
      "text/plain": [
       "Validation: |          | 0/? [00:00<?, ?it/s]"
      ]
     },
     "metadata": {},
     "output_type": "display_data"
    },
    {
     "data": {
      "application/vnd.jupyter.widget-view+json": {
       "model_id": "0b4067dcff8244699bec62124a55def4",
       "version_major": 2,
       "version_minor": 0
      },
      "text/plain": [
       "Validation: |          | 0/? [00:00<?, ?it/s]"
      ]
     },
     "metadata": {},
     "output_type": "display_data"
    },
    {
     "data": {
      "application/vnd.jupyter.widget-view+json": {
       "model_id": "9d28ee75e826406ca732796f44610ff3",
       "version_major": 2,
       "version_minor": 0
      },
      "text/plain": [
       "Validation: |          | 0/? [00:00<?, ?it/s]"
      ]
     },
     "metadata": {},
     "output_type": "display_data"
    },
    {
     "data": {
      "application/vnd.jupyter.widget-view+json": {
       "model_id": "3231f1ce294e49388d618179e4d46ca5",
       "version_major": 2,
       "version_minor": 0
      },
      "text/plain": [
       "Validation: |          | 0/? [00:00<?, ?it/s]"
      ]
     },
     "metadata": {},
     "output_type": "display_data"
    },
    {
     "data": {
      "application/vnd.jupyter.widget-view+json": {
       "model_id": "7a86abdc101649b991aa0b4c0ea05792",
       "version_major": 2,
       "version_minor": 0
      },
      "text/plain": [
       "Validation: |          | 0/? [00:00<?, ?it/s]"
      ]
     },
     "metadata": {},
     "output_type": "display_data"
    },
    {
     "data": {
      "application/vnd.jupyter.widget-view+json": {
       "model_id": "70dbde2a391c421489e0049446847b38",
       "version_major": 2,
       "version_minor": 0
      },
      "text/plain": [
       "Validation: |          | 0/? [00:00<?, ?it/s]"
      ]
     },
     "metadata": {},
     "output_type": "display_data"
    },
    {
     "data": {
      "application/vnd.jupyter.widget-view+json": {
       "model_id": "66e1b938173b49a793446d04d0d800cd",
       "version_major": 2,
       "version_minor": 0
      },
      "text/plain": [
       "Validation: |          | 0/? [00:00<?, ?it/s]"
      ]
     },
     "metadata": {},
     "output_type": "display_data"
    },
    {
     "data": {
      "application/vnd.jupyter.widget-view+json": {
       "model_id": "956b01ce8f1e49118fb40099bf46c384",
       "version_major": 2,
       "version_minor": 0
      },
      "text/plain": [
       "Validation: |          | 0/? [00:00<?, ?it/s]"
      ]
     },
     "metadata": {},
     "output_type": "display_data"
    },
    {
     "data": {
      "application/vnd.jupyter.widget-view+json": {
       "model_id": "9ed462c0702a4be3b7bc872bce8edbc9",
       "version_major": 2,
       "version_minor": 0
      },
      "text/plain": [
       "Validation: |          | 0/? [00:00<?, ?it/s]"
      ]
     },
     "metadata": {},
     "output_type": "display_data"
    },
    {
     "data": {
      "application/vnd.jupyter.widget-view+json": {
       "model_id": "5d51ab5d168e401d92f715e4a4a206ba",
       "version_major": 2,
       "version_minor": 0
      },
      "text/plain": [
       "Validation: |          | 0/? [00:00<?, ?it/s]"
      ]
     },
     "metadata": {},
     "output_type": "display_data"
    },
    {
     "data": {
      "application/vnd.jupyter.widget-view+json": {
       "model_id": "552a9d90097941a48affbe59feec363c",
       "version_major": 2,
       "version_minor": 0
      },
      "text/plain": [
       "Validation: |          | 0/? [00:00<?, ?it/s]"
      ]
     },
     "metadata": {},
     "output_type": "display_data"
    },
    {
     "data": {
      "application/vnd.jupyter.widget-view+json": {
       "model_id": "7b77f4c62b634c3a85b7c305b792e8b8",
       "version_major": 2,
       "version_minor": 0
      },
      "text/plain": [
       "Validation: |          | 0/? [00:00<?, ?it/s]"
      ]
     },
     "metadata": {},
     "output_type": "display_data"
    },
    {
     "data": {
      "application/vnd.jupyter.widget-view+json": {
       "model_id": "e8f61a73703c43498bad8cd102d3c25d",
       "version_major": 2,
       "version_minor": 0
      },
      "text/plain": [
       "Validation: |          | 0/? [00:00<?, ?it/s]"
      ]
     },
     "metadata": {},
     "output_type": "display_data"
    },
    {
     "data": {
      "application/vnd.jupyter.widget-view+json": {
       "model_id": "c0e2f14d10054adb94b53058364bb4ab",
       "version_major": 2,
       "version_minor": 0
      },
      "text/plain": [
       "Validation: |          | 0/? [00:00<?, ?it/s]"
      ]
     },
     "metadata": {},
     "output_type": "display_data"
    },
    {
     "name": "stderr",
     "output_type": "stream",
     "text": [
      "LOCAL_RANK: 0 - CUDA_VISIBLE_DEVICES: [0]\n",
      "/root/snn-encoder-test/.venv/lib/python3.12/site-packages/lightning/pytorch/trainer/connectors/data_connector.py:425: The 'test_dataloader' does not have many workers which may be a bottleneck. Consider increasing the value of the `num_workers` argument` to `num_workers=47` in the `DataLoader` to improve performance.\n"
     ]
    },
    {
     "data": {
      "application/vnd.jupyter.widget-view+json": {
       "model_id": "06e9417d2d054cf989a0a3eb958347a4",
       "version_major": 2,
       "version_minor": 0
      },
      "text/plain": [
       "Testing: |          | 0/? [00:00<?, ?it/s]"
      ]
     },
     "metadata": {},
     "output_type": "display_data"
    },
    {
     "data": {
      "text/html": [
       "<pre style=\"white-space:pre;overflow-x:auto;line-height:normal;font-family:Menlo,'DejaVu Sans Mono',consolas,'Courier New',monospace\">┏━━━━━━━━━━━━━━━━━━━━━━━━━━━┳━━━━━━━━━━━━━━━━━━━━━━━━━━━┓\n",
       "┃<span style=\"font-weight: bold\">        Test metric        </span>┃<span style=\"font-weight: bold\">       DataLoader 0        </span>┃\n",
       "┡━━━━━━━━━━━━━━━━━━━━━━━━━━━╇━━━━━━━━━━━━━━━━━━━━━━━━━━━┩\n",
       "│<span style=\"color: #008080; text-decoration-color: #008080\">         test_acc          </span>│<span style=\"color: #800080; text-decoration-color: #800080\">    0.7992021441459656     </span>│\n",
       "│<span style=\"color: #008080; text-decoration-color: #008080\">          test_f1          </span>│<span style=\"color: #800080; text-decoration-color: #800080\">    0.7941028475761414     </span>│\n",
       "│<span style=\"color: #008080; text-decoration-color: #008080\">         test_loss         </span>│<span style=\"color: #800080; text-decoration-color: #800080\">     9.631075859069824     </span>│\n",
       "│<span style=\"color: #008080; text-decoration-color: #008080\">         test_mse          </span>│<span style=\"color: #800080; text-decoration-color: #800080\">    0.20079787075519562    </span>│\n",
       "│<span style=\"color: #008080; text-decoration-color: #008080\">      test_precision       </span>│<span style=\"color: #800080; text-decoration-color: #800080\">    0.7864395976066589     </span>│\n",
       "│<span style=\"color: #008080; text-decoration-color: #008080\">        test_recall        </span>│<span style=\"color: #800080; text-decoration-color: #800080\">    0.8020351529121399     </span>│\n",
       "│<span style=\"color: #008080; text-decoration-color: #008080\">     test_total_spikes     </span>│<span style=\"color: #800080; text-decoration-color: #800080\">        25019882.0         </span>│\n",
       "└───────────────────────────┴───────────────────────────┘\n",
       "</pre>\n"
      ],
      "text/plain": [
       "┏━━━━━━━━━━━━━━━━━━━━━━━━━━━┳━━━━━━━━━━━━━━━━━━━━━━━━━━━┓\n",
       "┃\u001b[1m \u001b[0m\u001b[1m       Test metric       \u001b[0m\u001b[1m \u001b[0m┃\u001b[1m \u001b[0m\u001b[1m      DataLoader 0       \u001b[0m\u001b[1m \u001b[0m┃\n",
       "┡━━━━━━━━━━━━━━━━━━━━━━━━━━━╇━━━━━━━━━━━━━━━━━━━━━━━━━━━┩\n",
       "│\u001b[36m \u001b[0m\u001b[36m        test_acc         \u001b[0m\u001b[36m \u001b[0m│\u001b[35m \u001b[0m\u001b[35m   0.7992021441459656    \u001b[0m\u001b[35m \u001b[0m│\n",
       "│\u001b[36m \u001b[0m\u001b[36m         test_f1         \u001b[0m\u001b[36m \u001b[0m│\u001b[35m \u001b[0m\u001b[35m   0.7941028475761414    \u001b[0m\u001b[35m \u001b[0m│\n",
       "│\u001b[36m \u001b[0m\u001b[36m        test_loss        \u001b[0m\u001b[36m \u001b[0m│\u001b[35m \u001b[0m\u001b[35m    9.631075859069824    \u001b[0m\u001b[35m \u001b[0m│\n",
       "│\u001b[36m \u001b[0m\u001b[36m        test_mse         \u001b[0m\u001b[36m \u001b[0m│\u001b[35m \u001b[0m\u001b[35m   0.20079787075519562   \u001b[0m\u001b[35m \u001b[0m│\n",
       "│\u001b[36m \u001b[0m\u001b[36m     test_precision      \u001b[0m\u001b[36m \u001b[0m│\u001b[35m \u001b[0m\u001b[35m   0.7864395976066589    \u001b[0m\u001b[35m \u001b[0m│\n",
       "│\u001b[36m \u001b[0m\u001b[36m       test_recall       \u001b[0m\u001b[36m \u001b[0m│\u001b[35m \u001b[0m\u001b[35m   0.8020351529121399    \u001b[0m\u001b[35m \u001b[0m│\n",
       "│\u001b[36m \u001b[0m\u001b[36m    test_total_spikes    \u001b[0m\u001b[36m \u001b[0m│\u001b[35m \u001b[0m\u001b[35m       25019882.0        \u001b[0m\u001b[35m \u001b[0m│\n",
       "└───────────────────────────┴───────────────────────────┘\n"
      ]
     },
     "metadata": {},
     "output_type": "display_data"
    },
    {
     "name": "stdout",
     "output_type": "stream",
     "text": [
      "\u001b[32m2025-05-07 08:26:35.666\u001b[0m | \u001b[1mINFO    \u001b[0m | \u001b[36m__main__\u001b[0m:\u001b[36mobjective\u001b[0m:\u001b[36m74\u001b[0m - \u001b[1mEncoder: Burst Encoding,trial: 53, test_loss:9.631075859069824, test_mse:0.20079787075519562, test_acc:0.7992021441459656, test_f1:0.7941028475761414, test_total_spikes:25019882.0\u001b[0m\n"
     ]
    },
    {
     "name": "stderr",
     "output_type": "stream",
     "text": [
      "[I 2025-05-07 08:26:36,998] Trial 53 finished with value: 10.168556213378906 and parameters: {'threshold': 0.07090851207541435, 'slope': 8.107275688930079, 'beta': 0.7440672774049281, 'dropout_rate1': 0.20034293181105056, 'dropout_rate2': 0.5865898197113356, 'lr': 9.362082441139168e-05, 'weight_decay': 1.3936923384285494e-06, 'scheduler_factor': 0.4595170872743502, 'scheduler_patience': 8, 'max_window': 5, 'n_max': 4, 't_max': 0, 't_min': 0}. Best is trial 53 with value: 10.168556213378906.\n",
      "GPU available: True (cuda), used: True\n",
      "TPU available: False, using: 0 TPU cores\n",
      "HPU available: False, using: 0 HPUs\n",
      "LOCAL_RANK: 0 - CUDA_VISIBLE_DEVICES: [0]\n"
     ]
    },
    {
     "data": {
      "application/vnd.jupyter.widget-view+json": {
       "model_id": "60f77c9d1e2d462f8d8679dc480aafe6",
       "version_major": 2,
       "version_minor": 0
      },
      "text/plain": [
       "Sanity Checking: |          | 0/? [00:00<?, ?it/s]"
      ]
     },
     "metadata": {},
     "output_type": "display_data"
    },
    {
     "data": {
      "application/vnd.jupyter.widget-view+json": {
       "model_id": "7ffdf6e77ef44b5eb68ea8895dfe9234",
       "version_major": 2,
       "version_minor": 0
      },
      "text/plain": [
       "Training: |          | 0/? [00:00<?, ?it/s]"
      ]
     },
     "metadata": {},
     "output_type": "display_data"
    },
    {
     "data": {
      "application/vnd.jupyter.widget-view+json": {
       "model_id": "605091ef295149589492109539851d45",
       "version_major": 2,
       "version_minor": 0
      },
      "text/plain": [
       "Validation: |          | 0/? [00:00<?, ?it/s]"
      ]
     },
     "metadata": {},
     "output_type": "display_data"
    },
    {
     "name": "stderr",
     "output_type": "stream",
     "text": [
      "[I 2025-05-07 08:26:48,695] Trial 54 pruned. Trial was pruned at epoch 0.\n",
      "GPU available: True (cuda), used: True\n",
      "TPU available: False, using: 0 TPU cores\n",
      "HPU available: False, using: 0 HPUs\n",
      "LOCAL_RANK: 0 - CUDA_VISIBLE_DEVICES: [0]\n"
     ]
    },
    {
     "data": {
      "application/vnd.jupyter.widget-view+json": {
       "model_id": "2b4fba83921b4defb8caed3a64f530be",
       "version_major": 2,
       "version_minor": 0
      },
      "text/plain": [
       "Sanity Checking: |          | 0/? [00:00<?, ?it/s]"
      ]
     },
     "metadata": {},
     "output_type": "display_data"
    },
    {
     "data": {
      "application/vnd.jupyter.widget-view+json": {
       "model_id": "933fc0cfe03e4e879db3c261fbd8780b",
       "version_major": 2,
       "version_minor": 0
      },
      "text/plain": [
       "Training: |          | 0/? [00:00<?, ?it/s]"
      ]
     },
     "metadata": {},
     "output_type": "display_data"
    },
    {
     "data": {
      "application/vnd.jupyter.widget-view+json": {
       "model_id": "9ef835749bf046ddae794d9445e05de7",
       "version_major": 2,
       "version_minor": 0
      },
      "text/plain": [
       "Validation: |          | 0/? [00:00<?, ?it/s]"
      ]
     },
     "metadata": {},
     "output_type": "display_data"
    },
    {
     "data": {
      "application/vnd.jupyter.widget-view+json": {
       "model_id": "992bf9a393824843b514da9c7495f301",
       "version_major": 2,
       "version_minor": 0
      },
      "text/plain": [
       "Validation: |          | 0/? [00:00<?, ?it/s]"
      ]
     },
     "metadata": {},
     "output_type": "display_data"
    },
    {
     "data": {
      "application/vnd.jupyter.widget-view+json": {
       "model_id": "bc6f90a8d02943e3841a3575f85dae75",
       "version_major": 2,
       "version_minor": 0
      },
      "text/plain": [
       "Validation: |          | 0/? [00:00<?, ?it/s]"
      ]
     },
     "metadata": {},
     "output_type": "display_data"
    },
    {
     "data": {
      "application/vnd.jupyter.widget-view+json": {
       "model_id": "9cc5e9e0525546ae8985c07b20d233cc",
       "version_major": 2,
       "version_minor": 0
      },
      "text/plain": [
       "Validation: |          | 0/? [00:00<?, ?it/s]"
      ]
     },
     "metadata": {},
     "output_type": "display_data"
    },
    {
     "data": {
      "application/vnd.jupyter.widget-view+json": {
       "model_id": "0622e23b4b0d4455a0c51c9fc3f1d616",
       "version_major": 2,
       "version_minor": 0
      },
      "text/plain": [
       "Validation: |          | 0/? [00:00<?, ?it/s]"
      ]
     },
     "metadata": {},
     "output_type": "display_data"
    },
    {
     "data": {
      "application/vnd.jupyter.widget-view+json": {
       "model_id": "560e075b9bbd46b7b6939615f4770188",
       "version_major": 2,
       "version_minor": 0
      },
      "text/plain": [
       "Validation: |          | 0/? [00:00<?, ?it/s]"
      ]
     },
     "metadata": {},
     "output_type": "display_data"
    },
    {
     "data": {
      "application/vnd.jupyter.widget-view+json": {
       "model_id": "deb21ecacdfb44a9be664f15a8feb0a7",
       "version_major": 2,
       "version_minor": 0
      },
      "text/plain": [
       "Validation: |          | 0/? [00:00<?, ?it/s]"
      ]
     },
     "metadata": {},
     "output_type": "display_data"
    },
    {
     "data": {
      "application/vnd.jupyter.widget-view+json": {
       "model_id": "68e3aae15d644eee9926eb259f3c8d9b",
       "version_major": 2,
       "version_minor": 0
      },
      "text/plain": [
       "Validation: |          | 0/? [00:00<?, ?it/s]"
      ]
     },
     "metadata": {},
     "output_type": "display_data"
    },
    {
     "data": {
      "application/vnd.jupyter.widget-view+json": {
       "model_id": "32574309684a46949a1afeb5acd5a8e5",
       "version_major": 2,
       "version_minor": 0
      },
      "text/plain": [
       "Validation: |          | 0/? [00:00<?, ?it/s]"
      ]
     },
     "metadata": {},
     "output_type": "display_data"
    },
    {
     "data": {
      "application/vnd.jupyter.widget-view+json": {
       "model_id": "01e3744d42b649b3916ffcc0fc7a8245",
       "version_major": 2,
       "version_minor": 0
      },
      "text/plain": [
       "Validation: |          | 0/? [00:00<?, ?it/s]"
      ]
     },
     "metadata": {},
     "output_type": "display_data"
    },
    {
     "data": {
      "application/vnd.jupyter.widget-view+json": {
       "model_id": "bd4f4ace1cef4c92982080ce120b0324",
       "version_major": 2,
       "version_minor": 0
      },
      "text/plain": [
       "Validation: |          | 0/? [00:00<?, ?it/s]"
      ]
     },
     "metadata": {},
     "output_type": "display_data"
    },
    {
     "data": {
      "application/vnd.jupyter.widget-view+json": {
       "model_id": "b299d4fd4d4142adaba164703467c322",
       "version_major": 2,
       "version_minor": 0
      },
      "text/plain": [
       "Validation: |          | 0/? [00:00<?, ?it/s]"
      ]
     },
     "metadata": {},
     "output_type": "display_data"
    },
    {
     "data": {
      "application/vnd.jupyter.widget-view+json": {
       "model_id": "19c2ea9d35aa4bde9d36bdc8312dc040",
       "version_major": 2,
       "version_minor": 0
      },
      "text/plain": [
       "Validation: |          | 0/? [00:00<?, ?it/s]"
      ]
     },
     "metadata": {},
     "output_type": "display_data"
    },
    {
     "data": {
      "application/vnd.jupyter.widget-view+json": {
       "model_id": "32a97bc9427745968d7386ccc8aff8a5",
       "version_major": 2,
       "version_minor": 0
      },
      "text/plain": [
       "Validation: |          | 0/? [00:00<?, ?it/s]"
      ]
     },
     "metadata": {},
     "output_type": "display_data"
    },
    {
     "data": {
      "application/vnd.jupyter.widget-view+json": {
       "model_id": "6315ea50b00948d4b8300ce9fe7b80da",
       "version_major": 2,
       "version_minor": 0
      },
      "text/plain": [
       "Validation: |          | 0/? [00:00<?, ?it/s]"
      ]
     },
     "metadata": {},
     "output_type": "display_data"
    },
    {
     "data": {
      "application/vnd.jupyter.widget-view+json": {
       "model_id": "d739d93297af49a2aeee22f977751948",
       "version_major": 2,
       "version_minor": 0
      },
      "text/plain": [
       "Validation: |          | 0/? [00:00<?, ?it/s]"
      ]
     },
     "metadata": {},
     "output_type": "display_data"
    },
    {
     "data": {
      "application/vnd.jupyter.widget-view+json": {
       "model_id": "c6463718c0354c0ba08b2c7cc32d171d",
       "version_major": 2,
       "version_minor": 0
      },
      "text/plain": [
       "Validation: |          | 0/? [00:00<?, ?it/s]"
      ]
     },
     "metadata": {},
     "output_type": "display_data"
    },
    {
     "data": {
      "application/vnd.jupyter.widget-view+json": {
       "model_id": "0b41cadfe4254a838d42b87acc44d332",
       "version_major": 2,
       "version_minor": 0
      },
      "text/plain": [
       "Validation: |          | 0/? [00:00<?, ?it/s]"
      ]
     },
     "metadata": {},
     "output_type": "display_data"
    },
    {
     "data": {
      "application/vnd.jupyter.widget-view+json": {
       "model_id": "7d063078d7804a13a82f06d1c34df489",
       "version_major": 2,
       "version_minor": 0
      },
      "text/plain": [
       "Validation: |          | 0/? [00:00<?, ?it/s]"
      ]
     },
     "metadata": {},
     "output_type": "display_data"
    },
    {
     "data": {
      "application/vnd.jupyter.widget-view+json": {
       "model_id": "6b715d66dc1447558010a3dcaa39f741",
       "version_major": 2,
       "version_minor": 0
      },
      "text/plain": [
       "Validation: |          | 0/? [00:00<?, ?it/s]"
      ]
     },
     "metadata": {},
     "output_type": "display_data"
    },
    {
     "data": {
      "application/vnd.jupyter.widget-view+json": {
       "model_id": "9f8b5ac8b9014f199fd7411595e1f7ba",
       "version_major": 2,
       "version_minor": 0
      },
      "text/plain": [
       "Validation: |          | 0/? [00:00<?, ?it/s]"
      ]
     },
     "metadata": {},
     "output_type": "display_data"
    },
    {
     "data": {
      "application/vnd.jupyter.widget-view+json": {
       "model_id": "37b9d71cbc714f2db1ee1d45b427ac58",
       "version_major": 2,
       "version_minor": 0
      },
      "text/plain": [
       "Validation: |          | 0/? [00:00<?, ?it/s]"
      ]
     },
     "metadata": {},
     "output_type": "display_data"
    },
    {
     "data": {
      "application/vnd.jupyter.widget-view+json": {
       "model_id": "66d6a3b0d5f442d5b34e1123e240b21e",
       "version_major": 2,
       "version_minor": 0
      },
      "text/plain": [
       "Validation: |          | 0/? [00:00<?, ?it/s]"
      ]
     },
     "metadata": {},
     "output_type": "display_data"
    },
    {
     "data": {
      "application/vnd.jupyter.widget-view+json": {
       "model_id": "619b234a8b2545d7b278d8027b577810",
       "version_major": 2,
       "version_minor": 0
      },
      "text/plain": [
       "Validation: |          | 0/? [00:00<?, ?it/s]"
      ]
     },
     "metadata": {},
     "output_type": "display_data"
    },
    {
     "data": {
      "application/vnd.jupyter.widget-view+json": {
       "model_id": "f7ed02199b9a40b795a74f102e01fa5b",
       "version_major": 2,
       "version_minor": 0
      },
      "text/plain": [
       "Validation: |          | 0/? [00:00<?, ?it/s]"
      ]
     },
     "metadata": {},
     "output_type": "display_data"
    },
    {
     "data": {
      "application/vnd.jupyter.widget-view+json": {
       "model_id": "ff76c446d2fa4c64872afe45537d7a5e",
       "version_major": 2,
       "version_minor": 0
      },
      "text/plain": [
       "Validation: |          | 0/? [00:00<?, ?it/s]"
      ]
     },
     "metadata": {},
     "output_type": "display_data"
    },
    {
     "name": "stderr",
     "output_type": "stream",
     "text": [
      "LOCAL_RANK: 0 - CUDA_VISIBLE_DEVICES: [0]\n"
     ]
    },
    {
     "data": {
      "application/vnd.jupyter.widget-view+json": {
       "model_id": "8426d652d39f4ac89fd9978332af15d9",
       "version_major": 2,
       "version_minor": 0
      },
      "text/plain": [
       "Testing: |          | 0/? [00:00<?, ?it/s]"
      ]
     },
     "metadata": {},
     "output_type": "display_data"
    },
    {
     "data": {
      "text/html": [
       "<pre style=\"white-space:pre;overflow-x:auto;line-height:normal;font-family:Menlo,'DejaVu Sans Mono',consolas,'Courier New',monospace\">┏━━━━━━━━━━━━━━━━━━━━━━━━━━━┳━━━━━━━━━━━━━━━━━━━━━━━━━━━┓\n",
       "┃<span style=\"font-weight: bold\">        Test metric        </span>┃<span style=\"font-weight: bold\">       DataLoader 0        </span>┃\n",
       "┡━━━━━━━━━━━━━━━━━━━━━━━━━━━╇━━━━━━━━━━━━━━━━━━━━━━━━━━━┩\n",
       "│<span style=\"color: #008080; text-decoration-color: #008080\">         test_acc          </span>│<span style=\"color: #800080; text-decoration-color: #800080\">    0.7380319237709045     </span>│\n",
       "│<span style=\"color: #008080; text-decoration-color: #008080\">          test_f1          </span>│<span style=\"color: #800080; text-decoration-color: #800080\">    0.7806776165962219     </span>│\n",
       "│<span style=\"color: #008080; text-decoration-color: #008080\">         test_loss         </span>│<span style=\"color: #800080; text-decoration-color: #800080\">    12.105426788330078     </span>│\n",
       "│<span style=\"color: #008080; text-decoration-color: #008080\">         test_mse          </span>│<span style=\"color: #800080; text-decoration-color: #800080\">    0.26196807622909546    </span>│\n",
       "│<span style=\"color: #008080; text-decoration-color: #008080\">      test_precision       </span>│<span style=\"color: #800080; text-decoration-color: #800080\">    0.6613055467605591     </span>│\n",
       "│<span style=\"color: #008080; text-decoration-color: #008080\">        test_recall        </span>│<span style=\"color: #800080; text-decoration-color: #800080\">    0.9532331824302673     </span>│\n",
       "│<span style=\"color: #008080; text-decoration-color: #008080\">     test_total_spikes     </span>│<span style=\"color: #800080; text-decoration-color: #800080\">        20279166.0         </span>│\n",
       "└───────────────────────────┴───────────────────────────┘\n",
       "</pre>\n"
      ],
      "text/plain": [
       "┏━━━━━━━━━━━━━━━━━━━━━━━━━━━┳━━━━━━━━━━━━━━━━━━━━━━━━━━━┓\n",
       "┃\u001b[1m \u001b[0m\u001b[1m       Test metric       \u001b[0m\u001b[1m \u001b[0m┃\u001b[1m \u001b[0m\u001b[1m      DataLoader 0       \u001b[0m\u001b[1m \u001b[0m┃\n",
       "┡━━━━━━━━━━━━━━━━━━━━━━━━━━━╇━━━━━━━━━━━━━━━━━━━━━━━━━━━┩\n",
       "│\u001b[36m \u001b[0m\u001b[36m        test_acc         \u001b[0m\u001b[36m \u001b[0m│\u001b[35m \u001b[0m\u001b[35m   0.7380319237709045    \u001b[0m\u001b[35m \u001b[0m│\n",
       "│\u001b[36m \u001b[0m\u001b[36m         test_f1         \u001b[0m\u001b[36m \u001b[0m│\u001b[35m \u001b[0m\u001b[35m   0.7806776165962219    \u001b[0m\u001b[35m \u001b[0m│\n",
       "│\u001b[36m \u001b[0m\u001b[36m        test_loss        \u001b[0m\u001b[36m \u001b[0m│\u001b[35m \u001b[0m\u001b[35m   12.105426788330078    \u001b[0m\u001b[35m \u001b[0m│\n",
       "│\u001b[36m \u001b[0m\u001b[36m        test_mse         \u001b[0m\u001b[36m \u001b[0m│\u001b[35m \u001b[0m\u001b[35m   0.26196807622909546   \u001b[0m\u001b[35m \u001b[0m│\n",
       "│\u001b[36m \u001b[0m\u001b[36m     test_precision      \u001b[0m\u001b[36m \u001b[0m│\u001b[35m \u001b[0m\u001b[35m   0.6613055467605591    \u001b[0m\u001b[35m \u001b[0m│\n",
       "│\u001b[36m \u001b[0m\u001b[36m       test_recall       \u001b[0m\u001b[36m \u001b[0m│\u001b[35m \u001b[0m\u001b[35m   0.9532331824302673    \u001b[0m\u001b[35m \u001b[0m│\n",
       "│\u001b[36m \u001b[0m\u001b[36m    test_total_spikes    \u001b[0m\u001b[36m \u001b[0m│\u001b[35m \u001b[0m\u001b[35m       20279166.0        \u001b[0m\u001b[35m \u001b[0m│\n",
       "└───────────────────────────┴───────────────────────────┘\n"
      ]
     },
     "metadata": {},
     "output_type": "display_data"
    },
    {
     "name": "stdout",
     "output_type": "stream",
     "text": [
      "\u001b[32m2025-05-07 08:29:24.163\u001b[0m | \u001b[1mINFO    \u001b[0m | \u001b[36m__main__\u001b[0m:\u001b[36mobjective\u001b[0m:\u001b[36m74\u001b[0m - \u001b[1mEncoder: Burst Encoding,trial: 55, test_loss:12.105426788330078, test_mse:0.26196807622909546, test_acc:0.7380319237709045, test_f1:0.7806776165962219, test_total_spikes:20279166.0\u001b[0m\n"
     ]
    },
    {
     "name": "stderr",
     "output_type": "stream",
     "text": [
      "[I 2025-05-07 08:29:25,477] Trial 55 finished with value: 12.73603630065918 and parameters: {'threshold': 0.0398863898955059, 'slope': 18.522680857220692, 'beta': 0.7809379322752477, 'dropout_rate1': 0.5100500559710461, 'dropout_rate2': 0.730158315841459, 'lr': 9.379778169610137e-05, 'weight_decay': 4.3660072956328376e-05, 'scheduler_factor': 0.6932955598656476, 'scheduler_patience': 6, 'max_window': 11, 'n_max': 9, 't_max': 0, 't_min': 0}. Best is trial 53 with value: 10.168556213378906.\n",
      "GPU available: True (cuda), used: True\n",
      "TPU available: False, using: 0 TPU cores\n",
      "HPU available: False, using: 0 HPUs\n",
      "LOCAL_RANK: 0 - CUDA_VISIBLE_DEVICES: [0]\n"
     ]
    },
    {
     "data": {
      "application/vnd.jupyter.widget-view+json": {
       "model_id": "5e50358e5d2e4bd49c675f0b8bbeb3cf",
       "version_major": 2,
       "version_minor": 0
      },
      "text/plain": [
       "Sanity Checking: |          | 0/? [00:00<?, ?it/s]"
      ]
     },
     "metadata": {},
     "output_type": "display_data"
    },
    {
     "data": {
      "application/vnd.jupyter.widget-view+json": {
       "model_id": "7a547b3e3f3d4cadbbd9fb33fd40cca7",
       "version_major": 2,
       "version_minor": 0
      },
      "text/plain": [
       "Training: |          | 0/? [00:00<?, ?it/s]"
      ]
     },
     "metadata": {},
     "output_type": "display_data"
    },
    {
     "data": {
      "application/vnd.jupyter.widget-view+json": {
       "model_id": "5783a57628114ca9baf64e2872ca8563",
       "version_major": 2,
       "version_minor": 0
      },
      "text/plain": [
       "Validation: |          | 0/? [00:00<?, ?it/s]"
      ]
     },
     "metadata": {},
     "output_type": "display_data"
    },
    {
     "data": {
      "application/vnd.jupyter.widget-view+json": {
       "model_id": "c412aef47aea4aa4871b7e4d51531d99",
       "version_major": 2,
       "version_minor": 0
      },
      "text/plain": [
       "Validation: |          | 0/? [00:00<?, ?it/s]"
      ]
     },
     "metadata": {},
     "output_type": "display_data"
    },
    {
     "data": {
      "application/vnd.jupyter.widget-view+json": {
       "model_id": "27810be2381a43f386fd9abae16728ba",
       "version_major": 2,
       "version_minor": 0
      },
      "text/plain": [
       "Validation: |          | 0/? [00:00<?, ?it/s]"
      ]
     },
     "metadata": {},
     "output_type": "display_data"
    },
    {
     "data": {
      "application/vnd.jupyter.widget-view+json": {
       "model_id": "b5e290639e7e42cabbebce17b7ad2add",
       "version_major": 2,
       "version_minor": 0
      },
      "text/plain": [
       "Validation: |          | 0/? [00:00<?, ?it/s]"
      ]
     },
     "metadata": {},
     "output_type": "display_data"
    },
    {
     "data": {
      "application/vnd.jupyter.widget-view+json": {
       "model_id": "f82fac20635b4d47a18d7129827a8cb6",
       "version_major": 2,
       "version_minor": 0
      },
      "text/plain": [
       "Validation: |          | 0/? [00:00<?, ?it/s]"
      ]
     },
     "metadata": {},
     "output_type": "display_data"
    },
    {
     "data": {
      "application/vnd.jupyter.widget-view+json": {
       "model_id": "df10c0643af94edfbabfb58ec772ba97",
       "version_major": 2,
       "version_minor": 0
      },
      "text/plain": [
       "Validation: |          | 0/? [00:00<?, ?it/s]"
      ]
     },
     "metadata": {},
     "output_type": "display_data"
    },
    {
     "data": {
      "application/vnd.jupyter.widget-view+json": {
       "model_id": "2b9155b7fd894e39a3bea215cad2499c",
       "version_major": 2,
       "version_minor": 0
      },
      "text/plain": [
       "Validation: |          | 0/? [00:00<?, ?it/s]"
      ]
     },
     "metadata": {},
     "output_type": "display_data"
    },
    {
     "name": "stderr",
     "output_type": "stream",
     "text": [
      "[I 2025-05-07 08:30:13,608] Trial 56 pruned. Trial was pruned at epoch 6.\n",
      "GPU available: True (cuda), used: True\n",
      "TPU available: False, using: 0 TPU cores\n",
      "HPU available: False, using: 0 HPUs\n",
      "LOCAL_RANK: 0 - CUDA_VISIBLE_DEVICES: [0]\n"
     ]
    },
    {
     "data": {
      "application/vnd.jupyter.widget-view+json": {
       "model_id": "be24933cd43d4fc99c3558115c95a424",
       "version_major": 2,
       "version_minor": 0
      },
      "text/plain": [
       "Sanity Checking: |          | 0/? [00:00<?, ?it/s]"
      ]
     },
     "metadata": {},
     "output_type": "display_data"
    },
    {
     "data": {
      "application/vnd.jupyter.widget-view+json": {
       "model_id": "fe381b005fc4477d97839f6b7e6e8d61",
       "version_major": 2,
       "version_minor": 0
      },
      "text/plain": [
       "Training: |          | 0/? [00:00<?, ?it/s]"
      ]
     },
     "metadata": {},
     "output_type": "display_data"
    },
    {
     "data": {
      "application/vnd.jupyter.widget-view+json": {
       "model_id": "1e51b2a44d854142afa74f16a0e5907f",
       "version_major": 2,
       "version_minor": 0
      },
      "text/plain": [
       "Validation: |          | 0/? [00:00<?, ?it/s]"
      ]
     },
     "metadata": {},
     "output_type": "display_data"
    },
    {
     "data": {
      "application/vnd.jupyter.widget-view+json": {
       "model_id": "c3604405208b4364821bf61642978e45",
       "version_major": 2,
       "version_minor": 0
      },
      "text/plain": [
       "Validation: |          | 0/? [00:00<?, ?it/s]"
      ]
     },
     "metadata": {},
     "output_type": "display_data"
    },
    {
     "data": {
      "application/vnd.jupyter.widget-view+json": {
       "model_id": "c2a25c482e6d4919b30bb979e8733da2",
       "version_major": 2,
       "version_minor": 0
      },
      "text/plain": [
       "Validation: |          | 0/? [00:00<?, ?it/s]"
      ]
     },
     "metadata": {},
     "output_type": "display_data"
    },
    {
     "data": {
      "application/vnd.jupyter.widget-view+json": {
       "model_id": "b4199bc34d8648e18f55cbc2603b3ec7",
       "version_major": 2,
       "version_minor": 0
      },
      "text/plain": [
       "Validation: |          | 0/? [00:00<?, ?it/s]"
      ]
     },
     "metadata": {},
     "output_type": "display_data"
    },
    {
     "data": {
      "application/vnd.jupyter.widget-view+json": {
       "model_id": "4a10ee2679ea405682d31d731868999b",
       "version_major": 2,
       "version_minor": 0
      },
      "text/plain": [
       "Validation: |          | 0/? [00:00<?, ?it/s]"
      ]
     },
     "metadata": {},
     "output_type": "display_data"
    },
    {
     "data": {
      "application/vnd.jupyter.widget-view+json": {
       "model_id": "af57740475be4e749c7022237fd62f08",
       "version_major": 2,
       "version_minor": 0
      },
      "text/plain": [
       "Validation: |          | 0/? [00:00<?, ?it/s]"
      ]
     },
     "metadata": {},
     "output_type": "display_data"
    },
    {
     "data": {
      "application/vnd.jupyter.widget-view+json": {
       "model_id": "2812b504a13e4057b06b997a65ab75f5",
       "version_major": 2,
       "version_minor": 0
      },
      "text/plain": [
       "Validation: |          | 0/? [00:00<?, ?it/s]"
      ]
     },
     "metadata": {},
     "output_type": "display_data"
    },
    {
     "data": {
      "application/vnd.jupyter.widget-view+json": {
       "model_id": "c29c297d1bd641b8b93b74b6f8acf835",
       "version_major": 2,
       "version_minor": 0
      },
      "text/plain": [
       "Validation: |          | 0/? [00:00<?, ?it/s]"
      ]
     },
     "metadata": {},
     "output_type": "display_data"
    },
    {
     "name": "stderr",
     "output_type": "stream",
     "text": [
      "[I 2025-05-07 08:31:09,312] Trial 57 pruned. Trial was pruned at epoch 7.\n",
      "GPU available: True (cuda), used: True\n",
      "TPU available: False, using: 0 TPU cores\n",
      "HPU available: False, using: 0 HPUs\n",
      "LOCAL_RANK: 0 - CUDA_VISIBLE_DEVICES: [0]\n"
     ]
    },
    {
     "data": {
      "application/vnd.jupyter.widget-view+json": {
       "model_id": "3b1d0ba0105146efab2835dc03c584a0",
       "version_major": 2,
       "version_minor": 0
      },
      "text/plain": [
       "Sanity Checking: |          | 0/? [00:00<?, ?it/s]"
      ]
     },
     "metadata": {},
     "output_type": "display_data"
    },
    {
     "data": {
      "application/vnd.jupyter.widget-view+json": {
       "model_id": "a561c5caa289411b95c21391a64a59b2",
       "version_major": 2,
       "version_minor": 0
      },
      "text/plain": [
       "Training: |          | 0/? [00:00<?, ?it/s]"
      ]
     },
     "metadata": {},
     "output_type": "display_data"
    },
    {
     "data": {
      "application/vnd.jupyter.widget-view+json": {
       "model_id": "eaef4f428647408cb912f9d9b0990565",
       "version_major": 2,
       "version_minor": 0
      },
      "text/plain": [
       "Validation: |          | 0/? [00:00<?, ?it/s]"
      ]
     },
     "metadata": {},
     "output_type": "display_data"
    },
    {
     "name": "stderr",
     "output_type": "stream",
     "text": [
      "[I 2025-05-07 08:31:20,049] Trial 58 pruned. Trial was pruned at epoch 0.\n"
     ]
    }
   ],
   "source": [
    "for trial in filtered_trials:\n",
    "    study.enqueue_trial(params=trial.params)\n",
    "\n",
    "study.optimize(objective, n_trials=len(filtered_trials))"
   ]
  },
  {
   "cell_type": "code",
   "execution_count": 8,
   "id": "10c76e9c",
   "metadata": {},
   "outputs": [
    {
     "name": "stdout",
     "output_type": "stream",
     "text": [
      "\u001b[32m2025-05-06 20:36:15.798\u001b[0m | \u001b[1mINFO    \u001b[0m | \u001b[36m__main__\u001b[0m:\u001b[36m<module>\u001b[0m:\u001b[36m1\u001b[0m - \u001b[1mEncoder: Burst Encoding,trial, best_param: {'threshold': 0.07090851207541435, 'slope': 8.107275688930079, 'beta': 0.7440672774049281, 'dropout_rate1': 0.20034293181105056, 'dropout_rate2': 0.5865898197113356, 'lr': 9.362082441139168e-05, 'weight_decay': 1.3936923384285494e-06, 'scheduler_factor': 0.4595170872743502, 'scheduler_patience': 8, 'max_window': 5, 'n_max': 4, 't_max': 0, 't_min': 0}\u001b[0m\n",
      "\u001b[32m2025-05-06 20:36:16.180\u001b[0m | \u001b[1mINFO    \u001b[0m | \u001b[36m__main__\u001b[0m:\u001b[36m<module>\u001b[0m:\u001b[36m2\u001b[0m - \u001b[1mEncoder: Burst Encoding,trial, best_score: 10.841240882873535\u001b[0m\n"
     ]
    }
   ],
   "source": [
    "logger.info(f\"Encoder: Burst Encoding,trial, best_param: {study.best_params}\")\n",
    "logger.info(f\"Encoder: Burst Encoding,trial, best_score: {study.best_value}\")"
   ]
  },
  {
   "cell_type": "code",
   "execution_count": null,
   "id": "8eb468ce",
   "metadata": {},
   "outputs": [],
   "source": []
  }
 ],
 "metadata": {
  "kernelspec": {
   "display_name": ".venv",
   "language": "python",
   "name": "python3"
  },
  "language_info": {
   "codemirror_mode": {
    "name": "ipython",
    "version": 3
   },
   "file_extension": ".py",
   "mimetype": "text/x-python",
   "name": "python",
   "nbconvert_exporter": "python",
   "pygments_lexer": "ipython3",
   "version": "3.12.9"
  }
 },
 "nbformat": 4,
 "nbformat_minor": 5
}
