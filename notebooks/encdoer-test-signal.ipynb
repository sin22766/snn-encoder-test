{
 "cells": [
  {
   "cell_type": "code",
   "execution_count": 1,
   "id": "cf37d7f9-d2df-465d-9dc9-2b9116e7a32d",
   "metadata": {},
   "outputs": [],
   "source": [
    "from dataset import CHBMITDataset\n",
    "\n",
    "data_path = \"./CHB-MIT/processed\"\n",
    "dataset = CHBMITDataset(data_path)"
   ]
  },
  {
   "cell_type": "code",
   "execution_count": 2,
   "id": "41383f9c-39ae-4e3e-835f-96067b807595",
   "metadata": {},
   "outputs": [],
   "source": [
    "from torch.utils.data import DataLoader\n",
    "\n",
    "data_loader = DataLoader(dataset, batch_size=32, shuffle=True, num_workers=4)"
   ]
  },
  {
   "cell_type": "code",
   "execution_count": 3,
   "id": "2428ff77-4738-49ef-8f3c-a2893314064d",
   "metadata": {},
   "outputs": [],
   "source": [
    "test_data, test_label = next(iter(data_loader))"
   ]
  },
  {
   "cell_type": "code",
   "execution_count": 4,
   "id": "6e521667-6281-478f-93e3-bfb03df0e4b5",
   "metadata": {},
   "outputs": [],
   "source": [
    "import torch\n",
    "from utils.preprocess import VectorizeSTFT\n",
    "\n",
    "stft_data = VectorizeSTFT(test_data)\n",
    "magnitudes = torch.abs(stft_data)"
   ]
  },
  {
   "cell_type": "code",
   "execution_count": 5,
   "id": "2c9042bf-7b7d-4576-9dab-91c888ec43e6",
   "metadata": {},
   "outputs": [],
   "source": [
    "def normalize(x: torch.Tensor) -> torch.Tensor:\n",
    "    x_min = x.min(dim=-1, keepdim=True).values\n",
    "    x_max = x.max(dim=-1, keepdim=True).values\n",
    "\n",
    "    diff = x_max - x_min\n",
    "    diff[diff == 0] = 1.0\n",
    "\n",
    "    return (x - x_min) / diff"
   ]
  },
  {
   "cell_type": "code",
   "execution_count": 6,
   "id": "73f92073-cd3c-428c-a34b-c40f2538dae5",
   "metadata": {},
   "outputs": [],
   "source": [
    "normalized_magnitudes = normalize(magnitudes)"
   ]
  },
  {
   "cell_type": "code",
   "execution_count": 7,
   "id": "67bcd455-0c1b-418c-a7e3-b709041ee001",
   "metadata": {},
   "outputs": [],
   "source": [
    "from encoder import BSAEncoder\n",
    "\n",
    "bsa_encoder = BSAEncoder()\n",
    "encoded_data = bsa_encoder.encode(magnitudes)\n",
    "decoded_data = bsa_encoder.decode(encoded_data)"
   ]
  },
  {
   "cell_type": "code",
   "execution_count": 8,
   "id": "16c3cf0b-1aa2-4de4-9579-ab876aeeffd4",
   "metadata": {},
   "outputs": [
    {
     "data": {
      "text/plain": [
       "torch.Size([32, 22, 129, 65])"
      ]
     },
     "execution_count": 8,
     "metadata": {},
     "output_type": "execute_result"
    }
   ],
   "source": [
    "decoded_data.shape"
   ]
  },
  {
   "cell_type": "code",
   "execution_count": 9,
   "id": "f91ec2fb-bd81-41e8-9572-c9c2e6392e6c",
   "metadata": {},
   "outputs": [
    {
     "data": {
      "text/plain": [
       "-49.40974426269531"
      ]
     },
     "execution_count": 9,
     "metadata": {},
     "output_type": "execute_result"
    }
   ],
   "source": [
    "from utils.snr import SNRCalculator\n",
    "\n",
    "SNRCalculator.calculate_overall_snr(magnitudes, decoded_data)"
   ]
  },
  {
   "cell_type": "markdown",
   "id": "e59cf700-f8ca-4f0f-8932-1a5a4434d03e",
   "metadata": {},
   "source": [
    "### Decoded with tuned parameter"
   ]
  },
  {
   "cell_type": "code",
   "execution_count": 10,
   "id": "4d4581e5-95a3-45c5-b8a6-8fffae5a660f",
   "metadata": {},
   "outputs": [],
   "source": [
    "params = {\n",
    "    \"win_size\": 5,\n",
    "    \"cutoff\": 0.06122595496894435,\n",
    "    \"threshold\": 0.39005882375740064,\n",
    "}\n",
    "\n",
    "tuned_bsa_encoder = BSAEncoder(**params)"
   ]
  },
  {
   "cell_type": "code",
   "execution_count": 11,
   "id": "9388407a-835f-49e6-8cbe-f8b6a454c147",
   "metadata": {},
   "outputs": [],
   "source": [
    "tuned_decoded_data = tuned_bsa_encoder.decode(encoded_data)"
   ]
  },
  {
   "cell_type": "code",
   "execution_count": 12,
   "id": "b195d8cf-824b-48e3-8405-e2315c2fc714",
   "metadata": {},
   "outputs": [
    {
     "data": {
      "text/plain": [
       "-50.42816925048828"
      ]
     },
     "execution_count": 12,
     "metadata": {},
     "output_type": "execute_result"
    }
   ],
   "source": [
    "SNRCalculator.calculate_overall_snr(magnitudes, tuned_decoded_data)"
   ]
  },
  {
   "cell_type": "code",
   "execution_count": null,
   "id": "d206796d-d219-44c5-82f5-745316f2a416",
   "metadata": {},
   "outputs": [],
   "source": []
  }
 ],
 "metadata": {
  "kernelspec": {
   "display_name": "Python 3 (ipykernel)",
   "language": "python",
   "name": "python3"
  },
  "language_info": {
   "codemirror_mode": {
    "name": "ipython",
    "version": 3
   },
   "file_extension": ".py",
   "mimetype": "text/x-python",
   "name": "python",
   "nbconvert_exporter": "python",
   "pygments_lexer": "ipython3",
   "version": "3.12.6"
  }
 },
 "nbformat": 4,
 "nbformat_minor": 5
}
